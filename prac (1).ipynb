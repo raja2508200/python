{
 "cells": [
  {
   "cell_type": "code",
   "execution_count": 7,
   "id": "97944e97-1cdc-4d4e-bbcc-f1e99ae58ebe",
   "metadata": {},
   "outputs": [
    {
     "name": "stdout",
     "output_type": "stream",
     "text": [
      "bxjhcxhzc 98989\n",
      "ip 98989\n"
     ]
    }
   ],
   "source": [
    "l={\"bxjhcxhzc\":98989}\n",
    "k={\"ip\":98989}\n",
    "for key, value in {**l, **k}.items():\n",
    "    print(key, value)"
   ]
  },
  {
   "cell_type": "markdown",
   "id": "ebe4a100-b858-4e1e-b289-f519d49b427e",
   "metadata": {},
   "source": [
    "#maximum numbers in dic \n",
    "exam_scores1= {\n",
    "    \"Alice\": 92,\n",
    "    \"Bob\": 85,\n",
    "    \"Charlie\": 78,\n",
    "    \"David\": 95,\n",
    "    \"Eve\": 88\n",
    "}\n",
    "\n",
    "maxi=max(exam_scores1,key=exam_scores1.get)\n",
    "print(maxi)\n",
    "print(exam_scores1[maxi])\n",
    "\n"
   ]
  },
  {
   "cell_type": "code",
   "execution_count": 5,
   "id": "73fa7495-d3ca-466e-92c2-06c368254d35",
   "metadata": {},
   "outputs": [
    {
     "data": {
      "text/plain": [
       "{'': 0}"
      ]
     },
     "execution_count": 5,
     "metadata": {},
     "output_type": "execute_result"
    }
   ],
   "source": [
    "exam_scores1= {\n",
    "    \"Alice\": 92,\n",
    "    \"Bob\": 85,\n",
    "    \"Charlie\": 78,\n",
    "    \"David\": 95,\n",
    "    \"Eve\": 88\n",
    "}\n",
    "\n",
    "key1=\"\"\n",
    "value1=0\n",
    "output={}\n",
    "for i,j in exam_scores1.items():\n",
    "    if value1>=j:\n",
    "        value1=j\n",
    "        key1=i\n",
    "output[key1]=value1       \n",
    "output\n"
   ]
  },
  {
   "cell_type": "code",
   "execution_count": 8,
   "id": "3b20f5c9-8cd5-492e-8ddc-02333f3efbe8",
   "metadata": {},
   "outputs": [
    {
     "name": "stdout",
     "output_type": "stream",
     "text": [
      "92\n"
     ]
    },
    {
     "data": {
      "text/plain": [
       "{'Charlie': 78}"
      ]
     },
     "execution_count": 8,
     "metadata": {},
     "output_type": "execute_result"
    }
   ],
   "source": [
    "exam_scores1= {\n",
    "    \"Alice\": 92,\n",
    "    \"Bob\": 85,\n",
    "    \"Charlie\": 78,\n",
    "    \"David\": 95,\n",
    "    \"Eve\": 88\n",
    "}\n",
    "\n",
    "key1=\"\"\n",
    "value1=0\n",
    "output={}\n",
    "\n",
    "for i in exam_scores1.values():\n",
    "    value1=i\n",
    "    print(value1)\n",
    "    break\n",
    "\n",
    "for i,j in exam_scores1.items():\n",
    "    if value1>=j:\n",
    "        value1=j\n",
    "        key1=i\n",
    "output[key1]=value1       \n",
    "output\n"
   ]
  },
  {
   "cell_type": "code",
   "execution_count": null,
   "id": "572cc4c3-33eb-4115-a20d-37626fa2fe8c",
   "metadata": {},
   "outputs": [],
   "source": []
  },
  {
   "cell_type": "code",
   "execution_count": null,
   "id": "f73d3f31",
   "metadata": {},
   "outputs": [],
   "source": [
    "from transformers import PegasusForConditionalGeneration, PegasusTokenizer\n",
    "\n",
    "def paraphrase_sentence(input_text, model_name='tuner007/pegasus_paraphrase'):\n",
    "    # Load the tokenizer and model\n",
    "    tokenizer = PegasusTokenizer.from_pretrained(model_name)\n",
    "    model = PegasusForConditionalGeneration.from_pretrained(model_name)\n",
    "\n",
    "    # Tokenize the text\n",
    "    tokens = tokenizer(input_text, truncation=True, padding='longest', return_tensors=\"pt\")\n",
    "\n",
    "    # Generate paraphrase\n",
    "    outputs = model.generate(**tokens)\n",
    "\n",
    "    # Decode the generated text\n",
    "    paraphrased_text = tokenizer.decode(outputs[0], skip_special_tokens=True)\n",
    "\n",
    "    return paraphrased_text\n",
    "\n",
    "# Example usage\n",
    "input_sentence = \"I need a simple example of how to use a library.\"\n",
    "paraphrased = paraphrase_sentence(input_sentence)\n",
    "print(\"Original:\", input_sentence)\n",
    "print(\"Paraphrased:\", paraphrased)\n"
   ]
  },
  {
   "cell_type": "code",
   "execution_count": null,
   "id": "6f71edf3",
   "metadata": {},
   "outputs": [],
   "source": [
    "from transformers import pipeline\n",
    "\n",
    "def paraphrase_sentence(input_text, model_name='t5-small', max_length=60):\n",
    "    # Load the paraphrasing pipeline\n",
    "    paraphrase_pipeline = pipeline(task=\"text2text-generation\", model=model_name, tokenizer=model_name)\n",
    "\n",
    "    # Generate paraphrase\n",
    "    paraphrased_text = paraphrase_pipeline(input_text, max_length=max_length)[0]['generated_text']\n",
    "\n",
    "    return paraphrased_text.strip()\n",
    "\n",
    "# Example usage\n",
    "input_sentence = \"I need a quick way to rephrase sentences.\"\n",
    "paraphrased = paraphrase_sentence(input_sentence)\n",
    "print(\"Original:\", input_sentence)\n",
    "print(\"Paraphrased:\", paraphrased)\n"
   ]
  },
  {
   "cell_type": "code",
   "execution_count": null,
   "id": "84824717",
   "metadata": {},
   "outputs": [],
   "source": [
    "def myfunc(n):\n",
    "  return lambda a : a * n\n",
    "\n",
    "\n",
    "\n",
    "mydoubler = myfunc(2)\n",
    "\n",
    "print(mydoubler(12))"
   ]
  },
  {
   "cell_type": "code",
   "execution_count": null,
   "id": "a86b986b",
   "metadata": {},
   "outputs": [],
   "source": [
    "import numpy as np"
   ]
  },
  {
   "cell_type": "code",
   "execution_count": 1,
   "id": "72f26656",
   "metadata": {},
   "outputs": [
    {
     "name": "stdout",
     "output_type": "stream",
     "text": [
      "{'David': 95, 'Alice': 92, 'Eve': 88, 'Bob': 85, 'Charlie': 78}\n"
     ]
    }
   ],
   "source": [
    "#desending \n",
    "exam_scores = {\n",
    "    \"Alice\": 92,\n",
    "    \"Bob\": 85,\n",
    "    \"Charlie\": 78,\n",
    "    \"David\": 95,\n",
    "    \"Eve\": 88\n",
    "}\n",
    "ne={}\n",
    "for i in range(len(exam_scores)):\n",
    "    maxi=max(exam_scores,key=exam_scores.get)\n",
    "    ne[maxi]=exam_scores[maxi]\n",
    "    del exam_scores[maxi]\n",
    "print(ne)\n",
    "\n"
   ]
  },
  {
   "cell_type": "code",
   "execution_count": null,
   "id": "4953c01e",
   "metadata": {},
   "outputs": [],
   "source": [
    "students={\"class1\":{\"name\":\"raja\",\"age\":23,\"dept\":\"EEE\"},\"class2\":{\"name\":\"mani\",\"age\":24,\"dept\":\"Ece\"}}\n",
    "print(students[\"class2\"][\"name\"])"
   ]
  },
  {
   "cell_type": "code",
   "execution_count": null,
   "id": "2cda5ef4",
   "metadata": {},
   "outputs": [],
   "source": [
    "a=6\n",
    "while a<10:\n",
    "    a*=2\n",
    "    print(a)\n",
    "\n"
   ]
  },
  {
   "cell_type": "code",
   "execution_count": 1,
   "id": "d558172a",
   "metadata": {},
   "outputs": [
    {
     "name": "stdout",
     "output_type": "stream",
     "text": [
      "{1: 2, 22: 1, 2: 3, 3: 1, 45: 2, 78: 1}\n"
     ]
    }
   ],
   "source": [
    "#count the duplictae value\n",
    "\n",
    "l=[1,22,2,2,2,3,45,45,78,1]\n",
    "new={}\n",
    "for i in l:\n",
    "    if i not in new:\n",
    "        new[i]=1\n",
    "    else:\n",
    "        new[i]=new[i]+1\n",
    "        \n",
    "        \n",
    "print(new)"
   ]
  },
  {
   "cell_type": "code",
   "execution_count": 2,
   "id": "cce04f82",
   "metadata": {},
   "outputs": [
    {
     "name": "stdout",
     "output_type": "stream",
     "text": [
      "{'father': {'name': 'raja', 'age': 24}, 'mother': {'age': 20}, 'child': {'name': 'durkutta', 'age': 4}}\n"
     ]
    }
   ],
   "source": [
    "\n",
    "#access the nester list\n",
    "\n",
    "family={\"father\":{\"name\":\"raja\",\"age\":24},\"mother\":{\"name\":\"durga\",\"age\":20},\"child\":{\"name\":\"durkutta\",\"age\":2}}\n",
    "family[\"child\"][\"age\"]=4\n",
    "del family[\"mother\"][\"name\"]\n",
    "print(family)"
   ]
  },
  {
   "cell_type": "code",
   "execution_count": null,
   "id": "91c218a0",
   "metadata": {},
   "outputs": [],
   "source": [
    "import numpy as np\n",
    "a=np.array([[[23,788],[122,455]],[[23,788],[122,455]]])\n",
    "print(a)"
   ]
  },
  {
   "cell_type": "code",
   "execution_count": null,
   "id": "df3376d8",
   "metadata": {},
   "outputs": [],
   "source": [
    "import numpy as np\n",
    "\n",
    "arr = np.array([1,2,3])\n",
    "\n",
    "print(arr.dtype)"
   ]
  },
  {
   "cell_type": "code",
   "execution_count": null,
   "id": "e2aa361a",
   "metadata": {},
   "outputs": [],
   "source": [
    "#merging 2 dict\n",
    "\n",
    "a = {\n",
    "    \"Alice\": 92,\n",
    "    \"Bob\": 85,\n",
    "    \"Charlie\": 78,\n",
    "    \"David\": 95,\n",
    "    \"Eve\": 88\n",
    "}\n",
    "b = {\n",
    "    \"raja\": 92,\n",
    "    \"mani\": 85,\n",
    "    \"siva\": 78,\n",
    "\n",
    "}\n",
    "\n",
    "c={\"kutty\":34,\n",
    "  \"guna\":23}\n",
    "\n",
    "\n",
    "a.update(b)\n",
    "merged_dict = {**a, **b,**c}\n",
    "\n",
    "print(a)\n",
    "print(merged_dict)"
   ]
  },
  {
   "cell_type": "code",
   "execution_count": 19,
   "id": "b3c9b894",
   "metadata": {},
   "outputs": [
    {
     "name": "stdout",
     "output_type": "stream",
     "text": [
      "{'product1': 25.99, 'product4': 34.75}\n"
     ]
    }
   ],
   "source": [
    "#print the highest value\n",
    "\n",
    "\n",
    "product_prices = {\n",
    "    'product1': 25.99,\n",
    "    'product2': 14.50,\n",
    "    'product3': 9.9,\n",
    "    'product4': 34.75,\n",
    "    'product5': 19.99\n",
    "}\n",
    "out={}\n",
    "\n",
    "threshold_price = 20.00\n",
    "for key,values in product_prices.items():\n",
    "    if values>threshold_price:\n",
    "        out[key]=values\n",
    "print(out)\n",
    "        "
   ]
  },
  {
   "cell_type": "code",
   "execution_count": 2,
   "id": "3594326c",
   "metadata": {},
   "outputs": [
    {
     "name": "stdout",
     "output_type": "stream",
     "text": [
      "{'This': 2, 'is': 1, 'a': 1, 'sample': 2, 'text.': 1, 'text': 2, 'contains': 1, 'some': 1, 'words.': 2, 'Sample': 1, 'for': 1, 'counting': 1}\n"
     ]
    }
   ],
   "source": [
    "#count the string value \n",
    "\n",
    "text = \"This is a sample text. This text contains some sample words. Sample text for counting words.\"\n",
    "text=text.split()\n",
    "new={}\n",
    "\n",
    "\n",
    "for i in text:\n",
    "    if i in new:\n",
    "        new[i]=new[i]+1\n",
    "    else:        \n",
    "        new[i]=1\n",
    "print(new)\n",
    "    \n",
    "   \n"
   ]
  },
  {
   "cell_type": "code",
   "execution_count": null,
   "id": "b69c6b4d",
   "metadata": {},
   "outputs": [],
   "source": [
    "word1 = \"listen\"\n",
    "word2 = \"silent\"\n"
   ]
  },
  {
   "cell_type": "code",
   "execution_count": null,
   "id": "c259938b",
   "metadata": {},
   "outputs": [],
   "source": [
    "\n",
    "#anagram code\n",
    "word1 = \"cinema\"\n",
    "word = \"icnema\"\n",
    "word=word.lower()\n",
    "l1=sorted(word)\n",
    "word1=word1.lower()\n",
    "l2=sorted(word1)\n",
    "print(l1)\n",
    "print(l2)\n",
    "if l1==l2:\n",
    "    print(\"its anagram\")\n",
    "else:\n",
    "    print(\"no\")"
   ]
  },
  {
   "cell_type": "code",
   "execution_count": null,
   "id": "6d8e2bdd",
   "metadata": {},
   "outputs": [],
   "source": [
    "import string\n",
    "def are_anagrams(word1, word2):\n",
    "    w1=''.join(word1.split())\n",
    "    w2=''.join(word2.split())\n",
    "    translator = str.maketrans( '','', string.punctuation)\n",
    "    r1 = w1.translate(translator)\n",
    "    r2 = w2.translate(translator)\n",
    "    r1=r1.lower()\n",
    "    r2=r2.lower()\n",
    "    r1=sorted(r1)\n",
    "    r2=sorted(r2)\n",
    "    if r1 == r2:\n",
    "        print(\"its anagram\")\n",
    "    else:\n",
    "        print(\"not a anagram\")\n",
    "        \n",
    "are_anagrams(\"Astronomer\", \"Moon starer\")"
   ]
  },
  {
   "cell_type": "code",
   "execution_count": 3,
   "id": "00597ba4",
   "metadata": {},
   "outputs": [
    {
     "name": "stdout",
     "output_type": "stream",
     "text": [
      "its anagram\n"
     ]
    }
   ],
   "source": [
    "import string\n",
    "def are_anagrams(word1, word2):\n",
    "    w1=''.join(word1.split())\n",
    "    w2=''.join(word2.split())\n",
    "    translator = str.maketrans( '','', string.punctuation)\n",
    "    r1 = w1.translate(translator)\n",
    "    r2 = w2.translate(translator)\n",
    "    r1=r1.lower()\n",
    "    r2=r2.lower()\n",
    "    r1=sorted(r1)\n",
    "    r2=sorted(r2)\n",
    "    if r1 == r2:\n",
    "        print(\"its anagram\")\n",
    "    else:  \n",
    "        print(\"not a anagram\")\n",
    "        \n",
    "are_anagrams(\"Astronomer\", \"Moon starer\")"
   ]
  },
  {
   "cell_type": "code",
   "execution_count": 4,
   "id": "9e0d9810",
   "metadata": {},
   "outputs": [
    {
     "name": "stdout",
     "output_type": "stream",
     "text": [
      "rajak\n"
     ]
    }
   ],
   "source": [
    "import string\n",
    "word1=\"raja ,k\"    \n",
    "word1=''.join(word1.split())\n",
    "word=str.maketrans('','',string.punctuation)\n",
    "word=word1.translate(word)\n",
    "print(word)"
   ]
  },
  {
   "cell_type": "code",
   "execution_count": 17,
   "id": "007abb27",
   "metadata": {},
   "outputs": [
    {
     "name": "stdout",
     "output_type": "stream",
     "text": [
      "yes palindrome\n"
     ]
    }
   ],
   "source": [
    "import string\n",
    "\n",
    "def palindrome(word):\n",
    "    w1=word.lower()\n",
    "    w2=''.join(w1.split()).translate(str.maketrans('','',string.punctuation))\n",
    "    w3=w2[::-1]\n",
    "    return w2==w3\n",
    "palindrome(\"Race car\")    \n",
    "if palindrome:\n",
    "    print(\"yes palindrome\")\n",
    "else:\n",
    "    print(\"not palindrome\")"
   ]
  },
  {
   "cell_type": "code",
   "execution_count": 6,
   "id": "de6a2876",
   "metadata": {},
   "outputs": [
    {
     "name": "stdout",
     "output_type": "stream",
     "text": [
      "rajak\n"
     ]
    }
   ],
   "source": [
    "import string\n",
    "word=\"raja ,k\"\n",
    "word=''.join(word.split())\n",
    "trans=str.maketrans('','',string.punctuation)\n",
    "word=word.translate(trans)\n",
    "print(word)"
   ]
  },
  {
   "cell_type": "code",
   "execution_count": 7,
   "id": "00b69687",
   "metadata": {},
   "outputs": [],
   "source": [
    "import string\n",
    "def are_anagrams(word1, word2):\n",
    "    w1=''.join(word1.split()).translate(str.maketrans( '','', string.punctuation)).lower()\n",
    "    w2=''.join(word2.split()).translate(str.maketrans( '','', string.punctuation)).lower()\n",
    "   \n",
    "are_anagrams(\"Astronomer\", \"Moon starer\")    \n"
   ]
  },
  {
   "cell_type": "code",
   "execution_count": null,
   "id": "ccb69aa9",
   "metadata": {},
   "outputs": [],
   "source": [
    "import string\n",
    "\n",
    "def are_anagrams(word1, word2):\n",
    "    # Remove spaces and punctuation, convert to lowercase\n",
    "    w1 = ''.join(word1.split()).translate(str.maketrans('', '', string.punctuation)).lower()\n",
    "    w2 = ''.join(word2.split()).translate(str.maketrans('', '', string.punctuation)).lower()\n",
    "\n",
    "    # Check if the sorted characters of both strings are the same\n",
    "    return sorted(w1) == sorted(w2)\n",
    "\n",
    "# Example usage\n",
    "word1 = \"Listen\"\n",
    "word2 = \"Silent\"\n",
    "\n",
    "if are_anagrams(word1, word2):\n",
    "    print(f\"{word1} and {word2} are anagrams.\")\n",
    "else:\n",
    "    print(f\"{word1} and {word2} are not anagrams.\")\n"
   ]
  },
  {
   "cell_type": "code",
   "execution_count": 1,
   "id": "6c57fdde",
   "metadata": {},
   "outputs": [
    {
     "name": "stdout",
     "output_type": "stream",
     "text": [
      "age 30\n"
     ]
    }
   ],
   "source": [
    "dictionary = {'name': 'John', 'age': 30}\n",
    "for key,value in dictionary.items():\n",
    "    if key==\"age\":\n",
    "        print(key,value)"
   ]
  },
  {
   "cell_type": "code",
   "execution_count": null,
   "id": "ab19cda8",
   "metadata": {},
   "outputs": [],
   "source": [
    "def check_key_exists(dictionary, key_to_check):\n",
    "    return key_to_check in dictionary\n",
    "\n",
    "# Example Input\n",
    "dictionary = {'name': 'John', 'age': 30}\n",
    "key_to_check = 'age'\n",
    "\n",
    "# Check if the key exists\n",
    "if check_key_exists(dictionary, key_to_check):\n",
    "    print(f\"The key '{key_to_check}' exists in the dictionary.\")\n",
    "else:\n",
    "    print(f\"The key '{key_to_check}' does not exist in the dictionary.\")\n"
   ]
  },
  {
   "cell_type": "code",
   "execution_count": null,
   "id": "be9bc63c",
   "metadata": {},
   "outputs": [],
   "source": [
    "dict1 = {'a': 1, 'b': 2, 'c': 3}\n",
    "dict2 = {'b': 2, 'c': 3, 'd': 4}\n",
    "for i in dict1:\n",
    "    if i in dict2:\n",
    "        if dict1[i]==dict2[i]:\n",
    "            print(i,\":\",dict1[i])"
   ]
  },
  {
   "cell_type": "code",
   "execution_count": null,
   "id": "3155b91b",
   "metadata": {},
   "outputs": [],
   "source": [
    "dict1 = {'a': 1, 'b': 2, 'c': 3}\n",
    "dict2 = {'b': 2, 'c': 3, 'd': 4}\n",
    "\n",
    "for key in dict1:\n",
    "    if key in dict2 and dict1[key] == dict2[key]:\n",
    "        print(f\"Common element: Key='{key}', Value='{dict1[key]}'\")\n"
   ]
  },
  {
   "cell_type": "code",
   "execution_count": 1,
   "id": "949326a0",
   "metadata": {},
   "outputs": [
    {
     "name": "stdout",
     "output_type": "stream",
     "text": [
      "{'cherry': 8, 'apple': 5, 'banana': 2, 'date': 1}\n"
     ]
    }
   ],
   "source": [
    "#desending\n",
    "\n",
    "my_dict = {'apple': 5, 'banana': 2, 'cherry': 8, 'date': 1}\n",
    "new1={}\n",
    "for i in range((len(my_dict))):\n",
    "    new=max(my_dict,key=my_dict.get)\n",
    "    new1[new]=my_dict[new]\n",
    "    del my_dict[new]\n",
    "print(new1)\n"
   ]
  },
  {
   "cell_type": "code",
   "execution_count": 4,
   "id": "78de98d8",
   "metadata": {},
   "outputs": [
    {
     "name": "stdout",
     "output_type": "stream",
     "text": [
      "{5: 'apple', 2: 'banana', 8: 'cherry', 1: 'date'}\n"
     ]
    }
   ],
   "source": [
    "#swap the key and values\n",
    "\n",
    "my_dict = {'apple': 5, 'banana': 2, 'cherry': 8, 'date': 1}\n",
    "\n",
    "reversed_dict = {value: key for key, value in my_dict.items()}\n",
    "\n",
    "print(reversed_dict)\n"
   ]
  },
  {
   "cell_type": "code",
   "execution_count": 7,
   "id": "145e56ca-3a6e-48a1-9ff4-6e3b28edd9dc",
   "metadata": {},
   "outputs": [
    {
     "data": {
      "text/plain": [
       "{5: 'apple', 2: 'banana', 8: 'cherry', 1: 'date'}"
      ]
     },
     "execution_count": 7,
     "metadata": {},
     "output_type": "execute_result"
    }
   ],
   "source": [
    "my_dict = {'apple': 5, 'banana': 2, 'cherry': 8, 'date': 1}\n",
    "\n",
    "k={}\n",
    "for i,j in my_dict.items():\n",
    "    k[j]=i\n",
    "k\n",
    "\n"
   ]
  },
  {
   "cell_type": "code",
   "execution_count": 15,
   "id": "de94349f-ddcb-48e3-b8ec-d68483485c86",
   "metadata": {},
   "outputs": [
    {
     "name": "stdout",
     "output_type": "stream",
     "text": [
      "1 1\n",
      "[1, 2, 3, 4, 5, 98, 56]\n",
      "1 2\n",
      "[1, 2, 3, 4, 5, 98, 56]\n",
      "2 3\n",
      "[2, 1, 3, 4, 5, 98, 56]\n",
      "3 4\n",
      "[3, 1, 2, 4, 5, 98, 56]\n",
      "4 5\n",
      "[4, 1, 2, 3, 5, 98, 56]\n",
      "5 98\n",
      "[5, 1, 2, 3, 4, 98, 56]\n",
      "98 56\n",
      "[98, 1, 2, 3, 4, 5, 56]\n",
      "1 98\n",
      "[98, 1, 2, 3, 4, 5, 56]\n",
      "98 98\n",
      "[1, 98, 2, 3, 4, 5, 56]\n",
      "98 2\n",
      "[1, 98, 2, 3, 4, 5, 56]\n",
      "98 3\n",
      "[1, 98, 2, 3, 4, 5, 56]\n",
      "98 4\n",
      "[1, 98, 2, 3, 4, 5, 56]\n",
      "98 5\n",
      "[1, 98, 2, 3, 4, 5, 56]\n",
      "98 56\n",
      "[1, 98, 2, 3, 4, 5, 56]\n",
      "2 1\n",
      "[1, 98, 2, 3, 4, 5, 56]\n",
      "2 98\n",
      "[1, 98, 2, 3, 4, 5, 56]\n",
      "98 98\n",
      "[1, 2, 98, 3, 4, 5, 56]\n",
      "98 3\n",
      "[1, 2, 98, 3, 4, 5, 56]\n",
      "98 4\n",
      "[1, 2, 98, 3, 4, 5, 56]\n",
      "98 5\n",
      "[1, 2, 98, 3, 4, 5, 56]\n",
      "98 56\n",
      "[1, 2, 98, 3, 4, 5, 56]\n",
      "3 1\n",
      "[1, 2, 98, 3, 4, 5, 56]\n",
      "3 2\n",
      "[1, 2, 98, 3, 4, 5, 56]\n",
      "3 98\n",
      "[1, 2, 98, 3, 4, 5, 56]\n",
      "98 98\n",
      "[1, 2, 3, 98, 4, 5, 56]\n",
      "98 4\n",
      "[1, 2, 3, 98, 4, 5, 56]\n",
      "98 5\n",
      "[1, 2, 3, 98, 4, 5, 56]\n",
      "98 56\n",
      "[1, 2, 3, 98, 4, 5, 56]\n",
      "4 1\n",
      "[1, 2, 3, 98, 4, 5, 56]\n",
      "4 2\n",
      "[1, 2, 3, 98, 4, 5, 56]\n",
      "4 3\n",
      "[1, 2, 3, 98, 4, 5, 56]\n",
      "4 98\n",
      "[1, 2, 3, 98, 4, 5, 56]\n",
      "98 98\n",
      "[1, 2, 3, 4, 98, 5, 56]\n",
      "98 5\n",
      "[1, 2, 3, 4, 98, 5, 56]\n",
      "98 56\n",
      "[1, 2, 3, 4, 98, 5, 56]\n",
      "5 1\n",
      "[1, 2, 3, 4, 98, 5, 56]\n",
      "5 2\n",
      "[1, 2, 3, 4, 98, 5, 56]\n",
      "5 3\n",
      "[1, 2, 3, 4, 98, 5, 56]\n",
      "5 4\n",
      "[1, 2, 3, 4, 98, 5, 56]\n",
      "5 98\n",
      "[1, 2, 3, 4, 98, 5, 56]\n",
      "98 98\n",
      "[1, 2, 3, 4, 5, 98, 56]\n",
      "98 56\n",
      "[1, 2, 3, 4, 5, 98, 56]\n",
      "56 1\n",
      "[1, 2, 3, 4, 5, 98, 56]\n",
      "56 2\n",
      "[1, 2, 3, 4, 5, 98, 56]\n",
      "56 3\n",
      "[1, 2, 3, 4, 5, 98, 56]\n",
      "56 4\n",
      "[1, 2, 3, 4, 5, 98, 56]\n",
      "56 5\n",
      "[1, 2, 3, 4, 5, 98, 56]\n",
      "56 98\n",
      "[1, 2, 3, 4, 5, 98, 56]\n",
      "98 98\n",
      "[1, 2, 3, 4, 5, 56, 98]\n",
      "[1, 2, 3, 4, 5, 56, 98]\n"
     ]
    }
   ],
   "source": [
    "numbers = [1, 2, 3, 4, 5,98,56]\n",
    "for i in  range (len(numbers)):\n",
    "    for  j in range(len(numbers)):\n",
    "        print(numbers[i],numbers[j])\n",
    "        print(numbers)\n",
    "        if numbers[i]<numbers[j]:\n",
    "            numbers[i],numbers[j]= numbers[j],numbers[i]\n",
    "print(numbers)\n"
   ]
  },
  {
   "cell_type": "code",
   "execution_count": null,
   "id": "2a75ed58-bcd4-4e53-bc97-2046317b3ea2",
   "metadata": {},
   "outputs": [],
   "source": []
  },
  {
   "cell_type": "code",
   "execution_count": 3,
   "id": "d88390b0-aa4c-458c-8a8c-5cf92f3835c5",
   "metadata": {},
   "outputs": [
    {
     "name": "stdout",
     "output_type": "stream",
     "text": [
      "1\n"
     ]
    }
   ],
   "source": [
    "numbers = [7,8,1, 2, 3, 4, 5,98,56]\n",
    "k=numbers[-1]\n",
    "for i in numbers:\n",
    "    if k>i:\n",
    "        k=i\n",
    "print(k)\n",
    "  "
   ]
  },
  {
   "cell_type": "code",
   "execution_count": 5,
   "id": "3de51dc1",
   "metadata": {},
   "outputs": [
    {
     "name": "stdout",
     "output_type": "stream",
     "text": [
      "[1, 4, 9, 16, 25]\n"
     ]
    }
   ],
   "source": [
    "numbers = [1, 2, 3, 4, 5]\n",
    "squares = [x**2 for x in numbers]\n",
    "print(squares)"
   ]
  },
  {
   "cell_type": "code",
   "execution_count": null,
   "id": "f5fbac10",
   "metadata": {},
   "outputs": [],
   "source": [
    "numbers = [1, 2, 3, 4, 5]\n",
    "s=[]\n",
    "for i in numbers:\n",
    "    squares=i**2\n",
    "    s.append(squares)\n",
    "print(s)    \n",
    "        "
   ]
  },
  {
   "cell_type": "code",
   "execution_count": 15,
   "id": "66367fe0",
   "metadata": {},
   "outputs": [
    {
     "name": "stdout",
     "output_type": "stream",
     "text": [
      "[1, 2, 4, 5, 7, 16, 88]\n",
      "2\n",
      "16\n"
     ]
    }
   ],
   "source": [
    "numbers = [16,4,5,2,7,88,1]\n",
    "for i in range (len(numbers)):\n",
    "    for j in range (len(numbers)):\n",
    "        if numbers[i]<=numbers[j]:\n",
    "            numbers[i],numbers[j]=numbers[j],numbers[i]\n",
    "\n",
    "print(numbers)\n",
    "print(numbers[1])\n",
    "print(numbers[-2])\n",
    "            "
   ]
  },
  {
   "cell_type": "code",
   "execution_count": 15,
   "id": "0d0d0881",
   "metadata": {},
   "outputs": [
    {
     "name": "stdout",
     "output_type": "stream",
     "text": [
      "{'r': 1, 'j': 1, 'a': 2}\n"
     ]
    }
   ],
   "source": [
    "\n",
    "text1= \"raja\"\n",
    "#text1=text.split()\n",
    "new={}\n",
    "for i in text1:\n",
    "    if i in new:\n",
    "        new[i]=new[i]+1\n",
    "    else:\n",
    "        new[i]=1\n",
    "asend={}\n",
    "while new:\n",
    "    l=min(new,key=new.get)\n",
    "    asend[l]=new[l]\n",
    "    del new[l]\n",
    "print(asend)\n",
    "\n",
    "    \n"
   ]
  },
  {
   "cell_type": "code",
   "execution_count": 17,
   "id": "76a8f56b",
   "metadata": {},
   "outputs": [
    {
     "name": "stdin",
     "output_type": "stream",
     "text": [
      "enter the number 56\n"
     ]
    },
    {
     "name": "stdout",
     "output_type": "stream",
     "text": [
      "[0, 1, 1, 2, 3, 5, 8, 13, 21, 34, 55]\n"
     ]
    }
   ],
   "source": [
    "a=0\n",
    "b=1\n",
    "c=[]\n",
    "n=int(input(\"enter the number\"))\n",
    "while a<=n:\n",
    "    d=a+b\n",
    "    c.append(a)\n",
    "    a,b=b,d\n",
    "print(c)\n",
    "  "
   ]
  },
  {
   "cell_type": "code",
   "execution_count": null,
   "id": "af77dfca",
   "metadata": {},
   "outputs": [],
   "source": [
    "def generate_fibonacci(n):\n",
    "    a, b = 0, 1\n",
    "    fibonacci_sequence = []\n",
    "    \n",
    "    while a <= n:\n",
    "        fibonacci_sequence.append(a)\n",
    "        a, b = b, a + b\n",
    "    \n",
    "    return fibonacci_sequence\n",
    "\n",
    "# Example: Generate Fibonacci sequence up to 100\n",
    "result = generate_fibonacci(100)\n",
    "print(result)\n",
    "\n"
   ]
  },
  {
   "cell_type": "code",
   "execution_count": null,
   "id": "8ad8fac2",
   "metadata": {},
   "outputs": [
    {
     "name": "stdout",
     "output_type": "stream",
     "text": [
      "select your choice 1=stone 2=paper 3=scissor\n"
     ]
    }
   ],
   "source": [
    "import random\n",
    "print(\"select your choice 1=stone 2=paper 3=scissor\")\n",
    "a=int(input(\"enter your choice  \"))\n",
    "if a==1:\n",
    "    print(\"you select stone\")\n",
    "elif a==2:\n",
    "     print(\"you select paper\")\n",
    "else :\n",
    "    print(\"you select scissor\")\n",
    "a=[1,2,3]\n",
    "b=random.choice(a)\n",
    "if b==1:\n",
    "    print(\"computer select stone\")\n",
    "elif b==2:\n",
    "     print(\"computer select paper\")\n",
    "else:\n",
    "    print(\"computer selectt scissor\")\n",
    "if a==b:\n",
    "    print(\"match tie \")\n",
    "elif a==1 and b==3:\n",
    "    print(\"winner is you\")\n",
    "elif a==2 and b==1:\n",
    "    print(\"winner is you\")\n",
    "elif a==3 and b==2:\n",
    "    print(\"winner is you\")\n",
    "else:\n",
    "    print(\"winner is computer\")\n",
    "    \n",
    "\n"
   ]
  },
  {
   "cell_type": "code",
   "execution_count": null,
   "id": "c7b2b903",
   "metadata": {},
   "outputs": [],
   "source": [
    "import random\n",
    "\n",
    "def get_user_choice():\n",
    "    while True:\n",
    "        user_choice = input(\"Enter your choice (Rock, Paper, Scissors): \").strip().capitalize()\n",
    "        if user_choice in [\"Rock\", \"Paper\", \"Scissors\"]:\n",
    "            return user_choice\n",
    "        else:\n",
    "            print(\"Invalid choice. Please choose Rock, Paper, or Scissors.\")\n",
    "\n",
    "def get_computer_choice():\n",
    "    choices = [\"Rock\", \"Paper\", \"Scissors\"]\n",
    "    return random.choice(choices)\n",
    "\n",
    "def determine_winner(user_choice, computer_choice):\n",
    "    if user_choice == computer_choice:\n",
    "        return \"It's a tie!\"\n",
    "    if (user_choice == \"Rock\" and computer_choice == \"Scissors\") or \\\n",
    "       (user_choice == \"Paper\" and computer_choice == \"Rock\") or \\\n",
    "       (user_choice == \"Scissors\" and computer_choice == \"Paper\"):\n",
    "        return \"You win!\"\n",
    "    return \"Computer wins!\"\n",
    "\n",
    "def play_game():\n",
    "    user_choice = get_user_choice()\n",
    "    computer_choice = get_computer_choice()\n",
    "    print(f\"You chose {user_choice}.\")\n",
    "    print(f\"Computer chose {computer_choice}.\")\n",
    "    result = determine_winner(user_choice, computer_choice)\n",
    "    print(result)\n",
    "\n",
    "if __name__ == \"__main__\":\n",
    "    print(\"Welcome to Rock, Paper, Scissors!\")\n",
    "    while True:\n",
    "        play_game()\n",
    "        play_again = input(\"Do you want to play again? (yes/no): \").strip().lower()\n",
    "        if play_again != \"yes\":\n",
    "            print(\"Thanks for playing!\")\n",
    "            break\n"
   ]
  },
  {
   "cell_type": "code",
   "execution_count": null,
   "id": "d1a913d1",
   "metadata": {},
   "outputs": [],
   "source": [
    "n=int(input(\"enter your number\"))\n",
    "m=0\n",
    "for i in range(0,n+1):\n",
    "    m+=i\n",
    "print(m)"
   ]
  },
  {
   "cell_type": "code",
   "execution_count": 20,
   "id": "283f88d3",
   "metadata": {},
   "outputs": [
    {
     "name": "stdout",
     "output_type": "stream",
     "text": [
      "{1: 'raja', 2: 'arun', 3: 'ajay', 4: 'kutty'}\n"
     ]
    }
   ],
   "source": [
    "l=[1,2,3,4]\n",
    "m=[\"raja\",\"arun\",\"ajay\",\"kutty\"]\n",
    "new={}\n",
    "for i in range(len(l)):\n",
    "    new[l[i]]=m[i]\n",
    "print(new)"
   ]
  },
  {
   "cell_type": "code",
   "execution_count": null,
   "id": "aac38dcd",
   "metadata": {},
   "outputs": [],
   "source": [
    "class Person:\n",
    "  def __init__(mysillyobject, name, age):\n",
    "    mysillyobject.name = name\n",
    "    mysillyobject.age = age\n",
    "\n",
    "  def myfunc(abc):\n",
    "    print(\"Hello my name is \" + abc.name)\n",
    "\n",
    "p1 = Person(\"John\", 36)\n",
    "p1.myfunc()\n"
   ]
  },
  {
   "cell_type": "code",
   "execution_count": 1,
   "id": "0af7058f",
   "metadata": {},
   "outputs": [
    {
     "ename": "ModuleNotFoundError",
     "evalue": "No module named 'easyocr'",
     "output_type": "error",
     "traceback": [
      "\u001b[1;31m---------------------------------------------------------------------------\u001b[0m",
      "\u001b[1;31mModuleNotFoundError\u001b[0m                       Traceback (most recent call last)",
      "Cell \u001b[1;32mIn[1], line 1\u001b[0m\n\u001b[1;32m----> 1\u001b[0m \u001b[38;5;28;01mimport\u001b[39;00m \u001b[38;5;21;01measyocr\u001b[39;00m\n\u001b[0;32m      2\u001b[0m \u001b[38;5;28;01mimport\u001b[39;00m \u001b[38;5;21;01mcv2\u001b[39;00m\n\u001b[0;32m      4\u001b[0m \u001b[38;5;66;03m# Create an EasyOCR reader object\u001b[39;00m\n",
      "\u001b[1;31mModuleNotFoundError\u001b[0m: No module named 'easyocr'"
     ]
    }
   ],
   "source": [
    "import easyocr\n",
    "import cv2\n",
    "\n",
    "# Create an EasyOCR reader object\n",
    "reader = easyocr.Reader(['en'])  # You can specify the languages you want to recognize\n",
    "\n",
    "# Load the image\n",
    "test = cv2.imread(\"test1.jpg\")\n",
    "\n",
    "# Use the reader object to read text from the image\n",
    "output = reader.readtext(test)\n",
    "\n",
    "# Print the output\n",
    "print(output)\n"
   ]
  },
  {
   "cell_type": "code",
   "execution_count": null,
   "id": "80ec2d07",
   "metadata": {},
   "outputs": [],
   "source": [
    "a = 102301\n",
    "a_str = str(a)  \n",
    "a_str_modified = a_str.replace('0', '1')  \n",
    "result = int(a_str_modified)  \n",
    "print(result)\n",
    "    \n",
    "    "
   ]
  },
  {
   "cell_type": "code",
   "execution_count": null,
   "id": "c3aa973a",
   "metadata": {},
   "outputs": [],
   "source": [
    "import csv \n",
    "\n",
    "with open(\"new1.csv\",\"a\",newline=\"\") as csvfile:\n",
    "    new=csv.writer(csvfile)\n",
    "    new.writerow([\"13 \",\"palani\",\"20 \",\"dev \",\"12000.00 \" ])\n",
    "    new.writerow([\"14 \",\"muthu\",\"21\",\"dev \",\"12500.00 \" ])\n",
    "    new.writerow([\"15 \",\"mathan\",\"25 \",\"test \",\"13400.00 \" ])\n",
    "    new.writerow([\"16 \",\"kalai\",\"20 \",\"dev \",\"12000.00 \" ])"
   ]
  },
  {
   "cell_type": "code",
   "execution_count": null,
   "id": "8b8ff3c5",
   "metadata": {},
   "outputs": [],
   "source": [
    "#AVERAGE AGE\n",
    "\n",
    "\n",
    "import csv \n",
    "a=[]\n",
    "with open(\"new1.csv\",newline=\"\") as csvfile:\n",
    "    data=csv.reader(csvfile)\n",
    "    header = next(data)\n",
    "    for i in data:\n",
    "        a.append(int(i[2]))\n",
    "    print(sum(a)/len(a))"
   ]
  },
  {
   "cell_type": "code",
   "execution_count": null,
   "id": "d8ecf0f2",
   "metadata": {},
   "outputs": [],
   "source": [
    "#MAXIMUM SALARY\n",
    "\n",
    "import csv \n",
    "a=[]\n",
    "with open(\"new1.csv\",newline=\"\") as csvfile:\n",
    "    data=csv.reader(csvfile)\n",
    "    header = next(data)\n",
    "    for i in data:\n",
    "        a.append(float(i[4]))\n",
    "    print(max(a))"
   ]
  },
  {
   "cell_type": "code",
   "execution_count": null,
   "id": "70db27e6",
   "metadata": {},
   "outputs": [],
   "source": [
    "import csv\n",
    "\n",
    "# Dictionary to store groups\n",
    "grouped_data = {}\n",
    "\n",
    "try:\n",
    "    with open(\"new1.csv\", newline=\"\") as csvfile:\n",
    "        data = csv.reader(csvfile)\n",
    "        header = next(data)\n",
    "        \n",
    "        for row in data:\n",
    "            # Assuming Department is at index 3\n",
    "            department = row[3]\n",
    "            \n",
    "            # If department is not in the dictionary, add it with an empty list\n",
    "            if department not in grouped_data:\n",
    "                grouped_data[department] = []\n",
    "            \n",
    "            # Append the current row to the corresponding department\n",
    "            grouped_data[department].append(row)\n",
    "\n",
    "except FileNotFoundError:\n",
    "    print(\"The specified CSV file was not found.\")\n",
    "except Exception as e:\n",
    "    print(f\"An error occurred: {e}\")\n",
    "else:\n",
    "    # Print the grouped data\n",
    "    for department, rows in grouped_data.items():\n",
    "        print(f\"Department: {department}\")\n",
    "        for row in rows:\n",
    "            print(row)\n",
    "        print(\"------------------\")\n"
   ]
  },
  {
   "cell_type": "code",
   "execution_count": null,
   "id": "ac848e9f",
   "metadata": {},
   "outputs": [],
   "source": [
    "import csv\n",
    "k={}\n",
    "with open(\"new1.csv\",newline=\"\") as csvfile:\n",
    "    data=csv.reader(csvfile)\n",
    "    header=next(data)\n",
    "    for i in data:\n",
    "        print(i[3])\n",
    "        if i[3] not in k:\n",
    "            k[i[3]]=[]\n",
    "        k[i[3]].append(i)\n",
    "for i,j in k.items():\n",
    "    print({i})\n",
    "    for j in j:\n",
    "        print(j)"
   ]
  },
  {
   "cell_type": "code",
   "execution_count": null,
   "id": "766ee006",
   "metadata": {},
   "outputs": [],
   "source": [
    "import string \n",
    "k=\"raja .,K\"\n",
    "k=k.lower()\n",
    "k=''.join(k.split())\n",
    "trans=str.maketrans('','',string.punctuation)\n",
    "k=k.translate(trans)\n",
    "print(k)"
   ]
  },
  {
   "cell_type": "code",
   "execution_count": null,
   "id": "2c6d1c5e",
   "metadata": {},
   "outputs": [],
   "source": [
    "import string\n",
    "\n",
    "input =\"The quick brown fox jumps over the lazy dog. The dog barks, and the fox runs away.\"\n",
    "output={}\n",
    "input1=input.split()\n",
    "for i in input1:\n",
    "    input1=i.strip(',!.').lower()\n",
    "    if input1 not in output:\n",
    "        output[input1]=1\n",
    "    else:\n",
    "        output[input1]+=1\n",
    "print(output)\n",
    "\n"
   ]
  },
  {
   "cell_type": "code",
   "execution_count": null,
   "id": "fbf0fa87",
   "metadata": {},
   "outputs": [],
   "source": [
    "def word_frequency_counter(text):\n",
    "    # Step 2: Tokenize the text into words\n",
    "    words = text.split()\n",
    "\n",
    "    # Step 3: Count the frequency of each word\n",
    "    word_frequency = {}\n",
    "    for word in words:\n",
    "        # Remove punctuation and convert to lowercase for case-insensitive counting\n",
    "        word = word.strip('.,!?').lower()\n",
    "        if word not in word_frequency:\n",
    "            word_frequency[word]=1\n",
    "        else:\n",
    "            word_frequency[word]+=1\n",
    "    print(word_frequency)\n",
    "word_frequency_counter(\"The quick brown fox jumps over the lazy dog. The dog barks, and the fox runs away.\")           "
   ]
  },
  {
   "cell_type": "code",
   "execution_count": null,
   "id": "b6174e96",
   "metadata": {},
   "outputs": [],
   "source": [
    "\n",
    "with open('example.txt', 'w') as file:\n",
    "    file.write('This is a sample text.\\n')\n",
    "    file.write('It is written to demonstrate file creation in Python.\\n')\n",
    "    file.write('You can add more lines as needed.\\n')\n",
    "\n"
   ]
  },
  {
   "cell_type": "code",
   "execution_count": null,
   "id": "594c5e1b",
   "metadata": {},
   "outputs": [],
   "source": [
    "f=open('example.txt', 'r')\n",
    "for x in f:\n",
    "    print(x)\n",
    "f.close()"
   ]
  },
  {
   "cell_type": "code",
   "execution_count": null,
   "id": "75af67fd",
   "metadata": {},
   "outputs": [],
   "source": [
    "f= open('example.txt', 'a')\n",
    "f.write(\"hi raja\")\n",
    "f.close()"
   ]
  },
  {
   "cell_type": "code",
   "execution_count": null,
   "id": "6a688e07",
   "metadata": {},
   "outputs": [],
   "source": [
    "f= open('example.txt', 'r')\n",
    "for i in f:\n",
    "    print(i)"
   ]
  },
  {
   "cell_type": "code",
   "execution_count": null,
   "id": "04d62120",
   "metadata": {},
   "outputs": [],
   "source": [
    "f=open('example1.txt', 'r')\n",
    "print(f.readline())\n",
    "f.close()"
   ]
  },
  {
   "cell_type": "code",
   "execution_count": null,
   "id": "14e967fc",
   "metadata": {},
   "outputs": [],
   "source": [
    "from docx import Document\n",
    "from reportlab.lib.pagesizes import letter\n",
    "from reportlab.platypus import SimpleDocTemplate, Paragraph\n",
    "from reportlab.lib.styles import getSampleStyleSheet\n",
    "\n",
    "def convert_docx_to_pdf(input_docx, output_pdf):\n",
    "    # Read the content from the Word file\n",
    "    doc = Document(input_docx)\n",
    "    content = []\n",
    "\n",
    "    # Get the default sample styles from ReportLab\n",
    "    styles = getSampleStyleSheet()\n",
    "\n",
    "    for para in doc.paragraphs:\n",
    "        # Get the style name of the paragraph\n",
    "        style_name = para.style.name\n",
    "        # Get the appropriate style from the sample styles\n",
    "        style = styles[style_name]\n",
    "\n",
    "        # Append the paragraph to the content\n",
    "        content.append(Paragraph(para.text, style))\n",
    "\n",
    "    # Create a PDF and write the content into it\n",
    "    pdf = SimpleDocTemplate(output_pdf, pagesize=letter)\n",
    "    pdf.build(content)\n",
    "\n",
    "if __name__ == \"__main__\":\n",
    "    input_docx = \"Region proposal Network.docx\"  # Specify the path to your Word file\n",
    "    output_pdf = \"output.pdf\"   # Specify the path for the output PDF file\n",
    "\n",
    "    convert_docx_to_pdf(input_docx, output_pdf)\n"
   ]
  },
  {
   "cell_type": "code",
   "execution_count": null,
   "id": "80ae664d",
   "metadata": {},
   "outputs": [],
   "source": [
    "import nltk\n",
    "from nltk.tokenize import word_tokenize\n",
    "from nltk.tag import pos_tag\n",
    "from nltk.corpus import wordnet\n",
    "import random\n",
    "\n",
    "nltk.download('wordnet')\n",
    "nltk.download('averaged_perceptron_tagger')\n",
    "\n",
    "def get_wordnet_pos(treebank_tag):\n",
    "    if treebank_tag.startswith('J'):\n",
    "        return wordnet.ADJ\n",
    "    elif treebank_tag.startswith('V'):\n",
    "        return wordnet.VERB\n",
    "    elif treebank_tag.startswith('N'):\n",
    "        return wordnet.NOUN\n",
    "    elif treebank_tag.startswith('R'):\n",
    "        return wordnet.ADV\n",
    "    else:\n",
    "        return None\n",
    "\n",
    "def find_related_words(sentence):\n",
    "    words = word_tokenize(sentence)\n",
    "    tagged_words = pos_tag(words)\n",
    "    related_words = []\n",
    "\n",
    "    for word, pos_tag_val in tagged_words:\n",
    "        wordnet_pos = get_wordnet_pos(pos_tag_val)\n",
    "        if wordnet_pos:\n",
    "            synsets = wordnet.synsets(word, pos=wordnet_pos)\n",
    "            for synset in synsets:\n",
    "                related_words.extend(synset.lemma_names())\n",
    "\n",
    "    return related_words\n",
    "\n",
    "def rephrase_sentence(sentence):\n",
    "    related_words = find_related_words(sentence)\n",
    "    rephrased_sentences = []\n",
    "\n",
    "    for word in related_words:\n",
    "        if word.lower() != sentence.lower():  # Avoid repeating the same sentence\n",
    "            rephrased_sentences.append(sentence.replace(sentence.split()[random.randint(0, len(sentence.split()) - 1)], word, 1))\n",
    "\n",
    "    return rephrased_sentences\n",
    "\n",
    "# Example usage\n",
    "input_sentence = \"Yesterday i bought a new car\"\n",
    "rephrased_sentences = rephrase_sentence(input_sentence)\n",
    "if rephrased_sentences:\n",
    "    print(\"Original sentence:\", input_sentence.capitalize())\n",
    "    print(\"Rephrased sentences:\")\n",
    "    for sentence in rephrased_sentences:\n",
    "        print(sentence.capitalize())\n",
    "else:\n",
    "    print(\"Sorry, couldn't rephrase the sentence.\")\n"
   ]
  },
  {
   "cell_type": "code",
   "execution_count": null,
   "id": "9475c006",
   "metadata": {},
   "outputs": [],
   "source": [
    "import time\n",
    "import random\n",
    "\n",
    "class1 = [\"happy\", \"sad\", \"normal\"]\n",
    "\n",
    "while True:\n",
    "    random.shuffle(class1)  # Shuffle the list randomly\n",
    "    for i in class1:a\n",
    "        print(i)\n",
    "        time.sleep(5)  # Pause for 5 seconds before printing the next element\n",
    "\n"
   ]
  },
  {
   "cell_type": "code",
   "execution_count": null,
   "id": "c4869509",
   "metadata": {},
   "outputs": [],
   "source": [
    "import nltk\n",
    "from nltk.corpus import wordnet as wn\n",
    "\n",
    "nltk.download('wordnet')\n",
    "\n",
    "def get_words_starting_with(letter, pos):\n",
    "    words = []\n",
    "    for synset in wn.all_synsets(pos):\n",
    "        for lemma in synset.lemmas():\n",
    "            if lemma.name().startswith(letter):\n",
    "                words.append(lemma.name())\n",
    "    return words[:2]\n",
    "\n",
    "def get_nouns_and_verbs(input_str):\n",
    "    if len(input_str) == 1:\n",
    "        nouns = get_words_starting_with(input_str, 'n')\n",
    "        verbs = get_words_starting_with(input_str, 'v')\n",
    "    elif len(input_str) == 2:\n",
    "        nouns = get_words_starting_with(input_str[0], 'n')\n",
    "        verbs = get_words_starting_with(input_str[1], 'v')\n",
    "    else:\n",
    "        print(\"Invalid input\")\n",
    "        return [], []\n",
    "    return nouns, verbs\n",
    "\n",
    "input_str = input(\"Enter a single letter or two letters: \")\n",
    "nouns, verbs = get_nouns_and_verbs(input_str)\n",
    "print(\"Nouns:\", nouns)\n",
    "if verbs:\n",
    "    print(\"Verbs:\", verbs)\n",
    "else:\n",
    "    print(\"No verbs found.\")\n"
   ]
  },
  {
   "cell_type": "code",
   "execution_count": null,
   "id": "1d740aba",
   "metadata": {},
   "outputs": [],
   "source": [
    "vegeables={\"tomato\":30,\"onion\":50,\"potato\":50,\"carrot\":70,\"brinjal\":40}\n",
    "product={}\n",
    "vegi=[\"tomato\",\"onion\"]\n",
    "quantity=[5,3]\n",
    "totall={}\n",
    "'''input1=\"tomato\"\n",
    "quani=5\n",
    "\n",
    "if input1 in vegeables:\n",
    "    vegi.append(input1)\n",
    "if quani<20:\n",
    "    quantity.append(quani)\n",
    "print(quantity)'''\n",
    "\n",
    "if len(quantity)==len(vegi):\n",
    "    for i in range(len(quantity)):\n",
    "        vegita=vegi[i]\n",
    "        quan=quantity[i]\n",
    "        product[vegita]=vegeables[vegita]*quan\n",
    "        totall[vegita]=[quan,\"kg\",vegeables[vegita]*quan,\"rupees\"]\n",
    "\n",
    "        \n",
    "        \n",
    "        \n",
    "        \n",
    "    \n",
    "print(product)\n",
    "print(totall)"
   ]
  },
  {
   "cell_type": "code",
   "execution_count": null,
   "id": "4c7c8988",
   "metadata": {},
   "outputs": [],
   "source": [
    "d=[\"tomato\",\"onion\",\"carrot\"]\n",
    "c=[1,2,4]\n",
    "k=\"i want carrot\"\n",
    "b=k.split()\n",
    "for i in b:\n",
    "    if i in d:\n",
    "        print(i)\n",
    "        for l,m in enumerate(d):\n",
    "            print(m)\n",
    "            if m==i:\n",
    "                d.remove(m)\n",
    "                c.pop(l)\n",
    "print(d)\n",
    "print(c)"
   ]
  },
  {
   "cell_type": "code",
   "execution_count": null,
   "id": "70a5d679",
   "metadata": {},
   "outputs": [],
   "source": [
    "i=0\n",
    "for i in product.values():\n",
    "    i=i+i\n",
    "print(i)"
   ]
  },
  {
   "cell_type": "code",
   "execution_count": null,
   "id": "bc2fa356",
   "metadata": {},
   "outputs": [],
   "source": [
    "a=\" i need apple\"\n",
    "a.split()\n"
   ]
  },
  {
   "cell_type": "code",
   "execution_count": null,
   "id": "3721176c",
   "metadata": {},
   "outputs": [],
   "source": [
    "l={'tomato': [5, 'kg', 150, 'rupees'], 'onion': [3, 'kg', 150, 'rupees']}\n",
    "for i in l.items():\n",
    "    print(i[1])"
   ]
  },
  {
   "cell_type": "code",
   "execution_count": null,
   "id": "a2e08df8",
   "metadata": {},
   "outputs": [],
   "source": [
    "l={'tomato': [5, 'kg', 150, 'rupees'], 'onion': [3, 'kg', 150, 'rupees']}\n",
    "mobile no=9080312468"
   ]
  },
  {
   "cell_type": "code",
   "execution_count": null,
   "id": "85334ac1",
   "metadata": {},
   "outputs": [],
   "source": [
    "import sqlite3\n",
    "\n",
    "# Dictionary containing item details\n",
    "items = {\n",
    "    'tomato': [5, 'kg', 150, 'rupees'],\n",
    "    'onion': [3, 'kg', 150, 'rupees']\n",
    "}\n",
    "\n",
    "# Mobile numbe\n",
    "table_name =customer_id_\"908031223\"\n",
    "\n",
    "# Create a SQLite database connection\n",
    "conn = sqlite3.connect('items.db')\n",
    "\n",
    "# Create a cursor object\n",
    "cursor = conn.cursor()\n",
    "\n",
    "# Create a table (if not exists)\n",
    "cursor.execute(\"CREATE TABLE IF NOT EXISTS {} (item TEXT, quantity INTEGER, unit TEXT, price INTEGER, currency TEXT)\".format(table_name))\n",
    "# Insert data into the table\n",
    "for item, details in items.items():\n",
    "    cursor.execute(f\"INSERT INTO {table_name} (item, quantity, unit, price, currency) VALUES (?, ?, ?, ?, ?)\",\n",
    "                   (item, details[0], details[1], details[2], details[3]))\n",
    "\n",
    "# Commit changes\n",
    "conn.commit()\n",
    "\n",
    "# Close connection\n",
    "conn.close()\n"
   ]
  },
  {
   "cell_type": "code",
   "execution_count": null,
   "id": "a3110494",
   "metadata": {},
   "outputs": [],
   "source": [
    "import sqlite3\n",
    "\n",
    "totall = {\n",
    "    'tomato': [5, 'kg', 150, 'rupees'],\n",
    "    'onion': [3, 'kg', 150, 'rupees']\n",
    "}\n",
    "mobile_number = \"7968566569\"\n",
    "table_name = \"custemer_id\" + mobile_number\n",
    "\n",
    "# Create a SQLite database connection\n",
    "conn = sqlite3.connect('items.db')\n",
    "\n",
    "# Create a cursor object\n",
    "cursor = conn.cursor()\n",
    "\n",
    "# Create a table (if not exists) with a parameterized query\n",
    "cursor.execute(\"CREATE TABLE IF NOT EXISTS {} (item TEXT, quantity INTEGER, unit TEXT, price INTEGER, currency TEXT)\".format(table_name))\n",
    "\n",
    "for item, details in totall.items():\n",
    "    cursor.execute(f\"INSERT INTO {table_name} (item, quantity, unit, price, currency) VALUES (?, ?, ?, ?, ?)\",\n",
    "                   (item, details[0], details[1], details[2], details[3]))\n",
    "# Commit changes\n",
    "conn.commit()\n",
    "\n",
    "# Close connection\n",
    "conn.close()\n",
    "\n",
    "\n",
    "\n",
    "\n",
    "\n",
    "\n"
   ]
  },
  {
   "cell_type": "code",
   "execution_count": null,
   "id": "7066caae",
   "metadata": {},
   "outputs": [],
   "source": [
    "k = \"9080 31 ,2468\"\n",
    "k_without_spaces = k.replace(\",\", \"\")\n",
    "print(k_without_spaces)\n"
   ]
  },
  {
   "cell_type": "code",
   "execution_count": null,
   "id": "4773baf2",
   "metadata": {},
   "outputs": [],
   "source": [
    "vegeables={\"tomato\":30,\"onion\":50,\"potato\":50,\"carrot\":70,\"brinjal\":40}\n",
    "vegeables.clear()"
   ]
  },
  {
   "cell_type": "code",
   "execution_count": null,
   "id": "83e0fad8",
   "metadata": {},
   "outputs": [],
   "source": [
    "vegeables"
   ]
  },
  {
   "cell_type": "code",
   "execution_count": null,
   "id": "0a32a5ab",
   "metadata": {},
   "outputs": [],
   "source": [
    "def two_numbers(l1:list,l2:list):\n",
    "    c=\"\"\n",
    "    d=\"\"\n",
    "    for i in l1:\n",
    "        c+=str(i)\n",
    "    for j in l2:\n",
    "        d+=str(j)\n",
    "    output=str(int(c)+int(d))\n",
    "    return(output[::-1])\n",
    "l1=[2,4,3]\n",
    "l2=[5,6,4]\n",
    "print(two_numbers(l1,l2))"
   ]
  },
  {
   "cell_type": "code",
   "execution_count": null,
   "id": "ce434585",
   "metadata": {},
   "outputs": [],
   "source": [
    "l=\"893\"\n",
    "m=l[::-1]\n",
    "print(m)"
   ]
  },
  {
   "cell_type": "code",
   "execution_count": null,
   "id": "e8aa6f89",
   "metadata": {},
   "outputs": [],
   "source": [
    "mylist = iter([\"apple\", \"banana\", \"cherry\"])\n",
    "x = next(mylist, \"orange\")\n",
    "print(x)\n"
   ]
  },
  {
   "cell_type": "code",
   "execution_count": null,
   "id": "a287ba8a",
   "metadata": {},
   "outputs": [],
   "source": [
    "iterator = iter([1, 2, 3])\n",
    "print(next(iterator))  # Output: 1\n",
    "print(next(iterator))  # Output: 2\n"
   ]
  },
  {
   "cell_type": "code",
   "execution_count": null,
   "id": "3c838aec",
   "metadata": {},
   "outputs": [],
   "source": [
    "# Importing necessary libraries\n",
    "import numpy as np\n",
    "from sklearn.linear_model import LogisticRegression\n",
    "import matplotlib.pyplot as plt\n",
    "\n",
    "# Sample data\n",
    "X = np.array([1, 2, 3, 4, 5]).reshape(-1, 1)  # Features (independent variable)\n",
    "y = np.array([2, 3, 4, 5, 6])  # Target variable (dependent variable)\n",
    "\n",
    "# Creating and fitting the model\n",
    "model = LogisticRegression()\n",
    "model.fit(X, y)\n",
    "\n",
    "# Making predictions\n",
    "X_test = np.array([6]).reshape(-1, 1)  # Test data\n",
    "predicted_y = model.predict(X_test)\n",
    "\n",
    "print(\"Predicted value for X_test:\", predicted_y[0])\n",
    "\n",
    "# Plotting the data and the regression line\n",
    "plt.scatter(X, y, color='blue')\n",
    "plt.plot(X, model.predict(X), color='red')\n",
    "plt.title('Linear Regression')\n",
    "plt.xlabel('X')\n",
    "plt.ylabel('y')\n",
    "plt.show()\n",
    "\n"
   ]
  },
  {
   "cell_type": "code",
   "execution_count": null,
   "id": "f4d4ce2a",
   "metadata": {},
   "outputs": [],
   "source": [
    "# Importing necessary libraries\n",
    "from sklearn.datasets import load_iris\n",
    "from sklearn.model_selection import train_test_split\n",
    "from sklearn.tree import DecisionTreeClassifier\n",
    "from sklearn.metrics import accuracy_score, classification_report\n",
    "import matplotlib.pyplot as plt\n",
    "from sklearn import tree\n",
    "\n",
    "# Load the Iris dataset\n",
    "iris = load_iris()\n",
    "X = iris.data\n",
    "y = iris.target\n",
    "\n",
    "# Split the dataset into training and testing sets\n",
    "X_train, X_test, y_train, y_test = train_test_split(X, y, test_size=0.2, random_state=42)\n",
    "\n",
    "# Create a Decision Tree Classifier\n",
    "model = DecisionTreeClassifier()\n",
    "\n",
    "# Train the model\n",
    "model.fit(X_train, y_train)\n",
    "\n",
    "# Make predictions\n",
    "y_pred = model.predict(X_test)\n",
    "\n",
    "# Calculate accuracy\n",
    "accuracy = accuracy_score(y_test, y_pred)\n",
    "print(\"Accuracy:\", accuracy)\n",
    "\n",
    "# Generate a classification report\n",
    "print(\"Classification Report:\")\n",
    "print(classification_report(y_test, y_pred))\n",
    "\n",
    "# Visualize the decision tree\n",
    "# Visualize the decision tree\n",
    "plt.figure(figsize=(12, 8))\n",
    "tree.plot_tree(model, filled=True, feature_names=iris.feature_names, class_names=iris.target_names.tolist())\n",
    "plt.show()\n"
   ]
  },
  {
   "cell_type": "code",
   "execution_count": null,
   "id": "b0725b1a",
   "metadata": {},
   "outputs": [],
   "source": [
    "def palin(m):\n",
    "    k=str(m)\n",
    "    if k==k[::-1]:\n",
    "        return True\n",
    "    else:\n",
    "        return False\n"
   ]
  },
  {
   "cell_type": "code",
   "execution_count": null,
   "id": "bd699d3e",
   "metadata": {},
   "outputs": [],
   "source": [
    "l=121\n",
    "m=str(l)\n",
    "if l==m[::-1]:\n",
    "    print(\"palin\") \n",
    "else:\n",
    "    print(\"not palind\") "
   ]
  },
  {
   "cell_type": "code",
   "execution_count": 2,
   "id": "f10dcae7",
   "metadata": {},
   "outputs": [
    {
     "name": "stdout",
     "output_type": "stream",
     "text": [
      "2216\n"
     ]
    }
   ],
   "source": [
    "d={\"I\":1,\"V\":5,\"X\":10,\"L\":50,\"C\":100,\"D\":500,\"M\":1000}\n",
    "c=\"MCMXCIV\"\n",
    "output=0\n",
    "for i in c:\n",
    "    if i in d:\n",
    "        output+=d[i]\n",
    "        \n",
    "print(output)"
   ]
  },
  {
   "cell_type": "code",
   "execution_count": 3,
   "id": "2ae9dbf4",
   "metadata": {},
   "outputs": [
    {
     "name": "stdout",
     "output_type": "stream",
     "text": [
      "1994\n"
     ]
    }
   ],
   "source": [
    "d = {\"I\": 1, \"V\": 5, \"X\": 10, \"L\": 50, \"C\": 100, \"D\": 500, \"M\": 1000}\n",
    "c = \"MCMXCIV\"\n",
    "output = 0\n",
    "prev_value = 0\n",
    "\n",
    "for char in c:\n",
    "    current_value = d[char]\n",
    "    if current_value > prev_value:\n",
    "        output += current_value - 2 * prev_value\n",
    "    else:\n",
    "        output += current_value\n",
    "    prev_value = current_value\n",
    "\n",
    "print(output)\n"
   ]
  },
  {
   "cell_type": "code",
   "execution_count": null,
   "id": "be8cd2b1",
   "metadata": {},
   "outputs": [],
   "source": [
    "d = {\"I\": 1, \"V\": 5, \"X\": 10, \"L\": 50, \"C\": 100, \"D\": 500, \"M\": 1000}\n",
    "d['I']"
   ]
  },
  {
   "cell_type": "code",
   "execution_count": null,
   "id": "dca26a44",
   "metadata": {},
   "outputs": [],
   "source": [
    "4+9-2*2/3"
   ]
  },
  {
   "cell_type": "code",
   "execution_count": null,
   "id": "f0f22aa6",
   "metadata": {},
   "outputs": [],
   "source": [
    "l=[123]\n",
    "m=\"\"\n",
    "output1=[]\n",
    "for i in l:\n",
    "    m+=str(i)\n",
    "ouput=int(m)+1\n",
    "for i in str(ouput):\n",
    "    output1.append(int(i))\n",
    "return output1\n",
    "    \n",
    "    \n",
    "    "
   ]
  },
  {
   "cell_type": "code",
   "execution_count": 3,
   "id": "0f59bb4c",
   "metadata": {},
   "outputs": [
    {
     "name": "stdout",
     "output_type": "stream",
     "text": [
      "\n"
     ]
    }
   ],
   "source": [
    "strs =[\"flower\",\"flow\",\"flight\"]\n",
    "output=\"\"\n",
    "check=len(min(strs))\n",
    "k=strs[0][0:check]\n",
    "while check>0:\n",
    "    for i in strs:\n",
    "        if (k in i):\n",
    "            output=k\n",
    "        else:\n",
    "            output=\"\"\n",
    "    check-=1\n",
    "print(output)"
   ]
  },
  {
   "cell_type": "code",
   "execution_count": 4,
   "id": "105548a0",
   "metadata": {},
   "outputs": [
    {
     "name": "stdout",
     "output_type": "stream",
     "text": [
      "3\n",
      "dog\n",
      "2\n",
      "ra\n",
      "1\n",
      "c\n",
      "car\n"
     ]
    }
   ],
   "source": [
    "strs = [\"dog\",\"racecar\",\"car\"]\n",
    "out=len(min(strs))\n",
    "out1=min(strs)\n",
    "print(out)\n",
    "output=\"\"\n",
    "for i in range (len(strs)):\n",
    "    print(strs [i][0:out])\n",
    "    if (strs [i][0:out]) in out1:\n",
    "        output=out1\n",
    "    else:\n",
    "        out=out-1\n",
    "        print(out)\n",
    "        output=\" \"\n",
    "print(output)\n",
    "        "
   ]
  },
  {
   "cell_type": "code",
   "execution_count": 5,
   "id": "028ea4df",
   "metadata": {},
   "outputs": [
    {
     "name": "stdout",
     "output_type": "stream",
     "text": [
      "flow\n",
      "flow\n",
      "flow\n",
      "flow\n",
      "flow\n",
      "flow\n",
      "flow\n",
      "flow\n",
      "flow\n",
      "flow\n",
      "flow\n"
     ]
    }
   ],
   "source": [
    "strs =[\"flower\",\"flow\",\"flight\"]\n",
    "\n",
    "va=len(min(strs,key=len))\n",
    "check=min(strs,key=len)\n",
    "output=\"\"\n",
    "while va>0:\n",
    "    for i in strs:\n",
    "        if (check[0:va]) in i:\n",
    "            print(check)\n",
    "            output=check\n",
    "        else:\n",
    "            output=\"\"\n",
    "    va-=1\n",
    "print(output)"
   ]
  },
  {
   "cell_type": "code",
   "execution_count": null,
   "id": "38dc8630",
   "metadata": {},
   "outputs": [],
   "source": [
    "strs =[\"flower\",\"flower\",\"flower\"]\n",
    "\n",
    "list1=[]\n",
    "output=\"\"\n",
    "va=len(min(strs,key=len))\n",
    "while va>=0:\n",
    "    for i in strs:\n",
    "        list1.append(i[0:va])\n",
    "    if all(x == list1[0] for x in list1):\n",
    "        output=list1[0]\n",
    "        break\n",
    "    else:\n",
    "        list1.clear()\n",
    "        output=\"\"\n",
    "    va-=1\n",
    "    \n",
    "print(output)\n"
   ]
  },
  {
   "cell_type": "code",
   "execution_count": null,
   "id": "1cf11ef5",
   "metadata": {},
   "outputs": [],
   "source": [
    "l=[\"fl\",\"flow\"]\n",
    "if all(i==l[0] for i in l):\n",
    "    print(\"same\")\n",
    "else:\n",
    "    print(\"notsame\")"
   ]
  },
  {
   "cell_type": "code",
   "execution_count": null,
   "id": "e9ae218c",
   "metadata": {},
   "outputs": [],
   "source": [
    "s =\"()[]{]\"\n",
    "d=[\"()\",\"{}\",\"[]\"]\n",
    "for i in range(0,len(s)-1,2):\n",
    "    if (s[i]+s[i+1]) in d:\n",
    "        print(True)\n",
    "    else:\n",
    "        print(False)\n",
    "    \n"
   ]
  },
  {
   "cell_type": "code",
   "execution_count": null,
   "id": "d066060e",
   "metadata": {},
   "outputs": [],
   "source": [
    "a = [1, 2, 3]\n",
    "b = a\n",
    "b += [4, 5]\n",
    "print(a)\n"
   ]
  },
  {
   "cell_type": "code",
   "execution_count": null,
   "id": "65d37d97",
   "metadata": {},
   "outputs": [],
   "source": [
    "l=[\"flower\",\"flow\"]\n",
    "print(min(l,key=len))"
   ]
  },
  {
   "cell_type": "code",
   "execution_count": null,
   "id": "8cf808d5",
   "metadata": {},
   "outputs": [],
   "source": [
    "l=[\"flower\",\"flow\"]\n",
    "if all(i==l[0] for i in l):\n",
    "    print(\"yes\")\n",
    "else:\n",
    "    print(\"no\")\n"
   ]
  },
  {
   "cell_type": "code",
   "execution_count": null,
   "id": "ea42eb5e",
   "metadata": {},
   "outputs": [],
   "source": [
    "list1 = [1,2,4]\n",
    "list2 = [1,3,4]\n",
    "list3=list1+list2\n",
    "out=sorted(list3)\n",
    "out"
   ]
  },
  {
   "cell_type": "code",
   "execution_count": 6,
   "id": "f4001be1",
   "metadata": {},
   "outputs": [
    {
     "name": "stdout",
     "output_type": "stream",
     "text": [
      "0\n",
      "-1\n"
     ]
    }
   ],
   "source": [
    "haystack = \"sadbutsad\"\n",
    "needle = \"sad\"\n",
    "int1=0\n",
    "int2=(len(needle))\n",
    "while int2<(len(haystack)):\n",
    "    if haystack[int1:int2]==needle:\n",
    "        print(int1)\n",
    "    int1+=1\n",
    "    int2+=1\n",
    "if int2==len(haystack):\n",
    "    print(-1)\n",
    "else:\n",
    "    print(int1)\n"
   ]
  },
  {
   "cell_type": "code",
   "execution_count": null,
   "id": "2271ba8b",
   "metadata": {},
   "outputs": [],
   "source": [
    "haystack = \"mississippi\"\n",
    "needle = \"pi\"\n",
    "if len(haystack)==len(needle):\n",
    "    if needle in haystack:\n",
    "        print(0)\n",
    "elif len(needle)==1:\n",
    "    for i,j in enumerate(haystack):\n",
    "        if j in needle:\n",
    "            print(i,\"return\")\n",
    "        \n",
    "else:   \n",
    "    int1=0\n",
    "    int2=(len(needle))\n",
    "    while int2<(len(haystack)):\n",
    "        if haystack[int1:int2]==needle:\n",
    "            print(int1,\"answer\")\n",
    "        int1+=1\n",
    "        int2+=1\n",
    "    if int2==len(haystack):\n",
    "        print(-1)\n",
    "    elif int1==0:\n",
    "        print(-1)\n",
    "    else:\n",
    "        print(int1)\n"
   ]
  },
  {
   "cell_type": "code",
   "execution_count": 2,
   "id": "52190fe7",
   "metadata": {},
   "outputs": [
    {
     "name": "stdout",
     "output_type": "stream",
     "text": [
      "0\n",
      "6\n",
      "-1\n"
     ]
    }
   ],
   "source": [
    "haystack = \"sadbutsad\"\n",
    "needle = \"sad\"\n",
    "\n",
    "int1=0\n",
    "int2=len(needle)\n",
    "while int1<=len(haystack):\n",
    "    int3=haystack[int1:int2]\n",
    "    if needle==int3:\n",
    "        print(int1)\n",
    "    int1+=1\n",
    "    int2+=1\n",
    "print(-1)\n"
   ]
  },
  {
   "cell_type": "code",
   "execution_count": null,
   "id": "ea0c5262",
   "metadata": {},
   "outputs": [],
   "source": [
    "nums =[1,3,5,6]\n",
    "target=5\n",
    "for  i,j in enumerate(nums):\n",
    "    if j>=target:\n",
    "        print(i)"
   ]
  },
  {
   "cell_type": "code",
   "execution_count": null,
   "id": "0d1eb97d",
   "metadata": {},
   "outputs": [],
   "source": [
    "a=\"111\"\n",
    "print(int(a,2))"
   ]
  },
  {
   "cell_type": "code",
   "execution_count": null,
   "id": "d93ca953",
   "metadata": {},
   "outputs": [],
   "source": [
    "import math\n",
    "\n",
    "x=8\n",
    "sqrt_value = math.sqrt(x)\n",
    "print(int(sqrt_value))\n"
   ]
  },
  {
   "cell_type": "code",
   "execution_count": null,
   "id": "d9938bd1",
   "metadata": {},
   "outputs": [],
   "source": [
    "n=2\n",
    "m=0\n",
    "for i in range (1,n+1):\n",
    "    \n"
   ]
  },
  {
   "cell_type": "code",
   "execution_count": 7,
   "id": "b9ff9db2",
   "metadata": {},
   "outputs": [
    {
     "name": "stdout",
     "output_type": "stream",
     "text": [
      "[0, 1, 1]\n",
      "3\n",
      "[0, 1, 1, 2]\n",
      "5\n",
      "[0, 1, 1, 2, 3]\n",
      "8\n",
      "[0, 1, 1, 2, 3, 5]\n",
      "13\n",
      "[0, 1, 1, 2, 3, 5, 8]\n",
      "21\n",
      "[0, 1, 1, 2, 3, 5, 8, 13]\n",
      "34\n"
     ]
    }
   ],
   "source": [
    "n=8\n",
    "fib_series = [0, 1]\n",
    "while len(fib_series) < n:\n",
    "    fib_series.append(fib_series[-1] + fib_series[-2])\n",
    "    print(fib_series)\n",
    "    if n==1:\n",
    "        print(1)\n",
    "    print(sum(fib_series)+1)"
   ]
  },
  {
   "cell_type": "code",
   "execution_count": null,
   "id": "27868f70",
   "metadata": {},
   "outputs": [],
   "source": [
    "import array"
   ]
  },
  {
   "cell_type": "code",
   "execution_count": null,
   "id": "1ec39f9a",
   "metadata": {},
   "outputs": [],
   "source": [
    "l=[1,2,3]"
   ]
  },
  {
   "cell_type": "code",
   "execution_count": null,
   "id": "252308e0",
   "metadata": {},
   "outputs": [],
   "source": [
    "l.append(4)"
   ]
  },
  {
   "cell_type": "code",
   "execution_count": null,
   "id": "145c2a20",
   "metadata": {},
   "outputs": [],
   "source": [
    "l"
   ]
  },
  {
   "cell_type": "code",
   "execution_count": null,
   "id": "7af4627a",
   "metadata": {},
   "outputs": [],
   "source": [
    "l.insert(1,34)"
   ]
  },
  {
   "cell_type": "code",
   "execution_count": null,
   "id": "08a2f02f",
   "metadata": {},
   "outputs": [],
   "source": [
    "l"
   ]
  },
  {
   "cell_type": "code",
   "execution_count": null,
   "id": "f5342915",
   "metadata": {},
   "outputs": [],
   "source": [
    "l[1]=45"
   ]
  },
  {
   "cell_type": "code",
   "execution_count": null,
   "id": "c901bc42",
   "metadata": {},
   "outputs": [],
   "source": [
    "l"
   ]
  },
  {
   "cell_type": "code",
   "execution_count": null,
   "id": "62c0aa8d",
   "metadata": {},
   "outputs": [],
   "source": [
    "l=[1, 34, 2, 3, 4]\n",
    "m=[1, 34, 2, 3, 4]\n",
    "l.extend(m)"
   ]
  },
  {
   "cell_type": "code",
   "execution_count": null,
   "id": "f2e2884a",
   "metadata": {},
   "outputs": [],
   "source": [
    "l"
   ]
  },
  {
   "cell_type": "code",
   "execution_count": null,
   "id": "8b82f2f1",
   "metadata": {},
   "outputs": [],
   "source": [
    "l=(1, 34, 2, 3, 4,8,4)\n",
    "m=set(l)\n",
    "m"
   ]
  },
  {
   "cell_type": "code",
   "execution_count": null,
   "id": "d4dc78f6",
   "metadata": {},
   "outputs": [],
   "source": [
    "for i in m:\n",
    "    print(i)"
   ]
  },
  {
   "cell_type": "code",
   "execution_count": null,
   "id": "d2b3daf1",
   "metadata": {},
   "outputs": [],
   "source": [
    "l={\"name\":\"raja\",\"age\":34}\n",
    "l[\"name\"]=\"k\"\n",
    "l[\"batch\"]=56\n",
    "l[\"batch\"]"
   ]
  },
  {
   "cell_type": "code",
   "execution_count": null,
   "id": "81c0039a",
   "metadata": {},
   "outputs": [],
   "source": [
    "nums1 =[1,2,3,0,0,0]\n",
    "m = 3\n",
    "nums2 = [2,5,6]\n",
    "n = 3\n",
    "\n",
    "nums1[:] = sorted(nums1[:m] + nums2[:n])\n",
    "print(nums1)"
   ]
  },
  {
   "cell_type": "code",
   "execution_count": 8,
   "id": "da950ad8",
   "metadata": {},
   "outputs": [
    {
     "name": "stdout",
     "output_type": "stream",
     "text": [
      "[0, 3, 1, 3, 0, 4, 1]\n"
     ]
    }
   ],
   "source": [
    "nums = [0,3,1,2,2,3,0,4,2,1]\n",
    "val=2\n",
    "while val in nums:\n",
    "    nums.remove(val)\n",
    "print(nums)"
   ]
  },
  {
   "cell_type": "code",
   "execution_count": null,
   "id": "e78b8dfe",
   "metadata": {},
   "outputs": [],
   "source": [
    "nums = [0,3,1,2,2,3,0,4,2,1]\n",
    "\n",
    "for i,j in enumerate(nums):\n",
    "    print(i,j)"
   ]
  },
  {
   "cell_type": "code",
   "execution_count": null,
   "id": "e249fdb2",
   "metadata": {},
   "outputs": [],
   "source": [
    "nums=[0,0,1,1,1,2,2,3,3,4]\n",
    "nums=set(nums)\n",
    "nums=list(nums)\n",
    "print(nums)"
   ]
  },
  {
   "cell_type": "code",
   "execution_count": 2,
   "id": "4c344481",
   "metadata": {},
   "outputs": [
    {
     "name": "stdout",
     "output_type": "stream",
     "text": [
      "7\n",
      "2\n"
     ]
    }
   ],
   "source": [
    "nums=[0,1,5,7,7]\n",
    "l={}\n",
    "\n",
    "for i in nums:\n",
    "    if i in l:\n",
    "        l[i]=l[i]+1\n",
    "    else:\n",
    "        l[i]=1\n",
    "print(max(l))\n",
    "print(l[max(l,key=l.get)])"
   ]
  },
  {
   "cell_type": "code",
   "execution_count": 1,
   "id": "f232a5da",
   "metadata": {},
   "outputs": [
    {
     "data": {
      "text/plain": [
       "[3, 99, -1, -100]"
      ]
     },
     "execution_count": 1,
     "metadata": {},
     "output_type": "execute_result"
    }
   ],
   "source": [
    "nums = [-1,-100,3,99]\n",
    "k = 2\n",
    "for i in range(k):\n",
    "    nums.insert(0,nums[-1])\n",
    "    nums.pop()\n",
    "nums"
   ]
  },
  {
   "cell_type": "code",
   "execution_count": null,
   "id": "322d466c",
   "metadata": {},
   "outputs": [],
   "source": [
    "ransomNote =\"aa\"\n",
    "magazine =\"ab\"\n",
    "count=0\n",
    "\n",
    "for i in ransomNote:\n",
    "    if i in magazine:\n",
    "        count+=1\n",
    "if count==len(ransomNote):\n",
    "    print(\"true\")\n",
    "    "
   ]
  },
  {
   "cell_type": "code",
   "execution_count": null,
   "id": "cbcc89ae",
   "metadata": {},
   "outputs": [],
   "source": [
    "def small(l):\n",
    "    k=l[0]\n",
    "    for i in l:\n",
    "        if i>k:\n",
    "            k=i\n",
    "    return k\n",
    "\n",
    "l=[3,4,10,5,35,2]\n",
    "print(small(l))\n",
    "    "
   ]
  },
  {
   "cell_type": "code",
   "execution_count": null,
   "id": "160b9d2f",
   "metadata": {},
   "outputs": [],
   "source": [
    "s = \"anagram\"\n",
    "t = \"nagaram\"\n",
    "\n",
    "k=\"\".join(sorted(s))\n",
    "m=\"\".join(sorted(t))\n",
    "if k==m:\n",
    "    print(\"true\")"
   ]
  },
  {
   "cell_type": "code",
   "execution_count": null,
   "id": "02322f06",
   "metadata": {},
   "outputs": [],
   "source": [
    "import pandas as pd\n",
    "\n",
    "customers_data = {\n",
    "    'id': [1, 2, 3, 4],\n",
    "    'name': ['Joe', 'Henry', 'Sam', 'Max']\n",
    "}\n",
    "\n",
    "orders_data = {\n",
    "    'id': [1,2],\n",
    "    'customerId': [3,1]\n",
    "}\n",
    "\n",
    "customerdf=pd.DataFrame(customers_data)\n",
    "ordersdf=pd.DataFrame(orders_data)\n",
    "\n",
    "merged_df = pd.merge(customerdf, ordersdf, how='left', left_on='id', right_on='customerId')\n",
    "result_df = merged_df[merged_df['customerId'].isna()][[\"name\"]] \n",
    "result_df = result_df.rename(columns={'name': 'customers'}).reset_index(drop=True)\n",
    "result_df"
   ]
  },
  {
   "cell_type": "code",
   "execution_count": null,
   "id": "2841978b",
   "metadata": {},
   "outputs": [],
   "source": [
    "l=19\n",
    "k=str(l)\n",
    "m=0\n",
    "while len(k)>=2:\n",
    "    for i in k:\n",
    "        m+=int(i)**2\n",
    "    print(m)\n",
    "    l=m\n",
    "    \n",
    "print(m)"
   ]
  },
  {
   "cell_type": "code",
   "execution_count": 24,
   "id": "991757ec",
   "metadata": {},
   "outputs": [
    {
     "name": "stdout",
     "output_type": "stream",
     "text": [
      "   id\n",
      "0   4\n",
      "1   7\n"
     ]
    }
   ],
   "source": [
    "import pandas as pd\n",
    "data = {\n",
    "    'article_id': [1, 1, 2, 2, 4, 3, 3],\n",
    "    'author_id': [3, 3, 7, 7, 7, 4, 4],\n",
    "    'viewer_id': [5, 6, 7, 6, 1, 4, 4],\n",
    "    'view_date': ['2019-08-01', '2019-08-02', '2019-08-01', '2019-08-02', '2019-07-22', '2019-07-21', '2019-07-21']\n",
    "}\n",
    "\n",
    "df = pd.DataFrame(data)\n",
    "\n",
    "filter1=df[df[\"author_id\"]==df[\"viewer_id\"]]\n",
    "df1=filter1[\"viewer_id\"].unique()\n",
    "sorted_unique_authors = sorted(df1)\n",
    "result_df = pd.DataFrame(sorted_unique_authors, columns=[\"id\"])\n",
    "\n",
    "print(result_df)"
   ]
  },
  {
   "cell_type": "code",
   "execution_count": 26,
   "id": "15875074",
   "metadata": {},
   "outputs": [
    {
     "data": {
      "text/plain": [
       "4"
      ]
     },
     "execution_count": 26,
     "metadata": {},
     "output_type": "execute_result"
    }
   ],
   "source": [
    "d = {\"I\": 1, \"V\": 5, \"X\": 10, \"L\": 50, \"C\": 100, \"D\": 500, \"M\": 1000}\n",
    "s=s.replace(\"IV\",'IIII').replace(\"IX\",\"VIIII\")\n",
    "s=s.replace(\"XL\",'XXXX').replace(\"XC\",\"LXXXX\")\n",
    "s=s.replace(\"CD\",'CCCC').replace(\"CM\",\"DCCCC\")\n",
    "\n",
    "output=0\n",
    "\n",
    "for i in s:\n",
    "    output+=d[i]\n",
    "output"
   ]
  },
  {
   "cell_type": "code",
   "execution_count": 28,
   "id": "b8427924",
   "metadata": {},
   "outputs": [
    {
     "data": {
      "text/plain": [
       "'Vote for Biden'"
      ]
     },
     "execution_count": 28,
     "metadata": {},
     "output_type": "execute_result"
    }
   ],
   "source": [
    "import pandas as pd\n",
    "data = {\"tweet_id\":[1,2],\n",
    "        \"content\":[\"Vote for Biden\",\"Let us make America great again!\"]}\n",
    "tweets=pd.DataFrame(data)\n",
    "tweets.iloc[0][\"content\"]"
   ]
  },
  {
   "cell_type": "code",
   "execution_count": 30,
   "id": "754c2590",
   "metadata": {},
   "outputs": [
    {
     "name": "stdout",
     "output_type": "stream",
     "text": [
      "2\n"
     ]
    }
   ],
   "source": [
    "for i in range (len(tweets[\"content\"])):\n",
    "    if len(tweets.iloc[i][\"content\"])>15:\n",
    "        print(tweets.iloc[i][\"tweet_id\"])\n",
    "        \n"
   ]
  },
  {
   "cell_type": "code",
   "execution_count": 39,
   "id": "0464c4c7",
   "metadata": {},
   "outputs": [
    {
     "data": {
      "text/html": [
       "<div>\n",
       "<style scoped>\n",
       "    .dataframe tbody tr th:only-of-type {\n",
       "        vertical-align: middle;\n",
       "    }\n",
       "\n",
       "    .dataframe tbody tr th {\n",
       "        vertical-align: top;\n",
       "    }\n",
       "\n",
       "    .dataframe thead th {\n",
       "        text-align: right;\n",
       "    }\n",
       "</style>\n",
       "<table border=\"1\" class=\"dataframe\">\n",
       "  <thead>\n",
       "    <tr style=\"text-align: right;\">\n",
       "      <th></th>\n",
       "      <th>tweet_id</th>\n",
       "    </tr>\n",
       "  </thead>\n",
       "  <tbody>\n",
       "    <tr>\n",
       "      <th>1</th>\n",
       "      <td>2</td>\n",
       "    </tr>\n",
       "  </tbody>\n",
       "</table>\n",
       "</div>"
      ],
      "text/plain": [
       "   tweet_id\n",
       "1         2"
      ]
     },
     "execution_count": 39,
     "metadata": {},
     "output_type": "execute_result"
    }
   ],
   "source": [
    "data = {\"tweet_id\":[1,2],\n",
    "        \"content\":[\"Vote for Biden\",\"Let us make America great again!\"]}\n",
    "tweets=pd.DataFrame(data)\n",
    "Filter=tweets[tweets['content'].str.len() > 15]\n",
    "Filter[[\"tweet_id\"]]"
   ]
  },
  {
   "cell_type": "code",
   "execution_count": 11,
   "id": "e5872ff5",
   "metadata": {},
   "outputs": [
    {
     "data": {
      "text/html": [
       "<div>\n",
       "<style scoped>\n",
       "    .dataframe tbody tr th:only-of-type {\n",
       "        vertical-align: middle;\n",
       "    }\n",
       "\n",
       "    .dataframe tbody tr th {\n",
       "        vertical-align: top;\n",
       "    }\n",
       "\n",
       "    .dataframe thead th {\n",
       "        text-align: right;\n",
       "    }\n",
       "</style>\n",
       "<table border=\"1\" class=\"dataframe\">\n",
       "  <thead>\n",
       "    <tr style=\"text-align: right;\">\n",
       "      <th></th>\n",
       "      <th>id</th>\n",
       "      <th>name</th>\n",
       "    </tr>\n",
       "  </thead>\n",
       "  <tbody>\n",
       "    <tr>\n",
       "      <th>0</th>\n",
       "      <td>12</td>\n",
       "      <td>Raja</td>\n",
       "    </tr>\n",
       "    <tr>\n",
       "      <th>1</th>\n",
       "      <td>2</td>\n",
       "      <td>Palani</td>\n",
       "    </tr>\n",
       "  </tbody>\n",
       "</table>\n",
       "</div>"
      ],
      "text/plain": [
       "   id    name\n",
       "0  12    Raja\n",
       "1   2  Palani"
      ]
     },
     "execution_count": 11,
     "metadata": {},
     "output_type": "execute_result"
    }
   ],
   "source": [
    "import pandas as pd\n",
    "data={\n",
    "    \"id\":[12,2],\n",
    "    \"name\":[\"rAJA\",\"pALANI\"]\n",
    "    \n",
    "}\n",
    "\n",
    "df=pd.DataFrame(data)\n",
    "df[\"name\"]=df[\"name\"].str.capitalize()\n",
    "df"
   ]
  },
  {
   "cell_type": "code",
   "execution_count": 2,
   "id": "17d6daf1",
   "metadata": {},
   "outputs": [
    {
     "name": "stdout",
     "output_type": "stream",
     "text": [
      "{'kiwi', 'orange', 'cherry', 'apple', 'banana'}\n"
     ]
    }
   ],
   "source": [
    "thisset = {\"apple\", \"banana\", \"cherry\"}\n",
    "mylist = {\"kiwi\", \"orange\"}\n",
    "\n",
    "thisset.update(mylist)\n",
    "\n",
    "print(thisset)"
   ]
  },
  {
   "cell_type": "code",
   "execution_count": 3,
   "id": "03244cb1",
   "metadata": {},
   "outputs": [
    {
     "name": "stdout",
     "output_type": "stream",
     "text": [
      "cherry\n",
      "{'apple', 'banana'}\n"
     ]
    }
   ],
   "source": [
    "thisset = {\"apple\", \"banana\", \"cherry\"}\n",
    "\n",
    "x = thisset.pop()\n",
    "\n",
    "print(x)\n",
    "\n",
    "print(thisset)"
   ]
  },
  {
   "cell_type": "code",
   "execution_count": 4,
   "id": "7157abc3",
   "metadata": {},
   "outputs": [
    {
     "name": "stdout",
     "output_type": "stream",
     "text": [
      "{1, 2, 'b', 3, 'c', 'a'}\n"
     ]
    }
   ],
   "source": [
    "set1 = {\"a\", \"b\" , \"c\"}\n",
    "set2 = {1, 2, 3}\n",
    "\n",
    "set1.update(set2)\n",
    "print(set1)"
   ]
  },
  {
   "cell_type": "code",
   "execution_count": 6,
   "id": "d402c0bf",
   "metadata": {},
   "outputs": [],
   "source": [
    "import pandas as pd"
   ]
  },
  {
   "cell_type": "code",
   "execution_count": 7,
   "id": "a6a7b4b9",
   "metadata": {},
   "outputs": [],
   "source": [
    "data = [[1, 'Winston', 'winston@leetcode.com'], [2, 'Jonathan', 'jonathanisgreat'], [3, 'Annabelle', 'bella-@leetcode.com'], [4, 'Sally', 'sally.come@leetcode.com'], [5, 'Marwan', 'quarz#2020@leetcode.com'], [6, 'David', 'david69@gmail.com'], [7, 'Shapiro', '.shapo@leetcode.com']]\n",
    "users = pd.DataFrame(data, columns=['user_id', 'name', 'mail']).astype({'user_id':'int64', 'name':'object', 'mail':'object'})\n",
    "\n"
   ]
  },
  {
   "cell_type": "code",
   "execution_count": 14,
   "id": "1afb7f0b",
   "metadata": {},
   "outputs": [
    {
     "data": {
      "text/html": [
       "<div>\n",
       "<style scoped>\n",
       "    .dataframe tbody tr th:only-of-type {\n",
       "        vertical-align: middle;\n",
       "    }\n",
       "\n",
       "    .dataframe tbody tr th {\n",
       "        vertical-align: top;\n",
       "    }\n",
       "\n",
       "    .dataframe thead th {\n",
       "        text-align: right;\n",
       "    }\n",
       "</style>\n",
       "<table border=\"1\" class=\"dataframe\">\n",
       "  <thead>\n",
       "    <tr style=\"text-align: right;\">\n",
       "      <th></th>\n",
       "      <th>user_id</th>\n",
       "      <th>name</th>\n",
       "      <th>mail</th>\n",
       "    </tr>\n",
       "  </thead>\n",
       "  <tbody>\n",
       "  </tbody>\n",
       "</table>\n",
       "</div>"
      ],
      "text/plain": [
       "Empty DataFrame\n",
       "Columns: [user_id, name, mail]\n",
       "Index: []"
      ]
     },
     "execution_count": 14,
     "metadata": {},
     "output_type": "execute_result"
    }
   ],
   "source": [
    "filtr=users.duplicated('mail',keep=False)\n",
    "users[filtr]"
   ]
  },
  {
   "cell_type": "code",
   "execution_count": 15,
   "id": "59986fba",
   "metadata": {},
   "outputs": [],
   "source": [
    "data = [[1, 'john@example.com'], [2, 'bob@example.com'], [3, 'john@example.com']]\n",
    "person = pd.DataFrame(data, columns=['id', 'email']).astype({'id':'int64', 'email':'object'})"
   ]
  },
  {
   "cell_type": "code",
   "execution_count": 24,
   "id": "a9659b34",
   "metadata": {},
   "outputs": [],
   "source": [
    "person.sort_values(by=\"id\",inplace=True)\n"
   ]
  },
  {
   "cell_type": "code",
   "execution_count": 26,
   "id": "20ba8703",
   "metadata": {},
   "outputs": [],
   "source": [
    "person.drop_duplicates(subset=\"email\",keep='first',inplace=True)"
   ]
  },
  {
   "cell_type": "code",
   "execution_count": 27,
   "id": "d7676fec",
   "metadata": {},
   "outputs": [
    {
     "data": {
      "text/html": [
       "<div>\n",
       "<style scoped>\n",
       "    .dataframe tbody tr th:only-of-type {\n",
       "        vertical-align: middle;\n",
       "    }\n",
       "\n",
       "    .dataframe tbody tr th {\n",
       "        vertical-align: top;\n",
       "    }\n",
       "\n",
       "    .dataframe thead th {\n",
       "        text-align: right;\n",
       "    }\n",
       "</style>\n",
       "<table border=\"1\" class=\"dataframe\">\n",
       "  <thead>\n",
       "    <tr style=\"text-align: right;\">\n",
       "      <th></th>\n",
       "      <th>id</th>\n",
       "      <th>email</th>\n",
       "    </tr>\n",
       "  </thead>\n",
       "  <tbody>\n",
       "    <tr>\n",
       "      <th>0</th>\n",
       "      <td>1</td>\n",
       "      <td>john@example.com</td>\n",
       "    </tr>\n",
       "    <tr>\n",
       "      <th>1</th>\n",
       "      <td>2</td>\n",
       "      <td>bob@example.com</td>\n",
       "    </tr>\n",
       "  </tbody>\n",
       "</table>\n",
       "</div>"
      ],
      "text/plain": [
       "   id             email\n",
       "0   1  john@example.com\n",
       "1   2   bob@example.com"
      ]
     },
     "execution_count": 27,
     "metadata": {},
     "output_type": "execute_result"
    }
   ],
   "source": [
    "person"
   ]
  },
  {
   "cell_type": "code",
   "execution_count": 17,
   "id": "3a5158ae",
   "metadata": {},
   "outputs": [
    {
     "data": {
      "text/html": [
       "<div>\n",
       "<style scoped>\n",
       "    .dataframe tbody tr th:only-of-type {\n",
       "        vertical-align: middle;\n",
       "    }\n",
       "\n",
       "    .dataframe tbody tr th {\n",
       "        vertical-align: top;\n",
       "    }\n",
       "\n",
       "    .dataframe thead th {\n",
       "        text-align: right;\n",
       "    }\n",
       "</style>\n",
       "<table border=\"1\" class=\"dataframe\">\n",
       "  <thead>\n",
       "    <tr style=\"text-align: right;\">\n",
       "      <th></th>\n",
       "      <th>user_id</th>\n",
       "      <th>name</th>\n",
       "      <th>mail</th>\n",
       "    </tr>\n",
       "  </thead>\n",
       "  <tbody>\n",
       "  </tbody>\n",
       "</table>\n",
       "</div>"
      ],
      "text/plain": [
       "Empty DataFrame\n",
       "Columns: [user_id, name, mail]\n",
       "Index: []"
      ]
     },
     "execution_count": 17,
     "metadata": {},
     "output_type": "execute_result"
    }
   ],
   "source": [
    "filtr=users.duplicated('mail',keep=False)\n",
    "users[filtr]"
   ]
  },
  {
   "cell_type": "code",
   "execution_count": 35,
   "id": "2186d464",
   "metadata": {},
   "outputs": [
    {
     "name": "stdout",
     "output_type": "stream",
     "text": [
      "            mail\n",
      "0  a@example.com\n",
      "1  b@example.com\n",
      "3  c@example.com\n",
      "4  d@example.com\n"
     ]
    }
   ],
   "source": [
    "import pandas as pd\n",
    "\n",
    "# Sample DataFrame\n",
    "data = {\n",
    "    'mail': ['a@example.com', 'b@example.com', 'a@example.com', 'c@example.com', 'd@example.com', 'b@example.com']\n",
    "}\n",
    "df = pd.DataFrame(data)\n",
    "filter1 = df.drop_duplicates(\"mail\")\n",
    "\n",
    "print(filter1)"
   ]
  },
  {
   "cell_type": "code",
   "execution_count": 43,
   "id": "8d5066a0",
   "metadata": {},
   "outputs": [
    {
     "name": "stdout",
     "output_type": "stream",
     "text": [
      "[1]\n",
      "[1, 1, 2]\n",
      "[1, 1, 2, 2, 3]\n",
      "[1, 1, 2, 2, 3]\n"
     ]
    }
   ],
   "source": [
    "l=[1,1,1,2,2,2,3]\n",
    "k=[]\n",
    "m={}\n",
    "for i in l:\n",
    "    if i not in m:\n",
    "        m[i]=1\n",
    "        k.append(i)\n",
    "    elif i in m:\n",
    "        if m[i]<2:\n",
    "            m[i]+=1\n",
    "            k.append(i)\n",
    "l[:]=k\n",
    "print(k)"
   ]
  },
  {
   "cell_type": "code",
   "execution_count": 5,
   "id": "1e838485",
   "metadata": {},
   "outputs": [
    {
     "name": "stdout",
     "output_type": "stream",
     "text": [
      "baab\n",
      "false\n"
     ]
    }
   ],
   "source": [
    "s = \"ab\"\n",
    "t = \"baab\"\n",
    "k=\"\"\n",
    "for i in t:\n",
    "    if i in s:\n",
    "        k+=i\n",
    "print(k)\n",
    "print()\n",
    "if k==s:\n",
    "    print(\"true\")\n",
    "else:\n",
    "    print(\"false\")\n",
    "        \n"
   ]
  },
  {
   "cell_type": "code",
   "execution_count": 48,
   "id": "c6077913",
   "metadata": {},
   "outputs": [
    {
     "name": "stdout",
     "output_type": "stream",
     "text": [
      "ahbdc\n"
     ]
    }
   ],
   "source": [
    "t = \"ahbgdc\"\n",
    "k=t.replace(\"g\",\"\")\n",
    "print(k)"
   ]
  },
  {
   "cell_type": "code",
   "execution_count": 12,
   "id": "1e8138a0",
   "metadata": {},
   "outputs": [
    {
     "data": {
      "text/plain": [
       "4"
      ]
     },
     "execution_count": 12,
     "metadata": {},
     "output_type": "execute_result"
    }
   ],
   "source": [
    "a = \"abba\"\n",
    "s = \"dog cat cat dog\"\n",
    "k=[i for i in a ]\n",
    "m=s.split()\n",
    "if len(k)==len(m):\n",
    "    for i in range(len(k)):\n",
    "        "
   ]
  },
  {
   "cell_type": "code",
   "execution_count": 66,
   "id": "371550a5",
   "metadata": {},
   "outputs": [
    {
     "name": "stdout",
     "output_type": "stream",
     "text": [
      "   studentId  age\n",
      "0          1    4\n",
      "1          2    5\n",
      "2          3    7\n",
      "3          4   20\n"
     ]
    }
   ],
   "source": [
    "import pandas as pd\n",
    "\n",
    "k=[[1,4],[2,5],[3,7],[4, 20]]\n",
    "\n",
    "data=pd.DataFrame(k,columns=[\"studentId\",\"age\"])\n",
    "print(data)\n"
   ]
  },
  {
   "cell_type": "code",
   "execution_count": 67,
   "id": "6f4d1a1e",
   "metadata": {},
   "outputs": [
    {
     "name": "stdout",
     "output_type": "stream",
     "text": [
      "   studentId  age\n",
      "0          5    2\n",
      "1          6    5\n",
      "2          7    7\n",
      "3          8   20\n"
     ]
    }
   ],
   "source": [
    "k1=[[5,2],[6,5],[7,7],[8, 20]]\n",
    "\n",
    "data1=pd.DataFrame(k1,columns=[\"studentId\",\"age\"])\n",
    "print(data1)"
   ]
  },
  {
   "cell_type": "code",
   "execution_count": 71,
   "id": "735a5655",
   "metadata": {},
   "outputs": [],
   "source": [
    "data3=pd.concat([data,data1],ignore_index=True)"
   ]
  },
  {
   "cell_type": "code",
   "execution_count": 72,
   "id": "4a1c5c03",
   "metadata": {},
   "outputs": [
    {
     "data": {
      "text/html": [
       "<div>\n",
       "<style scoped>\n",
       "    .dataframe tbody tr th:only-of-type {\n",
       "        vertical-align: middle;\n",
       "    }\n",
       "\n",
       "    .dataframe tbody tr th {\n",
       "        vertical-align: top;\n",
       "    }\n",
       "\n",
       "    .dataframe thead th {\n",
       "        text-align: right;\n",
       "    }\n",
       "</style>\n",
       "<table border=\"1\" class=\"dataframe\">\n",
       "  <thead>\n",
       "    <tr style=\"text-align: right;\">\n",
       "      <th></th>\n",
       "      <th>studentId</th>\n",
       "      <th>age</th>\n",
       "    </tr>\n",
       "  </thead>\n",
       "  <tbody>\n",
       "    <tr>\n",
       "      <th>0</th>\n",
       "      <td>1</td>\n",
       "      <td>4</td>\n",
       "    </tr>\n",
       "    <tr>\n",
       "      <th>1</th>\n",
       "      <td>2</td>\n",
       "      <td>5</td>\n",
       "    </tr>\n",
       "    <tr>\n",
       "      <th>2</th>\n",
       "      <td>3</td>\n",
       "      <td>7</td>\n",
       "    </tr>\n",
       "    <tr>\n",
       "      <th>3</th>\n",
       "      <td>4</td>\n",
       "      <td>20</td>\n",
       "    </tr>\n",
       "    <tr>\n",
       "      <th>4</th>\n",
       "      <td>5</td>\n",
       "      <td>2</td>\n",
       "    </tr>\n",
       "    <tr>\n",
       "      <th>5</th>\n",
       "      <td>6</td>\n",
       "      <td>5</td>\n",
       "    </tr>\n",
       "    <tr>\n",
       "      <th>6</th>\n",
       "      <td>7</td>\n",
       "      <td>7</td>\n",
       "    </tr>\n",
       "    <tr>\n",
       "      <th>7</th>\n",
       "      <td>8</td>\n",
       "      <td>20</td>\n",
       "    </tr>\n",
       "  </tbody>\n",
       "</table>\n",
       "</div>"
      ],
      "text/plain": [
       "   studentId  age\n",
       "0          1    4\n",
       "1          2    5\n",
       "2          3    7\n",
       "3          4   20\n",
       "4          5    2\n",
       "5          6    5\n",
       "6          7    7\n",
       "7          8   20"
      ]
     },
     "execution_count": 72,
     "metadata": {},
     "output_type": "execute_result"
    }
   ],
   "source": [
    "data3"
   ]
  },
  {
   "cell_type": "code",
   "execution_count": 46,
   "id": "91619000",
   "metadata": {},
   "outputs": [],
   "source": [
    "data=data[\"age\"].fillna(0)\n"
   ]
  },
  {
   "cell_type": "code",
   "execution_count": 47,
   "id": "0eb4d38d",
   "metadata": {},
   "outputs": [
    {
     "data": {
      "text/plain": [
       "0     0.0\n",
       "1     0.0\n",
       "2     0.0\n",
       "3    20.0\n",
       "Name: age, dtype: float64"
      ]
     },
     "execution_count": 47,
     "metadata": {},
     "output_type": "execute_result"
    }
   ],
   "source": [
    "data"
   ]
  },
  {
   "cell_type": "code",
   "execution_count": 40,
   "id": "784cdb85",
   "metadata": {},
   "outputs": [
    {
     "data": {
      "text/plain": [
       "(4, 2)"
      ]
     },
     "execution_count": 40,
     "metadata": {},
     "output_type": "execute_result"
    }
   ],
   "source": [
    "data.shape"
   ]
  },
  {
   "cell_type": "code",
   "execution_count": 34,
   "id": "cbf66e64",
   "metadata": {},
   "outputs": [],
   "source": [
    "data[\"bonus\"]=data[\"age\"]*2"
   ]
  },
  {
   "cell_type": "code",
   "execution_count": 37,
   "id": "383a34ff",
   "metadata": {},
   "outputs": [],
   "source": [
    "data[\"age\"]=data[\"age\"].astype(int)"
   ]
  },
  {
   "cell_type": "code",
   "execution_count": 38,
   "id": "2b72983f",
   "metadata": {},
   "outputs": [
    {
     "data": {
      "text/html": [
       "<div>\n",
       "<style scoped>\n",
       "    .dataframe tbody tr th:only-of-type {\n",
       "        vertical-align: middle;\n",
       "    }\n",
       "\n",
       "    .dataframe tbody tr th {\n",
       "        vertical-align: top;\n",
       "    }\n",
       "\n",
       "    .dataframe thead th {\n",
       "        text-align: right;\n",
       "    }\n",
       "</style>\n",
       "<table border=\"1\" class=\"dataframe\">\n",
       "  <thead>\n",
       "    <tr style=\"text-align: right;\">\n",
       "      <th></th>\n",
       "      <th>studentId</th>\n",
       "      <th>age</th>\n",
       "      <th>bonus</th>\n",
       "    </tr>\n",
       "  </thead>\n",
       "  <tbody>\n",
       "    <tr>\n",
       "      <th>0</th>\n",
       "      <td>1</td>\n",
       "      <td>15</td>\n",
       "      <td>30.2</td>\n",
       "    </tr>\n",
       "    <tr>\n",
       "      <th>1</th>\n",
       "      <td>2</td>\n",
       "      <td>11</td>\n",
       "      <td>22.6</td>\n",
       "    </tr>\n",
       "    <tr>\n",
       "      <th>2</th>\n",
       "      <td>3</td>\n",
       "      <td>5</td>\n",
       "      <td>11.8</td>\n",
       "    </tr>\n",
       "    <tr>\n",
       "      <th>3</th>\n",
       "      <td>4</td>\n",
       "      <td>20</td>\n",
       "      <td>40.0</td>\n",
       "    </tr>\n",
       "  </tbody>\n",
       "</table>\n",
       "</div>"
      ],
      "text/plain": [
       "   studentId  age  bonus\n",
       "0          1   15   30.2\n",
       "1          2   11   22.6\n",
       "2          3    5   11.8\n",
       "3          4   20   40.0"
      ]
     },
     "execution_count": 38,
     "metadata": {},
     "output_type": "execute_result"
    }
   ],
   "source": [
    "data"
   ]
  },
  {
   "cell_type": "code",
   "execution_count": 31,
   "id": "7ae9ea81",
   "metadata": {},
   "outputs": [],
   "source": [
    "data1=data.rename(columns={\"age\":\"age1\"})"
   ]
  },
  {
   "cell_type": "code",
   "execution_count": 25,
   "id": "83aca848",
   "metadata": {},
   "outputs": [],
   "source": [
    "k=data.dropna(subset=['age'])"
   ]
  },
  {
   "cell_type": "code",
   "execution_count": 26,
   "id": "e9e44dd2",
   "metadata": {},
   "outputs": [
    {
     "data": {
      "text/html": [
       "<div>\n",
       "<style scoped>\n",
       "    .dataframe tbody tr th:only-of-type {\n",
       "        vertical-align: middle;\n",
       "    }\n",
       "\n",
       "    .dataframe tbody tr th {\n",
       "        vertical-align: top;\n",
       "    }\n",
       "\n",
       "    .dataframe thead th {\n",
       "        text-align: right;\n",
       "    }\n",
       "</style>\n",
       "<table border=\"1\" class=\"dataframe\">\n",
       "  <thead>\n",
       "    <tr style=\"text-align: right;\">\n",
       "      <th></th>\n",
       "      <th>studentId</th>\n",
       "      <th>age</th>\n",
       "      <th>bonus</th>\n",
       "    </tr>\n",
       "  </thead>\n",
       "  <tbody>\n",
       "    <tr>\n",
       "      <th>0</th>\n",
       "      <td>1</td>\n",
       "      <td>15.0</td>\n",
       "      <td>30.0</td>\n",
       "    </tr>\n",
       "    <tr>\n",
       "      <th>1</th>\n",
       "      <td>2</td>\n",
       "      <td>11.0</td>\n",
       "      <td>22.0</td>\n",
       "    </tr>\n",
       "    <tr>\n",
       "      <th>3</th>\n",
       "      <td>4</td>\n",
       "      <td>20.0</td>\n",
       "      <td>40.0</td>\n",
       "    </tr>\n",
       "  </tbody>\n",
       "</table>\n",
       "</div>"
      ],
      "text/plain": [
       "   studentId   age  bonus\n",
       "0          1  15.0   30.0\n",
       "1          2  11.0   22.0\n",
       "3          4  20.0   40.0"
      ]
     },
     "execution_count": 26,
     "metadata": {},
     "output_type": "execute_result"
    }
   ],
   "source": [
    "k"
   ]
  },
  {
   "cell_type": "code",
   "execution_count": 21,
   "id": "65eb7b4f",
   "metadata": {},
   "outputs": [],
   "source": [
    "k=data.drop_duplicates(\"age\")"
   ]
  },
  {
   "cell_type": "code",
   "execution_count": 10,
   "id": "2bc135aa",
   "metadata": {},
   "outputs": [
    {
     "data": {
      "text/html": [
       "<div>\n",
       "<style scoped>\n",
       "    .dataframe tbody tr th:only-of-type {\n",
       "        vertical-align: middle;\n",
       "    }\n",
       "\n",
       "    .dataframe tbody tr th {\n",
       "        vertical-align: top;\n",
       "    }\n",
       "\n",
       "    .dataframe thead th {\n",
       "        text-align: right;\n",
       "    }\n",
       "</style>\n",
       "<table border=\"1\" class=\"dataframe\">\n",
       "  <thead>\n",
       "    <tr style=\"text-align: right;\">\n",
       "      <th></th>\n",
       "      <th>studentId</th>\n",
       "      <th>age</th>\n",
       "      <th>bonus</th>\n",
       "    </tr>\n",
       "  </thead>\n",
       "  <tbody>\n",
       "    <tr>\n",
       "      <th>0</th>\n",
       "      <td>1</td>\n",
       "      <td>15</td>\n",
       "      <td>30</td>\n",
       "    </tr>\n",
       "    <tr>\n",
       "      <th>1</th>\n",
       "      <td>2</td>\n",
       "      <td>11</td>\n",
       "      <td>22</td>\n",
       "    </tr>\n",
       "    <tr>\n",
       "      <th>3</th>\n",
       "      <td>4</td>\n",
       "      <td>20</td>\n",
       "      <td>40</td>\n",
       "    </tr>\n",
       "  </tbody>\n",
       "</table>\n",
       "</div>"
      ],
      "text/plain": [
       "   studentId  age  bonus\n",
       "0          1   15     30\n",
       "1          2   11     22\n",
       "3          4   20     40"
      ]
     },
     "execution_count": 10,
     "metadata": {},
     "output_type": "execute_result"
    }
   ],
   "source": [
    "k"
   ]
  },
  {
   "cell_type": "code",
   "execution_count": 75,
   "id": "dc9eaa00",
   "metadata": {},
   "outputs": [
    {
     "data": {
      "text/html": [
       "<div>\n",
       "<style scoped>\n",
       "    .dataframe tbody tr th:only-of-type {\n",
       "        vertical-align: middle;\n",
       "    }\n",
       "\n",
       "    .dataframe tbody tr th {\n",
       "        vertical-align: top;\n",
       "    }\n",
       "\n",
       "    .dataframe thead th {\n",
       "        text-align: right;\n",
       "    }\n",
       "</style>\n",
       "<table border=\"1\" class=\"dataframe\">\n",
       "  <thead>\n",
       "    <tr style=\"text-align: right;\">\n",
       "      <th></th>\n",
       "      <th>date</th>\n",
       "      <th>category</th>\n",
       "      <th>value</th>\n",
       "    </tr>\n",
       "  </thead>\n",
       "  <tbody>\n",
       "    <tr>\n",
       "      <th>0</th>\n",
       "      <td>2024-01-01</td>\n",
       "      <td>A</td>\n",
       "      <td>1</td>\n",
       "    </tr>\n",
       "    <tr>\n",
       "      <th>1</th>\n",
       "      <td>2024-01-02</td>\n",
       "      <td>B</td>\n",
       "      <td>2</td>\n",
       "    </tr>\n",
       "    <tr>\n",
       "      <th>2</th>\n",
       "      <td>2024-01-03</td>\n",
       "      <td>C</td>\n",
       "      <td>3</td>\n",
       "    </tr>\n",
       "    <tr>\n",
       "      <th>3</th>\n",
       "      <td>2024-01-01</td>\n",
       "      <td>A</td>\n",
       "      <td>4</td>\n",
       "    </tr>\n",
       "    <tr>\n",
       "      <th>4</th>\n",
       "      <td>2024-01-02</td>\n",
       "      <td>B</td>\n",
       "      <td>5</td>\n",
       "    </tr>\n",
       "    <tr>\n",
       "      <th>5</th>\n",
       "      <td>2024-01-03</td>\n",
       "      <td>C</td>\n",
       "      <td>6</td>\n",
       "    </tr>\n",
       "    <tr>\n",
       "      <th>6</th>\n",
       "      <td>2024-01-01</td>\n",
       "      <td>A</td>\n",
       "      <td>7</td>\n",
       "    </tr>\n",
       "    <tr>\n",
       "      <th>7</th>\n",
       "      <td>2024-01-02</td>\n",
       "      <td>B</td>\n",
       "      <td>8</td>\n",
       "    </tr>\n",
       "    <tr>\n",
       "      <th>8</th>\n",
       "      <td>2024-01-03</td>\n",
       "      <td>C</td>\n",
       "      <td>9</td>\n",
       "    </tr>\n",
       "  </tbody>\n",
       "</table>\n",
       "</div>"
      ],
      "text/plain": [
       "         date category  value\n",
       "0  2024-01-01        A      1\n",
       "1  2024-01-02        B      2\n",
       "2  2024-01-03        C      3\n",
       "3  2024-01-01        A      4\n",
       "4  2024-01-02        B      5\n",
       "5  2024-01-03        C      6\n",
       "6  2024-01-01        A      7\n",
       "7  2024-01-02        B      8\n",
       "8  2024-01-03        C      9"
      ]
     },
     "execution_count": 75,
     "metadata": {},
     "output_type": "execute_result"
    }
   ],
   "source": [
    "import pandas as pd\n",
    "\n",
    "# Example DataFrame\n",
    "df = pd.DataFrame({\n",
    "    'date': ['2024-01-01', '2024-01-02', '2024-01-03'] * 3,\n",
    "    'category': ['A', 'B', 'C'] * 3,\n",
    "    'value': [1, 2, 3, 4, 5, 6, 7, 8, 9]\n",
    "})\n",
    "df\n",
    "# Pivot table\n",
    "#pivot_table = df.pivot(index='date', columns='category', values='value')\n",
    "#print(pivot_table)\n"
   ]
  },
  {
   "cell_type": "code",
   "execution_count": 8,
   "id": "254d711a",
   "metadata": {},
   "outputs": [
    {
     "name": "stdout",
     "output_type": "stream",
     "text": [
      "34\n"
     ]
    }
   ],
   "source": [
    "class tree:\n",
    "        def demo(self,a,b):\n",
    "                d=a+b\n",
    "                print(d)\n",
    "objt=tree()\n",
    "objt.demo(10,24) \n"
   ]
  },
  {
   "cell_type": "code",
   "execution_count": 10,
   "id": "bbc1aa5f",
   "metadata": {},
   "outputs": [
    {
     "ename": "IndentationError",
     "evalue": "unindent does not match any outer indentation level (<tokenize>, line 5)",
     "output_type": "error",
     "traceback": [
      "\u001b[1;36m  File \u001b[1;32m<tokenize>:5\u001b[1;36m\u001b[0m\n\u001b[1;33m    def display(self):\u001b[0m\n\u001b[1;37m    ^\u001b[0m\n\u001b[1;31mIndentationError\u001b[0m\u001b[1;31m:\u001b[0m unindent does not match any outer indentation level\n"
     ]
    }
   ],
   "source": [
    "Class employee :\n",
    "       def accept(self):\n",
    "                self.emp_id=int(input(“pls enter emp id:”))\n",
    "                self.emp_name=input(“pls enter emp name:”)\n",
    "        def display(self):\n",
    "                 print(“Employee Details”)\n",
    "                 print(“EMPLOYEE ID:”,self.emp_id)\n",
    "                 print(“EMPLOYEE NAME:”,self.emp_name)\n",
    "\n",
    "employee1=employee()\n",
    "employee1.accept()\n",
    "employee1.display()\n",
    "\n",
    "employee2=employee()\n",
    "employee2.accept()\n",
    "employee2.display()\n",
    "\n"
   ]
  },
  {
   "cell_type": "code",
   "execution_count": 12,
   "id": "880847d4",
   "metadata": {},
   "outputs": [
    {
     "name": "stdout",
     "output_type": "stream",
     "text": [
      "     Name  ID    Role\n",
      "0  Pankaj   1     CEO\n",
      "1    Lisa   2  Editor\n",
      "2   David   3  Author\n"
     ]
    }
   ],
   "source": [
    "import pandas as pd\n",
    "\n",
    "d1 = {\"Name\": [\"Pankaj\", \"Lisa\", \"David\"], \"ID\": [1, 2, 3], \"Role\": [\"CEO\", \"Editor\", \"Author\"]}\n",
    "\n",
    "df = pd.DataFrame(d1)\n",
    "\n",
    "print(df)\n",
    "\n"
   ]
  },
  {
   "cell_type": "code",
   "execution_count": 13,
   "id": "58c54b17",
   "metadata": {},
   "outputs": [
    {
     "name": "stdout",
     "output_type": "stream",
     "text": [
      "   ID variable   value\n",
      "0   1     Name  Pankaj\n",
      "1   2     Name    Lisa\n",
      "2   3     Name   David\n",
      "3   1     Role     CEO\n",
      "4   2     Role  Editor\n",
      "5   3     Role  Author\n"
     ]
    }
   ],
   "source": [
    "df_melted = pd.melt(df, id_vars=[\"ID\"], value_vars=[\"Name\", \"Role\"])\n",
    "\n",
    "print(df_melted)"
   ]
  },
  {
   "cell_type": "code",
   "execution_count": 15,
   "id": "66d5c31c",
   "metadata": {},
   "outputs": [
    {
     "name": "stdout",
     "output_type": "stream",
     "text": [
      "   ID Attribute   Value\n",
      "0   1      Name  Pankaj\n",
      "1   2      Name    Lisa\n",
      "2   3      Name   David\n",
      "3   1      Role     CEO\n",
      "4   2      Role  Editor\n",
      "5   3      Role  Author\n"
     ]
    }
   ],
   "source": [
    "import pandas as pd\n",
    "\n",
    "d1 = {\"Name\": [\"Pankaj\", \"Lisa\", \"David\"], \"ID\": [1, 2, 3], \"Role\": [\"CEO\", \"Editor\", \"Author\"]}\n",
    "\n",
    "df = pd.DataFrame(d1)\n",
    "\n",
    "# print(df)\n",
    "\n",
    "df_melted = pd.melt(df, id_vars=[\"ID\"], value_vars=[\"Name\", \"Role\"], var_name=\"Attribute\", value_name=\"Value\")\n",
    "\n",
    "print(df_melted)\n",
    "\n",
    "# unmelting using pivot()\n",
    "\n",
    "df_unmelted = df_melted.pivot(index='ID', columns='Attribute')\n",
    "\n",
    "#print(df_unmelted)"
   ]
  },
  {
   "cell_type": "code",
   "execution_count": 16,
   "id": "19834188",
   "metadata": {},
   "outputs": [
    {
     "name": "stdout",
     "output_type": "stream",
     "text": [
      "       name  species  age  weight\n",
      "0   Tatiana    Snake   98     464\n",
      "1    Khaled  Giraffe   50      41\n",
      "2      Alex  Leopard    6     328\n",
      "3  Jonathan   Monkey   45     463\n",
      "4    Stefan     Bear  100      50\n",
      "5     Tommy    Panda   26     349\n"
     ]
    }
   ],
   "source": [
    "import pandas as pd\n",
    "\n",
    "# Define the data\n",
    "data = {\n",
    "    \"name\": [\"Tatiana\", \"Khaled\", \"Alex\", \"Jonathan\", \"Stefan\", \"Tommy\"],\n",
    "    \"species\": [\"Snake\", \"Giraffe\", \"Leopard\", \"Monkey\", \"Bear\", \"Panda\"],\n",
    "    \"age\": [98, 50, 6, 45, 100, 26],\n",
    "    \"weight\": [464, 41, 328, 463, 50, 349]\n",
    "}\n",
    "\n",
    "# Create the DataFrame\n",
    "df_animals = pd.DataFrame(data)\n",
    "\n",
    "# Display the DataFrame\n",
    "print(df_animals)\n"
   ]
  },
  {
   "cell_type": "code",
   "execution_count": 17,
   "id": "240916aa",
   "metadata": {},
   "outputs": [],
   "source": [
    "filter1=(df_animals[\"weight\"]>100)"
   ]
  },
  {
   "cell_type": "code",
   "execution_count": 25,
   "id": "a9d6a8c3",
   "metadata": {},
   "outputs": [],
   "source": [
    "k=df_animals[filter1][\"name\"].sort_values(ascending=False)"
   ]
  },
  {
   "cell_type": "code",
   "execution_count": 26,
   "id": "ac3d5671",
   "metadata": {},
   "outputs": [
    {
     "data": {
      "text/plain": [
       "5       Tommy\n",
       "0     Tatiana\n",
       "3    Jonathan\n",
       "2        Alex\n",
       "Name: name, dtype: object"
      ]
     },
     "execution_count": 26,
     "metadata": {},
     "output_type": "execute_result"
    }
   ],
   "source": [
    "k"
   ]
  },
  {
   "cell_type": "code",
   "execution_count": 7,
   "id": "f05cf0e5",
   "metadata": {},
   "outputs": [
    {
     "data": {
      "text/plain": [
       "1"
      ]
     },
     "execution_count": 7,
     "metadata": {},
     "output_type": "execute_result"
    }
   ],
   "source": [
    "n=5\n",
    "t=2\n"
   ]
  },
  {
   "cell_type": "code",
   "execution_count": 2,
   "id": "cd50a561",
   "metadata": {},
   "outputs": [],
   "source": [
    "import pandas as pd"
   ]
  },
  {
   "cell_type": "code",
   "execution_count": 3,
   "id": "0964d7ef",
   "metadata": {},
   "outputs": [],
   "source": [
    "data = [[1, 'Daniel', 'YFEV COUGH'], [2, 'Alice', ''], [3, 'Bob', 'DIAB100 MYOP'], [4, 'George', 'ACNE DIAB100'], [5, 'Alain', 'DIAB201']]\n",
    "patients = pd.DataFrame(data, columns=['patient_id', 'patient_name', 'conditions']).astype({'patient_id':'int64', 'patient_name':'object', 'conditions':'object'})"
   ]
  },
  {
   "cell_type": "code",
   "execution_count": 4,
   "id": "03cc3280",
   "metadata": {},
   "outputs": [
    {
     "data": {
      "text/html": [
       "<div>\n",
       "<style scoped>\n",
       "    .dataframe tbody tr th:only-of-type {\n",
       "        vertical-align: middle;\n",
       "    }\n",
       "\n",
       "    .dataframe tbody tr th {\n",
       "        vertical-align: top;\n",
       "    }\n",
       "\n",
       "    .dataframe thead th {\n",
       "        text-align: right;\n",
       "    }\n",
       "</style>\n",
       "<table border=\"1\" class=\"dataframe\">\n",
       "  <thead>\n",
       "    <tr style=\"text-align: right;\">\n",
       "      <th></th>\n",
       "      <th>patient_id</th>\n",
       "      <th>patient_name</th>\n",
       "      <th>conditions</th>\n",
       "    </tr>\n",
       "  </thead>\n",
       "  <tbody>\n",
       "    <tr>\n",
       "      <th>0</th>\n",
       "      <td>1</td>\n",
       "      <td>Daniel</td>\n",
       "      <td>YFEV COUGH</td>\n",
       "    </tr>\n",
       "    <tr>\n",
       "      <th>1</th>\n",
       "      <td>2</td>\n",
       "      <td>Alice</td>\n",
       "      <td></td>\n",
       "    </tr>\n",
       "    <tr>\n",
       "      <th>2</th>\n",
       "      <td>3</td>\n",
       "      <td>Bob</td>\n",
       "      <td>DIAB100 MYOP</td>\n",
       "    </tr>\n",
       "    <tr>\n",
       "      <th>3</th>\n",
       "      <td>4</td>\n",
       "      <td>George</td>\n",
       "      <td>ACNE DIAB100</td>\n",
       "    </tr>\n",
       "    <tr>\n",
       "      <th>4</th>\n",
       "      <td>5</td>\n",
       "      <td>Alain</td>\n",
       "      <td>DIAB201</td>\n",
       "    </tr>\n",
       "  </tbody>\n",
       "</table>\n",
       "</div>"
      ],
      "text/plain": [
       "   patient_id patient_name    conditions\n",
       "0           1       Daniel    YFEV COUGH\n",
       "1           2        Alice              \n",
       "2           3          Bob  DIAB100 MYOP\n",
       "3           4       George  ACNE DIAB100\n",
       "4           5        Alain       DIAB201"
      ]
     },
     "execution_count": 4,
     "metadata": {},
     "output_type": "execute_result"
    }
   ],
   "source": [
    "patients"
   ]
  },
  {
   "cell_type": "code",
   "execution_count": 25,
   "id": "47a59eb7",
   "metadata": {},
   "outputs": [],
   "source": [
    "filter1=patients[patients[\"conditions\"].str.contains(r'\\DIAB1')]"
   ]
  },
  {
   "cell_type": "code",
   "execution_count": 26,
   "id": "16511057",
   "metadata": {},
   "outputs": [
    {
     "data": {
      "text/html": [
       "<div>\n",
       "<style scoped>\n",
       "    .dataframe tbody tr th:only-of-type {\n",
       "        vertical-align: middle;\n",
       "    }\n",
       "\n",
       "    .dataframe tbody tr th {\n",
       "        vertical-align: top;\n",
       "    }\n",
       "\n",
       "    .dataframe thead th {\n",
       "        text-align: right;\n",
       "    }\n",
       "</style>\n",
       "<table border=\"1\" class=\"dataframe\">\n",
       "  <thead>\n",
       "    <tr style=\"text-align: right;\">\n",
       "      <th></th>\n",
       "      <th>patient_name</th>\n",
       "      <th>conditions</th>\n",
       "    </tr>\n",
       "  </thead>\n",
       "  <tbody>\n",
       "    <tr>\n",
       "      <th>2</th>\n",
       "      <td>Bob</td>\n",
       "      <td>DIAB100 MYOP</td>\n",
       "    </tr>\n",
       "    <tr>\n",
       "      <th>3</th>\n",
       "      <td>George</td>\n",
       "      <td>ACNE DIAB100</td>\n",
       "    </tr>\n",
       "  </tbody>\n",
       "</table>\n",
       "</div>"
      ],
      "text/plain": [
       "  patient_name    conditions\n",
       "2          Bob  DIAB100 MYOP\n",
       "3       George  ACNE DIAB100"
      ]
     },
     "execution_count": 26,
     "metadata": {},
     "output_type": "execute_result"
    }
   ],
   "source": [
    "filter1[[\"patient_name\",\"conditions\"]]"
   ]
  },
  {
   "cell_type": "code",
   "execution_count": 28,
   "id": "91834854",
   "metadata": {},
   "outputs": [],
   "source": [
    "data = [[1, 2, '2016-03-01', 5], [1, 2, '2016-05-02', 6], [2, 3, '2017-06-25', 1], [3, 1, '2016-03-02', 0], [3, 4, '2018-07-03', 5]]\n",
    "activity = pd.DataFrame(data, columns=['player_id', 'device_id', 'event_date', 'games_played']).astype({'player_id':'Int64', 'device_id':'Int64', 'event_date':'datetime64[ns]', 'games_played':'Int64'})"
   ]
  },
  {
   "cell_type": "code",
   "execution_count": 31,
   "id": "fb84898a",
   "metadata": {},
   "outputs": [
    {
     "data": {
      "text/html": [
       "<div>\n",
       "<style scoped>\n",
       "    .dataframe tbody tr th:only-of-type {\n",
       "        vertical-align: middle;\n",
       "    }\n",
       "\n",
       "    .dataframe tbody tr th {\n",
       "        vertical-align: top;\n",
       "    }\n",
       "\n",
       "    .dataframe thead th {\n",
       "        text-align: right;\n",
       "    }\n",
       "</style>\n",
       "<table border=\"1\" class=\"dataframe\">\n",
       "  <thead>\n",
       "    <tr style=\"text-align: right;\">\n",
       "      <th></th>\n",
       "      <th>player_id</th>\n",
       "      <th>device_id</th>\n",
       "      <th>event_date</th>\n",
       "      <th>games_played</th>\n",
       "    </tr>\n",
       "  </thead>\n",
       "  <tbody>\n",
       "    <tr>\n",
       "      <th>0</th>\n",
       "      <td>1</td>\n",
       "      <td>2</td>\n",
       "      <td>2016-03-01</td>\n",
       "      <td>5</td>\n",
       "    </tr>\n",
       "    <tr>\n",
       "      <th>1</th>\n",
       "      <td>1</td>\n",
       "      <td>2</td>\n",
       "      <td>2016-05-02</td>\n",
       "      <td>6</td>\n",
       "    </tr>\n",
       "    <tr>\n",
       "      <th>2</th>\n",
       "      <td>2</td>\n",
       "      <td>3</td>\n",
       "      <td>2017-06-25</td>\n",
       "      <td>1</td>\n",
       "    </tr>\n",
       "    <tr>\n",
       "      <th>3</th>\n",
       "      <td>3</td>\n",
       "      <td>1</td>\n",
       "      <td>2016-03-02</td>\n",
       "      <td>0</td>\n",
       "    </tr>\n",
       "    <tr>\n",
       "      <th>4</th>\n",
       "      <td>3</td>\n",
       "      <td>4</td>\n",
       "      <td>2018-07-03</td>\n",
       "      <td>5</td>\n",
       "    </tr>\n",
       "  </tbody>\n",
       "</table>\n",
       "</div>"
      ],
      "text/plain": [
       "   player_id  device_id event_date  games_played\n",
       "0          1          2 2016-03-01             5\n",
       "1          1          2 2016-05-02             6\n",
       "2          2          3 2017-06-25             1\n",
       "3          3          1 2016-03-02             0\n",
       "4          3          4 2018-07-03             5"
      ]
     },
     "execution_count": 31,
     "metadata": {},
     "output_type": "execute_result"
    }
   ],
   "source": [
    "activity"
   ]
  },
  {
   "cell_type": "code",
   "execution_count": 39,
   "id": "26963cb4",
   "metadata": {},
   "outputs": [],
   "source": [
    "df=activity.sort_values(by=[\"player_id\",\"event_date\"],ascending=[True,True])\n",
    "df= activity.drop_duplicates(\"player_id\",keep=\"first\")"
   ]
  },
  {
   "cell_type": "code",
   "execution_count": 48,
   "id": "d9f5cbc9",
   "metadata": {},
   "outputs": [
    {
     "name": "stderr",
     "output_type": "stream",
     "text": [
      "C:\\Users\\Admin\\AppData\\Local\\Temp\\ipykernel_8988\\2928991153.py:2: SettingWithCopyWarning: \n",
      "A value is trying to be set on a copy of a slice from a DataFrame\n",
      "\n",
      "See the caveats in the documentation: https://pandas.pydata.org/pandas-docs/stable/user_guide/indexing.html#returning-a-view-versus-a-copy\n",
      "  df1.rename(columns={\"event_date\":\"first_login\"},inplace=True)\n"
     ]
    },
    {
     "data": {
      "text/html": [
       "<div>\n",
       "<style scoped>\n",
       "    .dataframe tbody tr th:only-of-type {\n",
       "        vertical-align: middle;\n",
       "    }\n",
       "\n",
       "    .dataframe tbody tr th {\n",
       "        vertical-align: top;\n",
       "    }\n",
       "\n",
       "    .dataframe thead th {\n",
       "        text-align: right;\n",
       "    }\n",
       "</style>\n",
       "<table border=\"1\" class=\"dataframe\">\n",
       "  <thead>\n",
       "    <tr style=\"text-align: right;\">\n",
       "      <th></th>\n",
       "      <th>player_id</th>\n",
       "      <th>first_login</th>\n",
       "    </tr>\n",
       "  </thead>\n",
       "  <tbody>\n",
       "    <tr>\n",
       "      <th>0</th>\n",
       "      <td>1</td>\n",
       "      <td>2016-03-01</td>\n",
       "    </tr>\n",
       "    <tr>\n",
       "      <th>2</th>\n",
       "      <td>2</td>\n",
       "      <td>2017-06-25</td>\n",
       "    </tr>\n",
       "    <tr>\n",
       "      <th>3</th>\n",
       "      <td>3</td>\n",
       "      <td>2016-03-02</td>\n",
       "    </tr>\n",
       "  </tbody>\n",
       "</table>\n",
       "</div>"
      ],
      "text/plain": [
       "   player_id first_login\n",
       "0          1  2016-03-01\n",
       "2          2  2017-06-25\n",
       "3          3  2016-03-02"
      ]
     },
     "execution_count": 48,
     "metadata": {},
     "output_type": "execute_result"
    }
   ],
   "source": [
    "df1=df[['player_id','event_date']]\n",
    "df1.rename(columns={\"event_date\":\"first_login\"},inplace=True)\n",
    "df1"
   ]
  },
  {
   "cell_type": "code",
   "execution_count": 75,
   "id": "30fc52bd",
   "metadata": {},
   "outputs": [
    {
     "name": "stdout",
     "output_type": "stream",
     "text": [
      "1389537\n"
     ]
    }
   ],
   "source": [
    "n=25\n",
    "\n",
    "a=0\n",
    "b=1\n",
    "c=1\n",
    "#print(a)\n",
    "#print(b)\n",
    "l=[0,1,1]\n",
    "for i in range(3,n+1):\n",
    "    d=a+b+c\n",
    "    l.append(d)\n",
    "    a=b\n",
    "    b=c\n",
    "    c=d\n",
    "    \n",
    "    \n",
    "print(l[n])   "
   ]
  },
  {
   "cell_type": "code",
   "execution_count": null,
   "id": "d1df83de",
   "metadata": {},
   "outputs": [],
   "source": [
    "n=2\n",
    "t=3\n",
    "\n",
    "for "
   ]
  },
  {
   "cell_type": "code",
   "execution_count": 2,
   "id": "8740b47f",
   "metadata": {},
   "outputs": [],
   "source": [
    "import pandas as pd\n",
    "data = [['A', 'Math'], ['B', 'English'], ['C', 'Math'], ['D', 'Biology'], ['E', 'Math'], ['F', 'Computer'], ['G', 'Math'], ['H', 'Math'], ['I', 'Math']]\n",
    "courses = pd.DataFrame(data, columns=['student', 'class']).astype({'student':'object', 'class':'object'})"
   ]
  },
  {
   "cell_type": "code",
   "execution_count": 3,
   "id": "05214c40",
   "metadata": {},
   "outputs": [
    {
     "data": {
      "text/html": [
       "<div>\n",
       "<style scoped>\n",
       "    .dataframe tbody tr th:only-of-type {\n",
       "        vertical-align: middle;\n",
       "    }\n",
       "\n",
       "    .dataframe tbody tr th {\n",
       "        vertical-align: top;\n",
       "    }\n",
       "\n",
       "    .dataframe thead th {\n",
       "        text-align: right;\n",
       "    }\n",
       "</style>\n",
       "<table border=\"1\" class=\"dataframe\">\n",
       "  <thead>\n",
       "    <tr style=\"text-align: right;\">\n",
       "      <th></th>\n",
       "      <th>student</th>\n",
       "      <th>class</th>\n",
       "    </tr>\n",
       "  </thead>\n",
       "  <tbody>\n",
       "    <tr>\n",
       "      <th>0</th>\n",
       "      <td>A</td>\n",
       "      <td>Math</td>\n",
       "    </tr>\n",
       "    <tr>\n",
       "      <th>1</th>\n",
       "      <td>B</td>\n",
       "      <td>English</td>\n",
       "    </tr>\n",
       "    <tr>\n",
       "      <th>2</th>\n",
       "      <td>C</td>\n",
       "      <td>Math</td>\n",
       "    </tr>\n",
       "    <tr>\n",
       "      <th>3</th>\n",
       "      <td>D</td>\n",
       "      <td>Biology</td>\n",
       "    </tr>\n",
       "    <tr>\n",
       "      <th>4</th>\n",
       "      <td>E</td>\n",
       "      <td>Math</td>\n",
       "    </tr>\n",
       "    <tr>\n",
       "      <th>5</th>\n",
       "      <td>F</td>\n",
       "      <td>Computer</td>\n",
       "    </tr>\n",
       "    <tr>\n",
       "      <th>6</th>\n",
       "      <td>G</td>\n",
       "      <td>Math</td>\n",
       "    </tr>\n",
       "    <tr>\n",
       "      <th>7</th>\n",
       "      <td>H</td>\n",
       "      <td>Math</td>\n",
       "    </tr>\n",
       "    <tr>\n",
       "      <th>8</th>\n",
       "      <td>I</td>\n",
       "      <td>Math</td>\n",
       "    </tr>\n",
       "  </tbody>\n",
       "</table>\n",
       "</div>"
      ],
      "text/plain": [
       "  student     class\n",
       "0       A      Math\n",
       "1       B   English\n",
       "2       C      Math\n",
       "3       D   Biology\n",
       "4       E      Math\n",
       "5       F  Computer\n",
       "6       G      Math\n",
       "7       H      Math\n",
       "8       I      Math"
      ]
     },
     "execution_count": 3,
     "metadata": {},
     "output_type": "execute_result"
    }
   ],
   "source": [
    "courses\n"
   ]
  },
  {
   "cell_type": "code",
   "execution_count": 8,
   "id": "22a6eb3a",
   "metadata": {},
   "outputs": [
    {
     "data": {
      "text/html": [
       "<div>\n",
       "<style scoped>\n",
       "    .dataframe tbody tr th:only-of-type {\n",
       "        vertical-align: middle;\n",
       "    }\n",
       "\n",
       "    .dataframe tbody tr th {\n",
       "        vertical-align: top;\n",
       "    }\n",
       "\n",
       "    .dataframe thead th {\n",
       "        text-align: right;\n",
       "    }\n",
       "</style>\n",
       "<table border=\"1\" class=\"dataframe\">\n",
       "  <thead>\n",
       "    <tr style=\"text-align: right;\">\n",
       "      <th></th>\n",
       "      <th>class</th>\n",
       "      <th>student</th>\n",
       "    </tr>\n",
       "  </thead>\n",
       "  <tbody>\n",
       "    <tr>\n",
       "      <th>0</th>\n",
       "      <td>Biology</td>\n",
       "      <td>1</td>\n",
       "    </tr>\n",
       "    <tr>\n",
       "      <th>1</th>\n",
       "      <td>Computer</td>\n",
       "      <td>1</td>\n",
       "    </tr>\n",
       "    <tr>\n",
       "      <th>2</th>\n",
       "      <td>English</td>\n",
       "      <td>1</td>\n",
       "    </tr>\n",
       "    <tr>\n",
       "      <th>3</th>\n",
       "      <td>Math</td>\n",
       "      <td>6</td>\n",
       "    </tr>\n",
       "  </tbody>\n",
       "</table>\n",
       "</div>"
      ],
      "text/plain": [
       "      class  student\n",
       "0   Biology        1\n",
       "1  Computer        1\n",
       "2   English        1\n",
       "3      Math        6"
      ]
     },
     "execution_count": 8,
     "metadata": {},
     "output_type": "execute_result"
    }
   ],
   "source": [
    "df=courses.groupby([\"class\"]).student.count().reset_index()\n",
    "df"
   ]
  },
  {
   "cell_type": "code",
   "execution_count": 21,
   "id": "c9d1fdea",
   "metadata": {},
   "outputs": [],
   "source": [
    "df=courses.groupby([\"class\"]).student.count().reset_index()"
   ]
  },
  {
   "cell_type": "code",
   "execution_count": 28,
   "id": "17e0a6dd",
   "metadata": {},
   "outputs": [
    {
     "data": {
      "text/html": [
       "<div>\n",
       "<style scoped>\n",
       "    .dataframe tbody tr th:only-of-type {\n",
       "        vertical-align: middle;\n",
       "    }\n",
       "\n",
       "    .dataframe tbody tr th {\n",
       "        vertical-align: top;\n",
       "    }\n",
       "\n",
       "    .dataframe thead th {\n",
       "        text-align: right;\n",
       "    }\n",
       "</style>\n",
       "<table border=\"1\" class=\"dataframe\">\n",
       "  <thead>\n",
       "    <tr style=\"text-align: right;\">\n",
       "      <th></th>\n",
       "      <th>class</th>\n",
       "      <th>student</th>\n",
       "    </tr>\n",
       "  </thead>\n",
       "  <tbody>\n",
       "    <tr>\n",
       "      <th>0</th>\n",
       "      <td>Biology</td>\n",
       "      <td>1</td>\n",
       "    </tr>\n",
       "    <tr>\n",
       "      <th>1</th>\n",
       "      <td>Computer</td>\n",
       "      <td>1</td>\n",
       "    </tr>\n",
       "    <tr>\n",
       "      <th>2</th>\n",
       "      <td>English</td>\n",
       "      <td>1</td>\n",
       "    </tr>\n",
       "    <tr>\n",
       "      <th>3</th>\n",
       "      <td>Math</td>\n",
       "      <td>6</td>\n",
       "    </tr>\n",
       "  </tbody>\n",
       "</table>\n",
       "</div>"
      ],
      "text/plain": [
       "      class  student\n",
       "0   Biology        1\n",
       "1  Computer        1\n",
       "2   English        1\n",
       "3      Math        6"
      ]
     },
     "execution_count": 28,
     "metadata": {},
     "output_type": "execute_result"
    }
   ],
   "source": [
    "df"
   ]
  },
  {
   "cell_type": "code",
   "execution_count": 22,
   "id": "1e492427",
   "metadata": {},
   "outputs": [
    {
     "data": {
      "text/plain": [
       "RangeIndex(start=0, stop=4, step=1)"
      ]
     },
     "execution_count": 22,
     "metadata": {},
     "output_type": "execute_result"
    }
   ],
   "source": [
    "df.index"
   ]
  },
  {
   "cell_type": "code",
   "execution_count": 27,
   "id": "42254db5",
   "metadata": {},
   "outputs": [
    {
     "data": {
      "text/html": [
       "<div>\n",
       "<style scoped>\n",
       "    .dataframe tbody tr th:only-of-type {\n",
       "        vertical-align: middle;\n",
       "    }\n",
       "\n",
       "    .dataframe tbody tr th {\n",
       "        vertical-align: top;\n",
       "    }\n",
       "\n",
       "    .dataframe thead th {\n",
       "        text-align: right;\n",
       "    }\n",
       "</style>\n",
       "<table border=\"1\" class=\"dataframe\">\n",
       "  <thead>\n",
       "    <tr style=\"text-align: right;\">\n",
       "      <th></th>\n",
       "      <th>class</th>\n",
       "    </tr>\n",
       "  </thead>\n",
       "  <tbody>\n",
       "    <tr>\n",
       "      <th>3</th>\n",
       "      <td>Math</td>\n",
       "    </tr>\n",
       "  </tbody>\n",
       "</table>\n",
       "</div>"
      ],
      "text/plain": [
       "  class\n",
       "3  Math"
      ]
     },
     "execution_count": 27,
     "metadata": {},
     "output_type": "execute_result"
    }
   ],
   "source": [
    "df.loc[[3],[\"class\"]]"
   ]
  },
  {
   "cell_type": "code",
   "execution_count": 31,
   "id": "d49208e6",
   "metadata": {},
   "outputs": [],
   "source": [
    "filter1=df[\"student\"] >= 5"
   ]
  },
  {
   "cell_type": "code",
   "execution_count": 35,
   "id": "a0c24d31",
   "metadata": {},
   "outputs": [],
   "source": [
    "df=df.loc[filter1,[\"class\"]]"
   ]
  },
  {
   "cell_type": "code",
   "execution_count": 36,
   "id": "74ad6c7e",
   "metadata": {},
   "outputs": [
    {
     "data": {
      "text/html": [
       "<div>\n",
       "<style scoped>\n",
       "    .dataframe tbody tr th:only-of-type {\n",
       "        vertical-align: middle;\n",
       "    }\n",
       "\n",
       "    .dataframe tbody tr th {\n",
       "        vertical-align: top;\n",
       "    }\n",
       "\n",
       "    .dataframe thead th {\n",
       "        text-align: right;\n",
       "    }\n",
       "</style>\n",
       "<table border=\"1\" class=\"dataframe\">\n",
       "  <thead>\n",
       "    <tr style=\"text-align: right;\">\n",
       "      <th></th>\n",
       "      <th>class</th>\n",
       "    </tr>\n",
       "  </thead>\n",
       "  <tbody>\n",
       "    <tr>\n",
       "      <th>3</th>\n",
       "      <td>Math</td>\n",
       "    </tr>\n",
       "  </tbody>\n",
       "</table>\n",
       "</div>"
      ],
      "text/plain": [
       "  class\n",
       "3  Math"
      ]
     },
     "execution_count": 36,
     "metadata": {},
     "output_type": "execute_result"
    }
   ],
   "source": [
    "df"
   ]
  },
  {
   "cell_type": "code",
   "execution_count": 78,
   "id": "1b685f38",
   "metadata": {},
   "outputs": [],
   "source": [
    "import pandas as pd\n",
    "data = [[1, 1], [2, 2], [3, 3], [4, 3]]\n",
    "orders = pd.DataFrame(data, columns=['order_number', 'customer_number']).astype({'order_number':'Int64', 'customer_number':'Int64'})"
   ]
  },
  {
   "cell_type": "code",
   "execution_count": 116,
   "id": "75050727",
   "metadata": {},
   "outputs": [
    {
     "data": {
      "text/html": [
       "<div>\n",
       "<style scoped>\n",
       "    .dataframe tbody tr th:only-of-type {\n",
       "        vertical-align: middle;\n",
       "    }\n",
       "\n",
       "    .dataframe tbody tr th {\n",
       "        vertical-align: top;\n",
       "    }\n",
       "\n",
       "    .dataframe thead th {\n",
       "        text-align: right;\n",
       "    }\n",
       "</style>\n",
       "<table border=\"1\" class=\"dataframe\">\n",
       "  <thead>\n",
       "    <tr style=\"text-align: right;\">\n",
       "      <th></th>\n",
       "      <th>customer_number</th>\n",
       "      <th>order_number</th>\n",
       "    </tr>\n",
       "  </thead>\n",
       "  <tbody>\n",
       "    <tr>\n",
       "      <th>2</th>\n",
       "      <td>3</td>\n",
       "      <td>2</td>\n",
       "    </tr>\n",
       "  </tbody>\n",
       "</table>\n",
       "</div>"
      ],
      "text/plain": [
       "   customer_number  order_number\n",
       "2                3             2"
      ]
     },
     "execution_count": 116,
     "metadata": {},
     "output_type": "execute_result"
    }
   ],
   "source": [
    "df=orders.groupby(\"customer_number\")[\"order_number\"].count().reset_index()\n",
    "filter1=df[\"order_number\"].max()\n",
    "filter2 = df[df[\"order_number\"] == filter1]\n",
    "filter2"
   ]
  },
  {
   "cell_type": "code",
   "execution_count": null,
   "id": "b8e611ca",
   "metadata": {},
   "outputs": [],
   "source": [
    "filter1[[\"customer_number\"]]"
   ]
  },
  {
   "cell_type": "code",
   "execution_count": 2,
   "id": "99dc2906",
   "metadata": {},
   "outputs": [],
   "source": [
    "import pandas as pd"
   ]
  },
  {
   "cell_type": "code",
   "execution_count": 3,
   "id": "1ab2a17d",
   "metadata": {},
   "outputs": [],
   "source": [
    "data = [['2020-05-30', 'Headphone'], ['2020-06-01', 'Pencil'], ['2020-06-02', 'Mask'], ['2020-05-30', 'Basketball'], ['2020-06-01', 'Bible'], ['2020-06-02', 'Mask'], ['2020-05-30', 'T-Shirt']]\n",
    "activities = pd.DataFrame(data, columns=['sell_date', 'product']).astype({'sell_date':'datetime64[ns]', 'product':'object'})"
   ]
  },
  {
   "cell_type": "code",
   "execution_count": 4,
   "id": "ae201243",
   "metadata": {},
   "outputs": [
    {
     "data": {
      "text/html": [
       "<div>\n",
       "<style scoped>\n",
       "    .dataframe tbody tr th:only-of-type {\n",
       "        vertical-align: middle;\n",
       "    }\n",
       "\n",
       "    .dataframe tbody tr th {\n",
       "        vertical-align: top;\n",
       "    }\n",
       "\n",
       "    .dataframe thead th {\n",
       "        text-align: right;\n",
       "    }\n",
       "</style>\n",
       "<table border=\"1\" class=\"dataframe\">\n",
       "  <thead>\n",
       "    <tr style=\"text-align: right;\">\n",
       "      <th></th>\n",
       "      <th>sell_date</th>\n",
       "      <th>product</th>\n",
       "    </tr>\n",
       "  </thead>\n",
       "  <tbody>\n",
       "    <tr>\n",
       "      <th>0</th>\n",
       "      <td>2020-05-30</td>\n",
       "      <td>Headphone</td>\n",
       "    </tr>\n",
       "    <tr>\n",
       "      <th>1</th>\n",
       "      <td>2020-06-01</td>\n",
       "      <td>Pencil</td>\n",
       "    </tr>\n",
       "    <tr>\n",
       "      <th>2</th>\n",
       "      <td>2020-06-02</td>\n",
       "      <td>Mask</td>\n",
       "    </tr>\n",
       "    <tr>\n",
       "      <th>3</th>\n",
       "      <td>2020-05-30</td>\n",
       "      <td>Basketball</td>\n",
       "    </tr>\n",
       "    <tr>\n",
       "      <th>4</th>\n",
       "      <td>2020-06-01</td>\n",
       "      <td>Bible</td>\n",
       "    </tr>\n",
       "    <tr>\n",
       "      <th>5</th>\n",
       "      <td>2020-06-02</td>\n",
       "      <td>Mask</td>\n",
       "    </tr>\n",
       "    <tr>\n",
       "      <th>6</th>\n",
       "      <td>2020-05-30</td>\n",
       "      <td>T-Shirt</td>\n",
       "    </tr>\n",
       "  </tbody>\n",
       "</table>\n",
       "</div>"
      ],
      "text/plain": [
       "   sell_date     product\n",
       "0 2020-05-30   Headphone\n",
       "1 2020-06-01      Pencil\n",
       "2 2020-06-02        Mask\n",
       "3 2020-05-30  Basketball\n",
       "4 2020-06-01       Bible\n",
       "5 2020-06-02        Mask\n",
       "6 2020-05-30     T-Shirt"
      ]
     },
     "execution_count": 4,
     "metadata": {},
     "output_type": "execute_result"
    }
   ],
   "source": [
    "activities"
   ]
  },
  {
   "cell_type": "code",
   "execution_count": 14,
   "id": "fc620459",
   "metadata": {},
   "outputs": [],
   "source": [
    "filter1=activities.groupby(\"sell_date\")"
   ]
  },
  {
   "cell_type": "code",
   "execution_count": 15,
   "id": "5007302c",
   "metadata": {},
   "outputs": [
    {
     "data": {
      "text/plain": [
       "sell_date\n",
       "2020-05-30    3\n",
       "2020-06-01    2\n",
       "2020-06-02    2\n",
       "Name: sell_date, dtype: int64"
      ]
     },
     "execution_count": 15,
     "metadata": {},
     "output_type": "execute_result"
    }
   ],
   "source": [
    "filter1[\"sell_date\"].count()"
   ]
  },
  {
   "cell_type": "code",
   "execution_count": 1,
   "id": "96b42952",
   "metadata": {},
   "outputs": [],
   "source": [
    "import pandas as pd"
   ]
  },
  {
   "cell_type": "code",
   "execution_count": 22,
   "id": "f0ad9092",
   "metadata": {},
   "outputs": [],
   "source": [
    "data = [['2020-12-8', 'toyota', 0, 1], ['2020-12-8', 'toyota', 1, 0], ['2020-12-8', 'toyota', 1, 2], ['2020-12-7', 'toyota', 0, 2], ['2020-12-7', 'toyota', 0, 1], ['2020-12-8', 'honda', 1, 2], ['2020-12-8', 'honda', 2, 1], ['2020-12-7', 'honda', 0, 1], ['2020-12-7', 'honda', 1, 2], ['2020-12-7', 'honda', 2, 1]]\n",
    "daily_sales = pd.DataFrame(data, columns=['date_id', 'make_name', 'lead_id', 'partner_id']).astype({'date_id':'datetime64[ns]', 'make_name':'object', 'lead_id':'Int64', 'partner_id':'Int64'})"
   ]
  },
  {
   "cell_type": "code",
   "execution_count": 23,
   "id": "bcbc964c",
   "metadata": {},
   "outputs": [
    {
     "data": {
      "text/html": [
       "<div>\n",
       "<style scoped>\n",
       "    .dataframe tbody tr th:only-of-type {\n",
       "        vertical-align: middle;\n",
       "    }\n",
       "\n",
       "    .dataframe tbody tr th {\n",
       "        vertical-align: top;\n",
       "    }\n",
       "\n",
       "    .dataframe thead th {\n",
       "        text-align: right;\n",
       "    }\n",
       "</style>\n",
       "<table border=\"1\" class=\"dataframe\">\n",
       "  <thead>\n",
       "    <tr style=\"text-align: right;\">\n",
       "      <th></th>\n",
       "      <th>date_id</th>\n",
       "      <th>make_name</th>\n",
       "      <th>lead_id</th>\n",
       "      <th>partner_id</th>\n",
       "    </tr>\n",
       "  </thead>\n",
       "  <tbody>\n",
       "    <tr>\n",
       "      <th>0</th>\n",
       "      <td>2020-12-08</td>\n",
       "      <td>toyota</td>\n",
       "      <td>0</td>\n",
       "      <td>1</td>\n",
       "    </tr>\n",
       "    <tr>\n",
       "      <th>1</th>\n",
       "      <td>2020-12-08</td>\n",
       "      <td>toyota</td>\n",
       "      <td>1</td>\n",
       "      <td>0</td>\n",
       "    </tr>\n",
       "    <tr>\n",
       "      <th>2</th>\n",
       "      <td>2020-12-08</td>\n",
       "      <td>toyota</td>\n",
       "      <td>1</td>\n",
       "      <td>2</td>\n",
       "    </tr>\n",
       "    <tr>\n",
       "      <th>3</th>\n",
       "      <td>2020-12-07</td>\n",
       "      <td>toyota</td>\n",
       "      <td>0</td>\n",
       "      <td>2</td>\n",
       "    </tr>\n",
       "    <tr>\n",
       "      <th>4</th>\n",
       "      <td>2020-12-07</td>\n",
       "      <td>toyota</td>\n",
       "      <td>0</td>\n",
       "      <td>1</td>\n",
       "    </tr>\n",
       "    <tr>\n",
       "      <th>5</th>\n",
       "      <td>2020-12-08</td>\n",
       "      <td>honda</td>\n",
       "      <td>1</td>\n",
       "      <td>2</td>\n",
       "    </tr>\n",
       "    <tr>\n",
       "      <th>6</th>\n",
       "      <td>2020-12-08</td>\n",
       "      <td>honda</td>\n",
       "      <td>2</td>\n",
       "      <td>1</td>\n",
       "    </tr>\n",
       "    <tr>\n",
       "      <th>7</th>\n",
       "      <td>2020-12-07</td>\n",
       "      <td>honda</td>\n",
       "      <td>0</td>\n",
       "      <td>1</td>\n",
       "    </tr>\n",
       "    <tr>\n",
       "      <th>8</th>\n",
       "      <td>2020-12-07</td>\n",
       "      <td>honda</td>\n",
       "      <td>1</td>\n",
       "      <td>2</td>\n",
       "    </tr>\n",
       "    <tr>\n",
       "      <th>9</th>\n",
       "      <td>2020-12-07</td>\n",
       "      <td>honda</td>\n",
       "      <td>2</td>\n",
       "      <td>1</td>\n",
       "    </tr>\n",
       "  </tbody>\n",
       "</table>\n",
       "</div>"
      ],
      "text/plain": [
       "     date_id make_name  lead_id  partner_id\n",
       "0 2020-12-08    toyota        0           1\n",
       "1 2020-12-08    toyota        1           0\n",
       "2 2020-12-08    toyota        1           2\n",
       "3 2020-12-07    toyota        0           2\n",
       "4 2020-12-07    toyota        0           1\n",
       "5 2020-12-08     honda        1           2\n",
       "6 2020-12-08     honda        2           1\n",
       "7 2020-12-07     honda        0           1\n",
       "8 2020-12-07     honda        1           2\n",
       "9 2020-12-07     honda        2           1"
      ]
     },
     "execution_count": 23,
     "metadata": {},
     "output_type": "execute_result"
    }
   ],
   "source": [
    "daily_sales"
   ]
  },
  {
   "cell_type": "code",
   "execution_count": 28,
   "id": "a5b5dad6",
   "metadata": {},
   "outputs": [],
   "source": [
    "df=daily_sales.groupby([\"date_id\",\"make_name\"]).agg({\"lead_id\":\"nunique\",\"partner_id\":\"nunique\"})"
   ]
  },
  {
   "cell_type": "code",
   "execution_count": 29,
   "id": "6c32ea43",
   "metadata": {},
   "outputs": [
    {
     "data": {
      "text/html": [
       "<div>\n",
       "<style scoped>\n",
       "    .dataframe tbody tr th:only-of-type {\n",
       "        vertical-align: middle;\n",
       "    }\n",
       "\n",
       "    .dataframe tbody tr th {\n",
       "        vertical-align: top;\n",
       "    }\n",
       "\n",
       "    .dataframe thead th {\n",
       "        text-align: right;\n",
       "    }\n",
       "</style>\n",
       "<table border=\"1\" class=\"dataframe\">\n",
       "  <thead>\n",
       "    <tr style=\"text-align: right;\">\n",
       "      <th></th>\n",
       "      <th></th>\n",
       "      <th>lead_id</th>\n",
       "      <th>partner_id</th>\n",
       "    </tr>\n",
       "    <tr>\n",
       "      <th>date_id</th>\n",
       "      <th>make_name</th>\n",
       "      <th></th>\n",
       "      <th></th>\n",
       "    </tr>\n",
       "  </thead>\n",
       "  <tbody>\n",
       "    <tr>\n",
       "      <th rowspan=\"2\" valign=\"top\">2020-12-07</th>\n",
       "      <th>honda</th>\n",
       "      <td>3</td>\n",
       "      <td>2</td>\n",
       "    </tr>\n",
       "    <tr>\n",
       "      <th>toyota</th>\n",
       "      <td>1</td>\n",
       "      <td>2</td>\n",
       "    </tr>\n",
       "    <tr>\n",
       "      <th rowspan=\"2\" valign=\"top\">2020-12-08</th>\n",
       "      <th>honda</th>\n",
       "      <td>2</td>\n",
       "      <td>2</td>\n",
       "    </tr>\n",
       "    <tr>\n",
       "      <th>toyota</th>\n",
       "      <td>2</td>\n",
       "      <td>3</td>\n",
       "    </tr>\n",
       "  </tbody>\n",
       "</table>\n",
       "</div>"
      ],
      "text/plain": [
       "                      lead_id  partner_id\n",
       "date_id    make_name                     \n",
       "2020-12-07 honda            3           2\n",
       "           toyota           1           2\n",
       "2020-12-08 honda            2           2\n",
       "           toyota           2           3"
      ]
     },
     "execution_count": 29,
     "metadata": {},
     "output_type": "execute_result"
    }
   ],
   "source": [
    "df"
   ]
  },
  {
   "cell_type": "code",
   "execution_count": 21,
   "id": "770a941c",
   "metadata": {},
   "outputs": [
    {
     "data": {
      "text/html": [
       "<div>\n",
       "<style scoped>\n",
       "    .dataframe tbody tr th:only-of-type {\n",
       "        vertical-align: middle;\n",
       "    }\n",
       "\n",
       "    .dataframe tbody tr th {\n",
       "        vertical-align: top;\n",
       "    }\n",
       "\n",
       "    .dataframe thead th {\n",
       "        text-align: right;\n",
       "    }\n",
       "</style>\n",
       "<table border=\"1\" class=\"dataframe\">\n",
       "  <thead>\n",
       "    <tr style=\"text-align: right;\">\n",
       "      <th></th>\n",
       "      <th>date_id</th>\n",
       "      <th>make_name</th>\n",
       "      <th>unique_leads</th>\n",
       "      <th>unique_partners</th>\n",
       "    </tr>\n",
       "  </thead>\n",
       "  <tbody>\n",
       "    <tr>\n",
       "      <th>0</th>\n",
       "      <td>2020-12-07</td>\n",
       "      <td>honda</td>\n",
       "      <td>3</td>\n",
       "      <td>2</td>\n",
       "    </tr>\n",
       "    <tr>\n",
       "      <th>1</th>\n",
       "      <td>2020-12-07</td>\n",
       "      <td>toyota</td>\n",
       "      <td>1</td>\n",
       "      <td>2</td>\n",
       "    </tr>\n",
       "    <tr>\n",
       "      <th>2</th>\n",
       "      <td>2020-12-08</td>\n",
       "      <td>honda</td>\n",
       "      <td>2</td>\n",
       "      <td>2</td>\n",
       "    </tr>\n",
       "    <tr>\n",
       "      <th>3</th>\n",
       "      <td>2020-12-08</td>\n",
       "      <td>toyota</td>\n",
       "      <td>2</td>\n",
       "      <td>3</td>\n",
       "    </tr>\n",
       "  </tbody>\n",
       "</table>\n",
       "</div>"
      ],
      "text/plain": [
       "     date_id make_name  unique_leads  unique_partners\n",
       "0 2020-12-07     honda             3                2\n",
       "1 2020-12-07    toyota             1                2\n",
       "2 2020-12-08     honda             2                2\n",
       "3 2020-12-08    toyota             2                3"
      ]
     },
     "execution_count": 21,
     "metadata": {},
     "output_type": "execute_result"
    }
   ],
   "source": [
    "df.reset_index().rename(columns={\"lead_id\": \"unique_leads\",\"partner_id\":\"unique_partners\"})"
   ]
  },
  {
   "cell_type": "code",
   "execution_count": 3,
   "id": "e9336bcb",
   "metadata": {},
   "outputs": [],
   "source": [
    "data = [[1, 1, 0], [1, 1, 1], [1, 1, 2], [1, 2, 3], [1, 2, 4], [2, 1, 5], [2, 1, 6]]\n",
    "actor_director = pd.DataFrame(data, columns=['actor_id', 'director_id', 'timestamp']).astype({'actor_id':'int64', 'director_id':'int64', 'timestamp':'int64'})"
   ]
  },
  {
   "cell_type": "code",
   "execution_count": 4,
   "id": "c40187ab",
   "metadata": {},
   "outputs": [
    {
     "data": {
      "text/html": [
       "<div>\n",
       "<style scoped>\n",
       "    .dataframe tbody tr th:only-of-type {\n",
       "        vertical-align: middle;\n",
       "    }\n",
       "\n",
       "    .dataframe tbody tr th {\n",
       "        vertical-align: top;\n",
       "    }\n",
       "\n",
       "    .dataframe thead th {\n",
       "        text-align: right;\n",
       "    }\n",
       "</style>\n",
       "<table border=\"1\" class=\"dataframe\">\n",
       "  <thead>\n",
       "    <tr style=\"text-align: right;\">\n",
       "      <th></th>\n",
       "      <th>actor_id</th>\n",
       "      <th>director_id</th>\n",
       "      <th>timestamp</th>\n",
       "    </tr>\n",
       "  </thead>\n",
       "  <tbody>\n",
       "    <tr>\n",
       "      <th>0</th>\n",
       "      <td>1</td>\n",
       "      <td>1</td>\n",
       "      <td>0</td>\n",
       "    </tr>\n",
       "    <tr>\n",
       "      <th>1</th>\n",
       "      <td>1</td>\n",
       "      <td>1</td>\n",
       "      <td>1</td>\n",
       "    </tr>\n",
       "    <tr>\n",
       "      <th>2</th>\n",
       "      <td>1</td>\n",
       "      <td>1</td>\n",
       "      <td>2</td>\n",
       "    </tr>\n",
       "    <tr>\n",
       "      <th>3</th>\n",
       "      <td>1</td>\n",
       "      <td>2</td>\n",
       "      <td>3</td>\n",
       "    </tr>\n",
       "    <tr>\n",
       "      <th>4</th>\n",
       "      <td>1</td>\n",
       "      <td>2</td>\n",
       "      <td>4</td>\n",
       "    </tr>\n",
       "    <tr>\n",
       "      <th>5</th>\n",
       "      <td>2</td>\n",
       "      <td>1</td>\n",
       "      <td>5</td>\n",
       "    </tr>\n",
       "    <tr>\n",
       "      <th>6</th>\n",
       "      <td>2</td>\n",
       "      <td>1</td>\n",
       "      <td>6</td>\n",
       "    </tr>\n",
       "  </tbody>\n",
       "</table>\n",
       "</div>"
      ],
      "text/plain": [
       "   actor_id  director_id  timestamp\n",
       "0         1            1          0\n",
       "1         1            1          1\n",
       "2         1            1          2\n",
       "3         1            2          3\n",
       "4         1            2          4\n",
       "5         2            1          5\n",
       "6         2            1          6"
      ]
     },
     "execution_count": 4,
     "metadata": {},
     "output_type": "execute_result"
    }
   ],
   "source": [
    "actor_director"
   ]
  },
  {
   "cell_type": "code",
   "execution_count": 20,
   "id": "097eecb1",
   "metadata": {},
   "outputs": [],
   "source": [
    "  stats = actor_director.groupby(['actor_id', 'director_id'],).agg(count=('director_id', 'count')).reset_index()"
   ]
  },
  {
   "cell_type": "code",
   "execution_count": 21,
   "id": "64624dfd",
   "metadata": {},
   "outputs": [
    {
     "data": {
      "text/html": [
       "<div>\n",
       "<style scoped>\n",
       "    .dataframe tbody tr th:only-of-type {\n",
       "        vertical-align: middle;\n",
       "    }\n",
       "\n",
       "    .dataframe tbody tr th {\n",
       "        vertical-align: top;\n",
       "    }\n",
       "\n",
       "    .dataframe thead th {\n",
       "        text-align: right;\n",
       "    }\n",
       "</style>\n",
       "<table border=\"1\" class=\"dataframe\">\n",
       "  <thead>\n",
       "    <tr style=\"text-align: right;\">\n",
       "      <th></th>\n",
       "      <th>actor_id</th>\n",
       "      <th>director_id</th>\n",
       "      <th>count</th>\n",
       "    </tr>\n",
       "  </thead>\n",
       "  <tbody>\n",
       "    <tr>\n",
       "      <th>0</th>\n",
       "      <td>1</td>\n",
       "      <td>1</td>\n",
       "      <td>3</td>\n",
       "    </tr>\n",
       "    <tr>\n",
       "      <th>1</th>\n",
       "      <td>1</td>\n",
       "      <td>2</td>\n",
       "      <td>2</td>\n",
       "    </tr>\n",
       "    <tr>\n",
       "      <th>2</th>\n",
       "      <td>2</td>\n",
       "      <td>1</td>\n",
       "      <td>2</td>\n",
       "    </tr>\n",
       "  </tbody>\n",
       "</table>\n",
       "</div>"
      ],
      "text/plain": [
       "   actor_id  director_id  count\n",
       "0         1            1      3\n",
       "1         1            2      2\n",
       "2         2            1      2"
      ]
     },
     "execution_count": 21,
     "metadata": {},
     "output_type": "execute_result"
    }
   ],
   "source": [
    "stats"
   ]
  },
  {
   "cell_type": "code",
   "execution_count": 13,
   "id": "f42e9c0d",
   "metadata": {},
   "outputs": [],
   "source": [
    "filter1=(stats[\"count\"]>=3)"
   ]
  },
  {
   "cell_type": "code",
   "execution_count": 17,
   "id": "bce35bc4",
   "metadata": {},
   "outputs": [
    {
     "data": {
      "text/html": [
       "<div>\n",
       "<style scoped>\n",
       "    .dataframe tbody tr th:only-of-type {\n",
       "        vertical-align: middle;\n",
       "    }\n",
       "\n",
       "    .dataframe tbody tr th {\n",
       "        vertical-align: top;\n",
       "    }\n",
       "\n",
       "    .dataframe thead th {\n",
       "        text-align: right;\n",
       "    }\n",
       "</style>\n",
       "<table border=\"1\" class=\"dataframe\">\n",
       "  <thead>\n",
       "    <tr style=\"text-align: right;\">\n",
       "      <th></th>\n",
       "      <th>actor_id</th>\n",
       "      <th>director_id</th>\n",
       "    </tr>\n",
       "  </thead>\n",
       "  <tbody>\n",
       "    <tr>\n",
       "      <th>0</th>\n",
       "      <td>1</td>\n",
       "      <td>1</td>\n",
       "    </tr>\n",
       "  </tbody>\n",
       "</table>\n",
       "</div>"
      ],
      "text/plain": [
       "   actor_id  director_id\n",
       "0         1            1"
      ]
     },
     "execution_count": 17,
     "metadata": {},
     "output_type": "execute_result"
    }
   ],
   "source": [
    "stats[filter1][[\"actor_id\",\"director_id\"]]"
   ]
  },
  {
   "cell_type": "code",
   "execution_count": 16,
   "id": "b5b6f517",
   "metadata": {},
   "outputs": [],
   "source": [
    "data = [[1, 'Alice'], [7, 'Bob'], [11, 'Meir'], [90, 'Winston'], [3, 'Jonathan']]\n",
    "employees = pd.DataFrame(data, columns=['id', 'name']).astype({'id':'int64', 'name':'object'})\n",
    "data = [[3, 1], [11, 2], [90, 3]]\n",
    "employee_uni = pd.DataFrame(data, columns=['id', 'unique_id']).astype({'id':'int64', 'unique_id':'int64'})"
   ]
  },
  {
   "cell_type": "code",
   "execution_count": 17,
   "id": "a3ad2653",
   "metadata": {},
   "outputs": [],
   "source": [
    "merged = employees.merge(employee_uni, on='id', how='left')"
   ]
  },
  {
   "cell_type": "code",
   "execution_count": 18,
   "id": "a7034822",
   "metadata": {},
   "outputs": [
    {
     "data": {
      "text/html": [
       "<div>\n",
       "<style scoped>\n",
       "    .dataframe tbody tr th:only-of-type {\n",
       "        vertical-align: middle;\n",
       "    }\n",
       "\n",
       "    .dataframe tbody tr th {\n",
       "        vertical-align: top;\n",
       "    }\n",
       "\n",
       "    .dataframe thead th {\n",
       "        text-align: right;\n",
       "    }\n",
       "</style>\n",
       "<table border=\"1\" class=\"dataframe\">\n",
       "  <thead>\n",
       "    <tr style=\"text-align: right;\">\n",
       "      <th></th>\n",
       "      <th>unique_id</th>\n",
       "      <th>name</th>\n",
       "    </tr>\n",
       "  </thead>\n",
       "  <tbody>\n",
       "    <tr>\n",
       "      <th>0</th>\n",
       "      <td>NaN</td>\n",
       "      <td>Alice</td>\n",
       "    </tr>\n",
       "    <tr>\n",
       "      <th>1</th>\n",
       "      <td>NaN</td>\n",
       "      <td>Bob</td>\n",
       "    </tr>\n",
       "    <tr>\n",
       "      <th>2</th>\n",
       "      <td>2.0</td>\n",
       "      <td>Meir</td>\n",
       "    </tr>\n",
       "    <tr>\n",
       "      <th>3</th>\n",
       "      <td>3.0</td>\n",
       "      <td>Winston</td>\n",
       "    </tr>\n",
       "    <tr>\n",
       "      <th>4</th>\n",
       "      <td>1.0</td>\n",
       "      <td>Jonathan</td>\n",
       "    </tr>\n",
       "  </tbody>\n",
       "</table>\n",
       "</div>"
      ],
      "text/plain": [
       "   unique_id      name\n",
       "0        NaN     Alice\n",
       "1        NaN       Bob\n",
       "2        2.0      Meir\n",
       "3        3.0   Winston\n",
       "4        1.0  Jonathan"
      ]
     },
     "execution_count": 18,
     "metadata": {},
     "output_type": "execute_result"
    }
   ],
   "source": [
    "merged[[\"unique_id\",\"name\"]]"
   ]
  },
  {
   "cell_type": "code",
   "execution_count": 46,
   "id": "be96247f",
   "metadata": {},
   "outputs": [],
   "source": [
    "data = [[1, 'Alice'], [2, 'Bob'], [13, 'John'], [6, 'Alex']]\n",
    "students = pd.DataFrame(data, columns=['student_id', 'student_name']).astype({'student_id':'Int64', 'student_name':'object'})\n",
    "data = [['Math'], ['Physics'], ['Programming']]\n",
    "subjects = pd.DataFrame(data, columns=['subject_name']).astype({'subject_name':'object'})\n",
    "data = [[1, 'Math'], [1, 'Physics'], [1, 'Programming'], [2, 'Programming'], [1, 'Physics'], [1, 'Math'], [13, 'Math'], [13, 'Programming'], [13, 'Physics'], [2, 'Math'], [1, 'Math']]\n",
    "examinations = pd.DataFrame(data, columns=['student_id', 'subject_name']).astype({'student_id':'Int64', 'subject_name':'object'})"
   ]
  },
  {
   "cell_type": "code",
   "execution_count": 47,
   "id": "26affc79",
   "metadata": {},
   "outputs": [
    {
     "data": {
      "text/html": [
       "<div>\n",
       "<style scoped>\n",
       "    .dataframe tbody tr th:only-of-type {\n",
       "        vertical-align: middle;\n",
       "    }\n",
       "\n",
       "    .dataframe tbody tr th {\n",
       "        vertical-align: top;\n",
       "    }\n",
       "\n",
       "    .dataframe thead th {\n",
       "        text-align: right;\n",
       "    }\n",
       "</style>\n",
       "<table border=\"1\" class=\"dataframe\">\n",
       "  <thead>\n",
       "    <tr style=\"text-align: right;\">\n",
       "      <th></th>\n",
       "      <th>student_id</th>\n",
       "      <th>student_name</th>\n",
       "    </tr>\n",
       "  </thead>\n",
       "  <tbody>\n",
       "    <tr>\n",
       "      <th>0</th>\n",
       "      <td>1</td>\n",
       "      <td>Alice</td>\n",
       "    </tr>\n",
       "    <tr>\n",
       "      <th>1</th>\n",
       "      <td>2</td>\n",
       "      <td>Bob</td>\n",
       "    </tr>\n",
       "    <tr>\n",
       "      <th>2</th>\n",
       "      <td>13</td>\n",
       "      <td>John</td>\n",
       "    </tr>\n",
       "    <tr>\n",
       "      <th>3</th>\n",
       "      <td>6</td>\n",
       "      <td>Alex</td>\n",
       "    </tr>\n",
       "  </tbody>\n",
       "</table>\n",
       "</div>"
      ],
      "text/plain": [
       "   student_id student_name\n",
       "0           1        Alice\n",
       "1           2          Bob\n",
       "2          13         John\n",
       "3           6         Alex"
      ]
     },
     "execution_count": 47,
     "metadata": {},
     "output_type": "execute_result"
    }
   ],
   "source": [
    "students"
   ]
  },
  {
   "cell_type": "code",
   "execution_count": 48,
   "id": "d62e2f8a",
   "metadata": {},
   "outputs": [
    {
     "data": {
      "text/html": [
       "<div>\n",
       "<style scoped>\n",
       "    .dataframe tbody tr th:only-of-type {\n",
       "        vertical-align: middle;\n",
       "    }\n",
       "\n",
       "    .dataframe tbody tr th {\n",
       "        vertical-align: top;\n",
       "    }\n",
       "\n",
       "    .dataframe thead th {\n",
       "        text-align: right;\n",
       "    }\n",
       "</style>\n",
       "<table border=\"1\" class=\"dataframe\">\n",
       "  <thead>\n",
       "    <tr style=\"text-align: right;\">\n",
       "      <th></th>\n",
       "      <th>subject_name</th>\n",
       "    </tr>\n",
       "  </thead>\n",
       "  <tbody>\n",
       "    <tr>\n",
       "      <th>0</th>\n",
       "      <td>Math</td>\n",
       "    </tr>\n",
       "    <tr>\n",
       "      <th>1</th>\n",
       "      <td>Physics</td>\n",
       "    </tr>\n",
       "    <tr>\n",
       "      <th>2</th>\n",
       "      <td>Programming</td>\n",
       "    </tr>\n",
       "  </tbody>\n",
       "</table>\n",
       "</div>"
      ],
      "text/plain": [
       "  subject_name\n",
       "0         Math\n",
       "1      Physics\n",
       "2  Programming"
      ]
     },
     "execution_count": 48,
     "metadata": {},
     "output_type": "execute_result"
    }
   ],
   "source": [
    "subjects"
   ]
  },
  {
   "cell_type": "code",
   "execution_count": 52,
   "id": "0593dd5a",
   "metadata": {},
   "outputs": [
    {
     "data": {
      "text/html": [
       "<div>\n",
       "<style scoped>\n",
       "    .dataframe tbody tr th:only-of-type {\n",
       "        vertical-align: middle;\n",
       "    }\n",
       "\n",
       "    .dataframe tbody tr th {\n",
       "        vertical-align: top;\n",
       "    }\n",
       "\n",
       "    .dataframe thead th {\n",
       "        text-align: right;\n",
       "    }\n",
       "</style>\n",
       "<table border=\"1\" class=\"dataframe\">\n",
       "  <thead>\n",
       "    <tr style=\"text-align: right;\">\n",
       "      <th></th>\n",
       "      <th>student_id</th>\n",
       "      <th>subject_name</th>\n",
       "    </tr>\n",
       "  </thead>\n",
       "  <tbody>\n",
       "    <tr>\n",
       "      <th>0</th>\n",
       "      <td>1</td>\n",
       "      <td>Math</td>\n",
       "    </tr>\n",
       "    <tr>\n",
       "      <th>1</th>\n",
       "      <td>1</td>\n",
       "      <td>Physics</td>\n",
       "    </tr>\n",
       "    <tr>\n",
       "      <th>2</th>\n",
       "      <td>1</td>\n",
       "      <td>Programming</td>\n",
       "    </tr>\n",
       "    <tr>\n",
       "      <th>3</th>\n",
       "      <td>2</td>\n",
       "      <td>Programming</td>\n",
       "    </tr>\n",
       "    <tr>\n",
       "      <th>4</th>\n",
       "      <td>1</td>\n",
       "      <td>Physics</td>\n",
       "    </tr>\n",
       "    <tr>\n",
       "      <th>5</th>\n",
       "      <td>1</td>\n",
       "      <td>Math</td>\n",
       "    </tr>\n",
       "    <tr>\n",
       "      <th>6</th>\n",
       "      <td>13</td>\n",
       "      <td>Math</td>\n",
       "    </tr>\n",
       "    <tr>\n",
       "      <th>7</th>\n",
       "      <td>13</td>\n",
       "      <td>Programming</td>\n",
       "    </tr>\n",
       "    <tr>\n",
       "      <th>8</th>\n",
       "      <td>13</td>\n",
       "      <td>Physics</td>\n",
       "    </tr>\n",
       "    <tr>\n",
       "      <th>9</th>\n",
       "      <td>2</td>\n",
       "      <td>Math</td>\n",
       "    </tr>\n",
       "    <tr>\n",
       "      <th>10</th>\n",
       "      <td>1</td>\n",
       "      <td>Math</td>\n",
       "    </tr>\n",
       "  </tbody>\n",
       "</table>\n",
       "</div>"
      ],
      "text/plain": [
       "    student_id subject_name\n",
       "0            1         Math\n",
       "1            1      Physics\n",
       "2            1  Programming\n",
       "3            2  Programming\n",
       "4            1      Physics\n",
       "5            1         Math\n",
       "6           13         Math\n",
       "7           13  Programming\n",
       "8           13      Physics\n",
       "9            2         Math\n",
       "10           1         Math"
      ]
     },
     "execution_count": 52,
     "metadata": {},
     "output_type": "execute_result"
    }
   ],
   "source": [
    "examinations"
   ]
  },
  {
   "cell_type": "code",
   "execution_count": 49,
   "id": "3cbf977e",
   "metadata": {},
   "outputs": [],
   "source": [
    "student_subject = pd.merge(students, subjects, how = 'cross')"
   ]
  },
  {
   "cell_type": "code",
   "execution_count": 50,
   "id": "e5a1cb7a",
   "metadata": {},
   "outputs": [
    {
     "data": {
      "text/html": [
       "<div>\n",
       "<style scoped>\n",
       "    .dataframe tbody tr th:only-of-type {\n",
       "        vertical-align: middle;\n",
       "    }\n",
       "\n",
       "    .dataframe tbody tr th {\n",
       "        vertical-align: top;\n",
       "    }\n",
       "\n",
       "    .dataframe thead th {\n",
       "        text-align: right;\n",
       "    }\n",
       "</style>\n",
       "<table border=\"1\" class=\"dataframe\">\n",
       "  <thead>\n",
       "    <tr style=\"text-align: right;\">\n",
       "      <th></th>\n",
       "      <th>student_id</th>\n",
       "      <th>student_name</th>\n",
       "      <th>subject_name</th>\n",
       "    </tr>\n",
       "  </thead>\n",
       "  <tbody>\n",
       "    <tr>\n",
       "      <th>0</th>\n",
       "      <td>1</td>\n",
       "      <td>Alice</td>\n",
       "      <td>Math</td>\n",
       "    </tr>\n",
       "    <tr>\n",
       "      <th>1</th>\n",
       "      <td>1</td>\n",
       "      <td>Alice</td>\n",
       "      <td>Physics</td>\n",
       "    </tr>\n",
       "    <tr>\n",
       "      <th>2</th>\n",
       "      <td>1</td>\n",
       "      <td>Alice</td>\n",
       "      <td>Programming</td>\n",
       "    </tr>\n",
       "    <tr>\n",
       "      <th>3</th>\n",
       "      <td>2</td>\n",
       "      <td>Bob</td>\n",
       "      <td>Math</td>\n",
       "    </tr>\n",
       "    <tr>\n",
       "      <th>4</th>\n",
       "      <td>2</td>\n",
       "      <td>Bob</td>\n",
       "      <td>Physics</td>\n",
       "    </tr>\n",
       "    <tr>\n",
       "      <th>5</th>\n",
       "      <td>2</td>\n",
       "      <td>Bob</td>\n",
       "      <td>Programming</td>\n",
       "    </tr>\n",
       "    <tr>\n",
       "      <th>6</th>\n",
       "      <td>13</td>\n",
       "      <td>John</td>\n",
       "      <td>Math</td>\n",
       "    </tr>\n",
       "    <tr>\n",
       "      <th>7</th>\n",
       "      <td>13</td>\n",
       "      <td>John</td>\n",
       "      <td>Physics</td>\n",
       "    </tr>\n",
       "    <tr>\n",
       "      <th>8</th>\n",
       "      <td>13</td>\n",
       "      <td>John</td>\n",
       "      <td>Programming</td>\n",
       "    </tr>\n",
       "    <tr>\n",
       "      <th>9</th>\n",
       "      <td>6</td>\n",
       "      <td>Alex</td>\n",
       "      <td>Math</td>\n",
       "    </tr>\n",
       "    <tr>\n",
       "      <th>10</th>\n",
       "      <td>6</td>\n",
       "      <td>Alex</td>\n",
       "      <td>Physics</td>\n",
       "    </tr>\n",
       "    <tr>\n",
       "      <th>11</th>\n",
       "      <td>6</td>\n",
       "      <td>Alex</td>\n",
       "      <td>Programming</td>\n",
       "    </tr>\n",
       "  </tbody>\n",
       "</table>\n",
       "</div>"
      ],
      "text/plain": [
       "    student_id student_name subject_name\n",
       "0            1        Alice         Math\n",
       "1            1        Alice      Physics\n",
       "2            1        Alice  Programming\n",
       "3            2          Bob         Math\n",
       "4            2          Bob      Physics\n",
       "5            2          Bob  Programming\n",
       "6           13         John         Math\n",
       "7           13         John      Physics\n",
       "8           13         John  Programming\n",
       "9            6         Alex         Math\n",
       "10           6         Alex      Physics\n",
       "11           6         Alex  Programming"
      ]
     },
     "execution_count": 50,
     "metadata": {},
     "output_type": "execute_result"
    }
   ],
   "source": [
    "student_subject"
   ]
  },
  {
   "cell_type": "code",
   "execution_count": 51,
   "id": "7a9cd91d",
   "metadata": {},
   "outputs": [],
   "source": [
    "examination_count = examinations.groupby(['student_id', 'subject_name']).size().reset_index(name = 'attended_exams')"
   ]
  },
  {
   "cell_type": "code",
   "execution_count": 41,
   "id": "c54ad1da",
   "metadata": {},
   "outputs": [
    {
     "data": {
      "text/html": [
       "<div>\n",
       "<style scoped>\n",
       "    .dataframe tbody tr th:only-of-type {\n",
       "        vertical-align: middle;\n",
       "    }\n",
       "\n",
       "    .dataframe tbody tr th {\n",
       "        vertical-align: top;\n",
       "    }\n",
       "\n",
       "    .dataframe thead th {\n",
       "        text-align: right;\n",
       "    }\n",
       "</style>\n",
       "<table border=\"1\" class=\"dataframe\">\n",
       "  <thead>\n",
       "    <tr style=\"text-align: right;\">\n",
       "      <th></th>\n",
       "      <th>student_id</th>\n",
       "      <th>subject_name</th>\n",
       "      <th>attended_exams</th>\n",
       "    </tr>\n",
       "  </thead>\n",
       "  <tbody>\n",
       "    <tr>\n",
       "      <th>0</th>\n",
       "      <td>1</td>\n",
       "      <td>Math</td>\n",
       "      <td>3</td>\n",
       "    </tr>\n",
       "    <tr>\n",
       "      <th>1</th>\n",
       "      <td>1</td>\n",
       "      <td>Physics</td>\n",
       "      <td>2</td>\n",
       "    </tr>\n",
       "    <tr>\n",
       "      <th>2</th>\n",
       "      <td>1</td>\n",
       "      <td>Programming</td>\n",
       "      <td>1</td>\n",
       "    </tr>\n",
       "    <tr>\n",
       "      <th>3</th>\n",
       "      <td>2</td>\n",
       "      <td>Math</td>\n",
       "      <td>1</td>\n",
       "    </tr>\n",
       "    <tr>\n",
       "      <th>4</th>\n",
       "      <td>2</td>\n",
       "      <td>Programming</td>\n",
       "      <td>1</td>\n",
       "    </tr>\n",
       "    <tr>\n",
       "      <th>5</th>\n",
       "      <td>13</td>\n",
       "      <td>Math</td>\n",
       "      <td>1</td>\n",
       "    </tr>\n",
       "    <tr>\n",
       "      <th>6</th>\n",
       "      <td>13</td>\n",
       "      <td>Physics</td>\n",
       "      <td>1</td>\n",
       "    </tr>\n",
       "    <tr>\n",
       "      <th>7</th>\n",
       "      <td>13</td>\n",
       "      <td>Programming</td>\n",
       "      <td>1</td>\n",
       "    </tr>\n",
       "  </tbody>\n",
       "</table>\n",
       "</div>"
      ],
      "text/plain": [
       "   student_id subject_name  attended_exams\n",
       "0           1         Math               3\n",
       "1           1      Physics               2\n",
       "2           1  Programming               1\n",
       "3           2         Math               1\n",
       "4           2  Programming               1\n",
       "5          13         Math               1\n",
       "6          13      Physics               1\n",
       "7          13  Programming               1"
      ]
     },
     "execution_count": 41,
     "metadata": {},
     "output_type": "execute_result"
    }
   ],
   "source": [
    "examination_count"
   ]
  },
  {
   "cell_type": "code",
   "execution_count": 42,
   "id": "92c27785",
   "metadata": {},
   "outputs": [],
   "source": [
    "result_df = pd.merge(student_subject, examination_count, on = ['student_id', 'subject_name'], how = 'left')"
   ]
  },
  {
   "cell_type": "code",
   "execution_count": 43,
   "id": "bf9e710c",
   "metadata": {},
   "outputs": [
    {
     "data": {
      "text/html": [
       "<div>\n",
       "<style scoped>\n",
       "    .dataframe tbody tr th:only-of-type {\n",
       "        vertical-align: middle;\n",
       "    }\n",
       "\n",
       "    .dataframe tbody tr th {\n",
       "        vertical-align: top;\n",
       "    }\n",
       "\n",
       "    .dataframe thead th {\n",
       "        text-align: right;\n",
       "    }\n",
       "</style>\n",
       "<table border=\"1\" class=\"dataframe\">\n",
       "  <thead>\n",
       "    <tr style=\"text-align: right;\">\n",
       "      <th></th>\n",
       "      <th>student_id</th>\n",
       "      <th>student_name</th>\n",
       "      <th>subject_name</th>\n",
       "      <th>attended_exams</th>\n",
       "    </tr>\n",
       "  </thead>\n",
       "  <tbody>\n",
       "    <tr>\n",
       "      <th>0</th>\n",
       "      <td>1</td>\n",
       "      <td>Alice</td>\n",
       "      <td>Math</td>\n",
       "      <td>3.0</td>\n",
       "    </tr>\n",
       "    <tr>\n",
       "      <th>1</th>\n",
       "      <td>1</td>\n",
       "      <td>Alice</td>\n",
       "      <td>Physics</td>\n",
       "      <td>2.0</td>\n",
       "    </tr>\n",
       "    <tr>\n",
       "      <th>2</th>\n",
       "      <td>1</td>\n",
       "      <td>Alice</td>\n",
       "      <td>Programming</td>\n",
       "      <td>1.0</td>\n",
       "    </tr>\n",
       "    <tr>\n",
       "      <th>3</th>\n",
       "      <td>2</td>\n",
       "      <td>Bob</td>\n",
       "      <td>Math</td>\n",
       "      <td>1.0</td>\n",
       "    </tr>\n",
       "    <tr>\n",
       "      <th>4</th>\n",
       "      <td>2</td>\n",
       "      <td>Bob</td>\n",
       "      <td>Physics</td>\n",
       "      <td>NaN</td>\n",
       "    </tr>\n",
       "    <tr>\n",
       "      <th>5</th>\n",
       "      <td>2</td>\n",
       "      <td>Bob</td>\n",
       "      <td>Programming</td>\n",
       "      <td>1.0</td>\n",
       "    </tr>\n",
       "    <tr>\n",
       "      <th>6</th>\n",
       "      <td>13</td>\n",
       "      <td>John</td>\n",
       "      <td>Math</td>\n",
       "      <td>1.0</td>\n",
       "    </tr>\n",
       "    <tr>\n",
       "      <th>7</th>\n",
       "      <td>13</td>\n",
       "      <td>John</td>\n",
       "      <td>Physics</td>\n",
       "      <td>1.0</td>\n",
       "    </tr>\n",
       "    <tr>\n",
       "      <th>8</th>\n",
       "      <td>13</td>\n",
       "      <td>John</td>\n",
       "      <td>Programming</td>\n",
       "      <td>1.0</td>\n",
       "    </tr>\n",
       "    <tr>\n",
       "      <th>9</th>\n",
       "      <td>6</td>\n",
       "      <td>Alex</td>\n",
       "      <td>Math</td>\n",
       "      <td>NaN</td>\n",
       "    </tr>\n",
       "    <tr>\n",
       "      <th>10</th>\n",
       "      <td>6</td>\n",
       "      <td>Alex</td>\n",
       "      <td>Physics</td>\n",
       "      <td>NaN</td>\n",
       "    </tr>\n",
       "    <tr>\n",
       "      <th>11</th>\n",
       "      <td>6</td>\n",
       "      <td>Alex</td>\n",
       "      <td>Programming</td>\n",
       "      <td>NaN</td>\n",
       "    </tr>\n",
       "  </tbody>\n",
       "</table>\n",
       "</div>"
      ],
      "text/plain": [
       "    student_id student_name subject_name  attended_exams\n",
       "0            1        Alice         Math             3.0\n",
       "1            1        Alice      Physics             2.0\n",
       "2            1        Alice  Programming             1.0\n",
       "3            2          Bob         Math             1.0\n",
       "4            2          Bob      Physics             NaN\n",
       "5            2          Bob  Programming             1.0\n",
       "6           13         John         Math             1.0\n",
       "7           13         John      Physics             1.0\n",
       "8           13         John  Programming             1.0\n",
       "9            6         Alex         Math             NaN\n",
       "10           6         Alex      Physics             NaN\n",
       "11           6         Alex  Programming             NaN"
      ]
     },
     "execution_count": 43,
     "metadata": {},
     "output_type": "execute_result"
    }
   ],
   "source": [
    "result_df"
   ]
  },
  {
   "cell_type": "code",
   "execution_count": 44,
   "id": "db7cbd9e",
   "metadata": {},
   "outputs": [],
   "source": [
    "result_df['attended_exams'] = result_df['attended_exams'].fillna(0)"
   ]
  },
  {
   "cell_type": "code",
   "execution_count": 45,
   "id": "cdf6f125",
   "metadata": {},
   "outputs": [
    {
     "data": {
      "text/html": [
       "<div>\n",
       "<style scoped>\n",
       "    .dataframe tbody tr th:only-of-type {\n",
       "        vertical-align: middle;\n",
       "    }\n",
       "\n",
       "    .dataframe tbody tr th {\n",
       "        vertical-align: top;\n",
       "    }\n",
       "\n",
       "    .dataframe thead th {\n",
       "        text-align: right;\n",
       "    }\n",
       "</style>\n",
       "<table border=\"1\" class=\"dataframe\">\n",
       "  <thead>\n",
       "    <tr style=\"text-align: right;\">\n",
       "      <th></th>\n",
       "      <th>student_id</th>\n",
       "      <th>student_name</th>\n",
       "      <th>subject_name</th>\n",
       "      <th>attended_exams</th>\n",
       "    </tr>\n",
       "  </thead>\n",
       "  <tbody>\n",
       "    <tr>\n",
       "      <th>0</th>\n",
       "      <td>1</td>\n",
       "      <td>Alice</td>\n",
       "      <td>Math</td>\n",
       "      <td>3.0</td>\n",
       "    </tr>\n",
       "    <tr>\n",
       "      <th>1</th>\n",
       "      <td>1</td>\n",
       "      <td>Alice</td>\n",
       "      <td>Physics</td>\n",
       "      <td>2.0</td>\n",
       "    </tr>\n",
       "    <tr>\n",
       "      <th>2</th>\n",
       "      <td>1</td>\n",
       "      <td>Alice</td>\n",
       "      <td>Programming</td>\n",
       "      <td>1.0</td>\n",
       "    </tr>\n",
       "    <tr>\n",
       "      <th>3</th>\n",
       "      <td>2</td>\n",
       "      <td>Bob</td>\n",
       "      <td>Math</td>\n",
       "      <td>1.0</td>\n",
       "    </tr>\n",
       "    <tr>\n",
       "      <th>4</th>\n",
       "      <td>2</td>\n",
       "      <td>Bob</td>\n",
       "      <td>Physics</td>\n",
       "      <td>0.0</td>\n",
       "    </tr>\n",
       "    <tr>\n",
       "      <th>5</th>\n",
       "      <td>2</td>\n",
       "      <td>Bob</td>\n",
       "      <td>Programming</td>\n",
       "      <td>1.0</td>\n",
       "    </tr>\n",
       "    <tr>\n",
       "      <th>6</th>\n",
       "      <td>13</td>\n",
       "      <td>John</td>\n",
       "      <td>Math</td>\n",
       "      <td>1.0</td>\n",
       "    </tr>\n",
       "    <tr>\n",
       "      <th>7</th>\n",
       "      <td>13</td>\n",
       "      <td>John</td>\n",
       "      <td>Physics</td>\n",
       "      <td>1.0</td>\n",
       "    </tr>\n",
       "    <tr>\n",
       "      <th>8</th>\n",
       "      <td>13</td>\n",
       "      <td>John</td>\n",
       "      <td>Programming</td>\n",
       "      <td>1.0</td>\n",
       "    </tr>\n",
       "    <tr>\n",
       "      <th>9</th>\n",
       "      <td>6</td>\n",
       "      <td>Alex</td>\n",
       "      <td>Math</td>\n",
       "      <td>0.0</td>\n",
       "    </tr>\n",
       "    <tr>\n",
       "      <th>10</th>\n",
       "      <td>6</td>\n",
       "      <td>Alex</td>\n",
       "      <td>Physics</td>\n",
       "      <td>0.0</td>\n",
       "    </tr>\n",
       "    <tr>\n",
       "      <th>11</th>\n",
       "      <td>6</td>\n",
       "      <td>Alex</td>\n",
       "      <td>Programming</td>\n",
       "      <td>0.0</td>\n",
       "    </tr>\n",
       "  </tbody>\n",
       "</table>\n",
       "</div>"
      ],
      "text/plain": [
       "    student_id student_name subject_name  attended_exams\n",
       "0            1        Alice         Math             3.0\n",
       "1            1        Alice      Physics             2.0\n",
       "2            1        Alice  Programming             1.0\n",
       "3            2          Bob         Math             1.0\n",
       "4            2          Bob      Physics             0.0\n",
       "5            2          Bob  Programming             1.0\n",
       "6           13         John         Math             1.0\n",
       "7           13         John      Physics             1.0\n",
       "8           13         John  Programming             1.0\n",
       "9            6         Alex         Math             0.0\n",
       "10           6         Alex      Physics             0.0\n",
       "11           6         Alex  Programming             0.0"
      ]
     },
     "execution_count": 45,
     "metadata": {},
     "output_type": "execute_result"
    }
   ],
   "source": [
    "result_df"
   ]
  },
  {
   "cell_type": "code",
   "execution_count": 2,
   "id": "55d70389",
   "metadata": {},
   "outputs": [],
   "source": [
    "data = [[1, 'John', 100000, 6, '4/1/2006'], [2, 'Amy', 12000, 5, '5/1/2010'], [3, 'Mark', 65000, 12, '12/25/2008'], [4, 'Pam', 25000, 25, '1/1/2005'], [5, 'Alex', 5000, 10, '2/3/2007']]\n",
    "sales_person = pd.DataFrame(data, columns=['sales_id', 'name', 'salary', 'commission_rate', 'hire_date']).astype({'sales_id':'Int64', 'name':'object', 'salary':'Int64', 'commission_rate':'Int64', 'hire_date':'datetime64[ns]'})\n",
    "data = [[1, 'RED', 'Boston'], [2, 'ORANGE', 'New York'], [3, 'YELLOW', 'Boston'], [4, 'GREEN', 'Austin']]\n",
    "company = pd.DataFrame(data, columns=['com_id', 'name', 'city']).astype({'com_id':'Int64', 'name':'object', 'city':'object'})\n",
    "data = [[1, '1/1/2014', 3, 4, 10000], [2, '2/1/2014', 4, 5, 5000], [3, '3/1/2014', 1, 1, 50000], [4, '4/1/2014', 1, 4, 25000]]\n",
    "orders = pd.DataFrame(data, columns=['order_id', 'order_date', 'com_id', 'sales_id', 'amount']).astype({'order_id':'Int64', 'order_date':'datetime64[ns]', 'com_id':'Int64', 'sales_id':'Int64', 'amount':'Int64'})\n"
   ]
  },
  {
   "cell_type": "code",
   "execution_count": 4,
   "id": "b3660121",
   "metadata": {},
   "outputs": [
    {
     "data": {
      "text/html": [
       "<div>\n",
       "<style scoped>\n",
       "    .dataframe tbody tr th:only-of-type {\n",
       "        vertical-align: middle;\n",
       "    }\n",
       "\n",
       "    .dataframe tbody tr th {\n",
       "        vertical-align: top;\n",
       "    }\n",
       "\n",
       "    .dataframe thead th {\n",
       "        text-align: right;\n",
       "    }\n",
       "</style>\n",
       "<table border=\"1\" class=\"dataframe\">\n",
       "  <thead>\n",
       "    <tr style=\"text-align: right;\">\n",
       "      <th></th>\n",
       "      <th>com_id</th>\n",
       "      <th>name</th>\n",
       "      <th>city</th>\n",
       "    </tr>\n",
       "  </thead>\n",
       "  <tbody>\n",
       "    <tr>\n",
       "      <th>0</th>\n",
       "      <td>1</td>\n",
       "      <td>RED</td>\n",
       "      <td>Boston</td>\n",
       "    </tr>\n",
       "    <tr>\n",
       "      <th>1</th>\n",
       "      <td>2</td>\n",
       "      <td>ORANGE</td>\n",
       "      <td>New York</td>\n",
       "    </tr>\n",
       "    <tr>\n",
       "      <th>2</th>\n",
       "      <td>3</td>\n",
       "      <td>YELLOW</td>\n",
       "      <td>Boston</td>\n",
       "    </tr>\n",
       "    <tr>\n",
       "      <th>3</th>\n",
       "      <td>4</td>\n",
       "      <td>GREEN</td>\n",
       "      <td>Austin</td>\n",
       "    </tr>\n",
       "  </tbody>\n",
       "</table>\n",
       "</div>"
      ],
      "text/plain": [
       "   com_id    name      city\n",
       "0       1     RED    Boston\n",
       "1       2  ORANGE  New York\n",
       "2       3  YELLOW    Boston\n",
       "3       4   GREEN    Austin"
      ]
     },
     "execution_count": 4,
     "metadata": {},
     "output_type": "execute_result"
    }
   ],
   "source": [
    "company"
   ]
  },
  {
   "cell_type": "code",
   "execution_count": 10,
   "id": "5d4f73ae",
   "metadata": {},
   "outputs": [],
   "source": [
    "red_id = company[(company.name == 'RED')]['com_id'].iloc[0]"
   ]
  },
  {
   "cell_type": "code",
   "execution_count": 11,
   "id": "1478a7d8",
   "metadata": {},
   "outputs": [
    {
     "data": {
      "text/plain": [
       "1"
      ]
     },
     "execution_count": 11,
     "metadata": {},
     "output_type": "execute_result"
    }
   ],
   "source": [
    "red_id"
   ]
  },
  {
   "cell_type": "code",
   "execution_count": 12,
   "id": "38aed6b3",
   "metadata": {},
   "outputs": [],
   "source": [
    "orders = orders[(orders['com_id'] == red_id)]"
   ]
  },
  {
   "cell_type": "code",
   "execution_count": 13,
   "id": "63620e19",
   "metadata": {},
   "outputs": [
    {
     "data": {
      "text/html": [
       "<div>\n",
       "<style scoped>\n",
       "    .dataframe tbody tr th:only-of-type {\n",
       "        vertical-align: middle;\n",
       "    }\n",
       "\n",
       "    .dataframe tbody tr th {\n",
       "        vertical-align: top;\n",
       "    }\n",
       "\n",
       "    .dataframe thead th {\n",
       "        text-align: right;\n",
       "    }\n",
       "</style>\n",
       "<table border=\"1\" class=\"dataframe\">\n",
       "  <thead>\n",
       "    <tr style=\"text-align: right;\">\n",
       "      <th></th>\n",
       "      <th>order_id</th>\n",
       "      <th>order_date</th>\n",
       "      <th>com_id</th>\n",
       "      <th>sales_id</th>\n",
       "      <th>amount</th>\n",
       "    </tr>\n",
       "  </thead>\n",
       "  <tbody>\n",
       "    <tr>\n",
       "      <th>2</th>\n",
       "      <td>3</td>\n",
       "      <td>2014-03-01</td>\n",
       "      <td>1</td>\n",
       "      <td>1</td>\n",
       "      <td>50000</td>\n",
       "    </tr>\n",
       "    <tr>\n",
       "      <th>3</th>\n",
       "      <td>4</td>\n",
       "      <td>2014-04-01</td>\n",
       "      <td>1</td>\n",
       "      <td>4</td>\n",
       "      <td>25000</td>\n",
       "    </tr>\n",
       "  </tbody>\n",
       "</table>\n",
       "</div>"
      ],
      "text/plain": [
       "   order_id order_date  com_id  sales_id  amount\n",
       "2         3 2014-03-01       1         1   50000\n",
       "3         4 2014-04-01       1         4   25000"
      ]
     },
     "execution_count": 13,
     "metadata": {},
     "output_type": "execute_result"
    }
   ],
   "source": [
    "orders"
   ]
  },
  {
   "cell_type": "code",
   "execution_count": 14,
   "id": "b7f882f2",
   "metadata": {},
   "outputs": [],
   "source": [
    "orders = orders[['sales_id']]"
   ]
  },
  {
   "cell_type": "code",
   "execution_count": 17,
   "id": "3efc6813",
   "metadata": {},
   "outputs": [
    {
     "data": {
      "text/html": [
       "<div>\n",
       "<style scoped>\n",
       "    .dataframe tbody tr th:only-of-type {\n",
       "        vertical-align: middle;\n",
       "    }\n",
       "\n",
       "    .dataframe tbody tr th {\n",
       "        vertical-align: top;\n",
       "    }\n",
       "\n",
       "    .dataframe thead th {\n",
       "        text-align: right;\n",
       "    }\n",
       "</style>\n",
       "<table border=\"1\" class=\"dataframe\">\n",
       "  <thead>\n",
       "    <tr style=\"text-align: right;\">\n",
       "      <th></th>\n",
       "      <th>sales_id</th>\n",
       "      <th>flag</th>\n",
       "    </tr>\n",
       "  </thead>\n",
       "  <tbody>\n",
       "    <tr>\n",
       "      <th>2</th>\n",
       "      <td>1</td>\n",
       "      <td>1</td>\n",
       "    </tr>\n",
       "    <tr>\n",
       "      <th>3</th>\n",
       "      <td>4</td>\n",
       "      <td>1</td>\n",
       "    </tr>\n",
       "  </tbody>\n",
       "</table>\n",
       "</div>"
      ],
      "text/plain": [
       "   sales_id  flag\n",
       "2         1     1\n",
       "3         4     1"
      ]
     },
     "execution_count": 17,
     "metadata": {},
     "output_type": "execute_result"
    }
   ],
   "source": [
    "orders"
   ]
  },
  {
   "cell_type": "code",
   "execution_count": 16,
   "id": "cc716e16",
   "metadata": {},
   "outputs": [
    {
     "name": "stderr",
     "output_type": "stream",
     "text": [
      "C:\\Users\\Admin\\AppData\\Local\\Temp\\ipykernel_10728\\3588122089.py:1: SettingWithCopyWarning: \n",
      "A value is trying to be set on a copy of a slice from a DataFrame.\n",
      "Try using .loc[row_indexer,col_indexer] = value instead\n",
      "\n",
      "See the caveats in the documentation: https://pandas.pydata.org/pandas-docs/stable/user_guide/indexing.html#returning-a-view-versus-a-copy\n",
      "  orders['flag'] = 1\n"
     ]
    }
   ],
   "source": [
    "orders['flag'] = 1"
   ]
  },
  {
   "cell_type": "code",
   "execution_count": 18,
   "id": "45857e8d",
   "metadata": {},
   "outputs": [],
   "source": [
    "df = pd.merge(left=sales_person,right=orders,on='sales_id',how='left')"
   ]
  },
  {
   "cell_type": "code",
   "execution_count": 19,
   "id": "75b13483",
   "metadata": {},
   "outputs": [
    {
     "data": {
      "text/html": [
       "<div>\n",
       "<style scoped>\n",
       "    .dataframe tbody tr th:only-of-type {\n",
       "        vertical-align: middle;\n",
       "    }\n",
       "\n",
       "    .dataframe tbody tr th {\n",
       "        vertical-align: top;\n",
       "    }\n",
       "\n",
       "    .dataframe thead th {\n",
       "        text-align: right;\n",
       "    }\n",
       "</style>\n",
       "<table border=\"1\" class=\"dataframe\">\n",
       "  <thead>\n",
       "    <tr style=\"text-align: right;\">\n",
       "      <th></th>\n",
       "      <th>sales_id</th>\n",
       "      <th>name</th>\n",
       "      <th>salary</th>\n",
       "      <th>commission_rate</th>\n",
       "      <th>hire_date</th>\n",
       "      <th>flag</th>\n",
       "    </tr>\n",
       "  </thead>\n",
       "  <tbody>\n",
       "    <tr>\n",
       "      <th>0</th>\n",
       "      <td>1</td>\n",
       "      <td>John</td>\n",
       "      <td>100000</td>\n",
       "      <td>6</td>\n",
       "      <td>2006-04-01</td>\n",
       "      <td>1.0</td>\n",
       "    </tr>\n",
       "    <tr>\n",
       "      <th>1</th>\n",
       "      <td>2</td>\n",
       "      <td>Amy</td>\n",
       "      <td>12000</td>\n",
       "      <td>5</td>\n",
       "      <td>2010-05-01</td>\n",
       "      <td>NaN</td>\n",
       "    </tr>\n",
       "    <tr>\n",
       "      <th>2</th>\n",
       "      <td>3</td>\n",
       "      <td>Mark</td>\n",
       "      <td>65000</td>\n",
       "      <td>12</td>\n",
       "      <td>2008-12-25</td>\n",
       "      <td>NaN</td>\n",
       "    </tr>\n",
       "    <tr>\n",
       "      <th>3</th>\n",
       "      <td>4</td>\n",
       "      <td>Pam</td>\n",
       "      <td>25000</td>\n",
       "      <td>25</td>\n",
       "      <td>2005-01-01</td>\n",
       "      <td>1.0</td>\n",
       "    </tr>\n",
       "    <tr>\n",
       "      <th>4</th>\n",
       "      <td>5</td>\n",
       "      <td>Alex</td>\n",
       "      <td>5000</td>\n",
       "      <td>10</td>\n",
       "      <td>2007-02-03</td>\n",
       "      <td>NaN</td>\n",
       "    </tr>\n",
       "  </tbody>\n",
       "</table>\n",
       "</div>"
      ],
      "text/plain": [
       "   sales_id  name  salary  commission_rate  hire_date  flag\n",
       "0         1  John  100000                6 2006-04-01   1.0\n",
       "1         2   Amy   12000                5 2010-05-01   NaN\n",
       "2         3  Mark   65000               12 2008-12-25   NaN\n",
       "3         4   Pam   25000               25 2005-01-01   1.0\n",
       "4         5  Alex    5000               10 2007-02-03   NaN"
      ]
     },
     "execution_count": 19,
     "metadata": {},
     "output_type": "execute_result"
    }
   ],
   "source": [
    "df"
   ]
  },
  {
   "cell_type": "code",
   "execution_count": 20,
   "id": "62f5643f",
   "metadata": {},
   "outputs": [
    {
     "name": "stdout",
     "output_type": "stream",
     "text": [
      "   name\n",
      "1   Amy\n",
      "2  Mark\n",
      "4  Alex\n"
     ]
    }
   ],
   "source": [
    "print( df[(df.flag.isna())][['name']])"
   ]
  },
  {
   "cell_type": "code",
   "execution_count": 21,
   "id": "b2c85b01",
   "metadata": {},
   "outputs": [
    {
     "name": "stdout",
     "output_type": "stream",
     "text": [
      "   name\n",
      "0  John\n",
      "1   Amy\n",
      "2  Mark\n",
      "3   Pam\n",
      "4  Alex\n"
     ]
    }
   ],
   "source": [
    "        print(sales_person[['name']])"
   ]
  },
  {
   "cell_type": "code",
   "execution_count": 9,
   "id": "78d5782e",
   "metadata": {},
   "outputs": [
    {
     "name": "stdout",
     "output_type": "stream",
     "text": [
      "[ 3  7  9 11]\n"
     ]
    }
   ],
   "source": [
    "import numpy as np\n",
    "\n",
    "arrayA=np.array([1,2,3,4])\n",
    "arrayB=np.array([2,5,6,7])\n",
    "\n",
    "print(arrayA+arrayB)"
   ]
  },
  {
   "cell_type": "code",
   "execution_count": 8,
   "id": "844a63db",
   "metadata": {},
   "outputs": [
    {
     "name": "stdout",
     "output_type": "stream",
     "text": [
      "[1, 2, 3, 4, 2, 5, 6, 7]\n"
     ]
    }
   ],
   "source": [
    "listA=[1,2,3,4]\n",
    "listB=[2,5,6,7]\n",
    "print(listA+listB)"
   ]
  },
  {
   "cell_type": "code",
   "execution_count": 10,
   "id": "1c444c3d",
   "metadata": {},
   "outputs": [],
   "source": [
    "import pandas as pd \n",
    "data = [[1, 'John', 100000, 6, '4/1/2006'], [2, 'Amy', 12000, 5, '5/1/2010'], [3, 'Mark', 65000, 12, '12/25/2008'], [4, 'Pam', 25000, 25, '1/1/2005'], [5, 'Alex', 5000, 10, '2/3/2007']]\n",
    "sales_person = pd.DataFrame(data, columns=['sales_id', 'name', 'salary', 'commission_rate', 'hire_date']).astype({'sales_id':'Int64', 'name':'object', 'salary':'Int64', 'commission_rate':'Int64', 'hire_date':'datetime64[ns]'})"
   ]
  },
  {
   "cell_type": "code",
   "execution_count": 16,
   "id": "bc2848c1",
   "metadata": {},
   "outputs": [
    {
     "data": {
      "text/html": [
       "<div>\n",
       "<style scoped>\n",
       "    .dataframe tbody tr th:only-of-type {\n",
       "        vertical-align: middle;\n",
       "    }\n",
       "\n",
       "    .dataframe tbody tr th {\n",
       "        vertical-align: top;\n",
       "    }\n",
       "\n",
       "    .dataframe thead th {\n",
       "        text-align: right;\n",
       "    }\n",
       "</style>\n",
       "<table border=\"1\" class=\"dataframe\">\n",
       "  <thead>\n",
       "    <tr style=\"text-align: right;\">\n",
       "      <th></th>\n",
       "      <th>sales_id</th>\n",
       "    </tr>\n",
       "  </thead>\n",
       "  <tbody>\n",
       "    <tr>\n",
       "      <th>0</th>\n",
       "      <td>1</td>\n",
       "    </tr>\n",
       "    <tr>\n",
       "      <th>1</th>\n",
       "      <td>2</td>\n",
       "    </tr>\n",
       "    <tr>\n",
       "      <th>2</th>\n",
       "      <td>3</td>\n",
       "    </tr>\n",
       "  </tbody>\n",
       "</table>\n",
       "</div>"
      ],
      "text/plain": [
       "   sales_id\n",
       "0         1\n",
       "1         2\n",
       "2         3"
      ]
     },
     "execution_count": 16,
     "metadata": {},
     "output_type": "execute_result"
    }
   ],
   "source": [
    "sales_person.loc[0:2,[\"sales_id\"]]"
   ]
  },
  {
   "cell_type": "markdown",
   "id": "ceb71ee9",
   "metadata": {},
   "source": [
    "## code"
   ]
  },
  {
   "cell_type": "code",
   "execution_count": 18,
   "id": "e8de2d67",
   "metadata": {},
   "outputs": [],
   "source": [
    "data=pd.read_csv(\"heartcsv.csv\")"
   ]
  },
  {
   "cell_type": "code",
   "execution_count": 19,
   "id": "4a42533c",
   "metadata": {},
   "outputs": [
    {
     "data": {
      "text/html": [
       "<div>\n",
       "<style scoped>\n",
       "    .dataframe tbody tr th:only-of-type {\n",
       "        vertical-align: middle;\n",
       "    }\n",
       "\n",
       "    .dataframe tbody tr th {\n",
       "        vertical-align: top;\n",
       "    }\n",
       "\n",
       "    .dataframe thead th {\n",
       "        text-align: right;\n",
       "    }\n",
       "</style>\n",
       "<table border=\"1\" class=\"dataframe\">\n",
       "  <thead>\n",
       "    <tr style=\"text-align: right;\">\n",
       "      <th></th>\n",
       "      <th>age</th>\n",
       "      <th>gender</th>\n",
       "      <th>cp</th>\n",
       "      <th>trestbps</th>\n",
       "      <th>chol</th>\n",
       "      <th>fbs</th>\n",
       "      <th>restecg</th>\n",
       "      <th>thalach</th>\n",
       "      <th>exang</th>\n",
       "      <th>oldpeak</th>\n",
       "      <th>slope</th>\n",
       "      <th>ca</th>\n",
       "      <th>thal</th>\n",
       "      <th>target</th>\n",
       "    </tr>\n",
       "  </thead>\n",
       "  <tbody>\n",
       "    <tr>\n",
       "      <th>0</th>\n",
       "      <td>63</td>\n",
       "      <td>1</td>\n",
       "      <td>3</td>\n",
       "      <td>145</td>\n",
       "      <td>233</td>\n",
       "      <td>1</td>\n",
       "      <td>0</td>\n",
       "      <td>150</td>\n",
       "      <td>0</td>\n",
       "      <td>2.3</td>\n",
       "      <td>0</td>\n",
       "      <td>0</td>\n",
       "      <td>1</td>\n",
       "      <td>1</td>\n",
       "    </tr>\n",
       "    <tr>\n",
       "      <th>1</th>\n",
       "      <td>37</td>\n",
       "      <td>1</td>\n",
       "      <td>2</td>\n",
       "      <td>130</td>\n",
       "      <td>250</td>\n",
       "      <td>0</td>\n",
       "      <td>1</td>\n",
       "      <td>187</td>\n",
       "      <td>0</td>\n",
       "      <td>3.5</td>\n",
       "      <td>0</td>\n",
       "      <td>0</td>\n",
       "      <td>2</td>\n",
       "      <td>1</td>\n",
       "    </tr>\n",
       "    <tr>\n",
       "      <th>2</th>\n",
       "      <td>41</td>\n",
       "      <td>0</td>\n",
       "      <td>1</td>\n",
       "      <td>130</td>\n",
       "      <td>204</td>\n",
       "      <td>0</td>\n",
       "      <td>0</td>\n",
       "      <td>172</td>\n",
       "      <td>0</td>\n",
       "      <td>1.4</td>\n",
       "      <td>2</td>\n",
       "      <td>0</td>\n",
       "      <td>2</td>\n",
       "      <td>1</td>\n",
       "    </tr>\n",
       "    <tr>\n",
       "      <th>3</th>\n",
       "      <td>56</td>\n",
       "      <td>1</td>\n",
       "      <td>1</td>\n",
       "      <td>120</td>\n",
       "      <td>236</td>\n",
       "      <td>0</td>\n",
       "      <td>1</td>\n",
       "      <td>178</td>\n",
       "      <td>0</td>\n",
       "      <td>0.8</td>\n",
       "      <td>2</td>\n",
       "      <td>0</td>\n",
       "      <td>2</td>\n",
       "      <td>1</td>\n",
       "    </tr>\n",
       "    <tr>\n",
       "      <th>4</th>\n",
       "      <td>57</td>\n",
       "      <td>0</td>\n",
       "      <td>0</td>\n",
       "      <td>120</td>\n",
       "      <td>354</td>\n",
       "      <td>0</td>\n",
       "      <td>1</td>\n",
       "      <td>163</td>\n",
       "      <td>1</td>\n",
       "      <td>0.6</td>\n",
       "      <td>2</td>\n",
       "      <td>0</td>\n",
       "      <td>2</td>\n",
       "      <td>1</td>\n",
       "    </tr>\n",
       "    <tr>\n",
       "      <th>...</th>\n",
       "      <td>...</td>\n",
       "      <td>...</td>\n",
       "      <td>...</td>\n",
       "      <td>...</td>\n",
       "      <td>...</td>\n",
       "      <td>...</td>\n",
       "      <td>...</td>\n",
       "      <td>...</td>\n",
       "      <td>...</td>\n",
       "      <td>...</td>\n",
       "      <td>...</td>\n",
       "      <td>...</td>\n",
       "      <td>...</td>\n",
       "      <td>...</td>\n",
       "    </tr>\n",
       "    <tr>\n",
       "      <th>298</th>\n",
       "      <td>57</td>\n",
       "      <td>0</td>\n",
       "      <td>0</td>\n",
       "      <td>140</td>\n",
       "      <td>241</td>\n",
       "      <td>0</td>\n",
       "      <td>1</td>\n",
       "      <td>123</td>\n",
       "      <td>1</td>\n",
       "      <td>0.2</td>\n",
       "      <td>1</td>\n",
       "      <td>0</td>\n",
       "      <td>3</td>\n",
       "      <td>0</td>\n",
       "    </tr>\n",
       "    <tr>\n",
       "      <th>299</th>\n",
       "      <td>45</td>\n",
       "      <td>1</td>\n",
       "      <td>3</td>\n",
       "      <td>110</td>\n",
       "      <td>264</td>\n",
       "      <td>0</td>\n",
       "      <td>1</td>\n",
       "      <td>132</td>\n",
       "      <td>0</td>\n",
       "      <td>1.2</td>\n",
       "      <td>1</td>\n",
       "      <td>0</td>\n",
       "      <td>3</td>\n",
       "      <td>0</td>\n",
       "    </tr>\n",
       "    <tr>\n",
       "      <th>300</th>\n",
       "      <td>68</td>\n",
       "      <td>1</td>\n",
       "      <td>0</td>\n",
       "      <td>144</td>\n",
       "      <td>193</td>\n",
       "      <td>1</td>\n",
       "      <td>1</td>\n",
       "      <td>141</td>\n",
       "      <td>0</td>\n",
       "      <td>3.4</td>\n",
       "      <td>1</td>\n",
       "      <td>2</td>\n",
       "      <td>3</td>\n",
       "      <td>0</td>\n",
       "    </tr>\n",
       "    <tr>\n",
       "      <th>301</th>\n",
       "      <td>57</td>\n",
       "      <td>1</td>\n",
       "      <td>0</td>\n",
       "      <td>130</td>\n",
       "      <td>131</td>\n",
       "      <td>0</td>\n",
       "      <td>1</td>\n",
       "      <td>115</td>\n",
       "      <td>1</td>\n",
       "      <td>1.2</td>\n",
       "      <td>1</td>\n",
       "      <td>1</td>\n",
       "      <td>3</td>\n",
       "      <td>0</td>\n",
       "    </tr>\n",
       "    <tr>\n",
       "      <th>302</th>\n",
       "      <td>57</td>\n",
       "      <td>0</td>\n",
       "      <td>1</td>\n",
       "      <td>130</td>\n",
       "      <td>236</td>\n",
       "      <td>0</td>\n",
       "      <td>0</td>\n",
       "      <td>174</td>\n",
       "      <td>0</td>\n",
       "      <td>0.0</td>\n",
       "      <td>1</td>\n",
       "      <td>1</td>\n",
       "      <td>2</td>\n",
       "      <td>0</td>\n",
       "    </tr>\n",
       "  </tbody>\n",
       "</table>\n",
       "<p>303 rows × 14 columns</p>\n",
       "</div>"
      ],
      "text/plain": [
       "     age  gender  cp  trestbps  chol  fbs  restecg  thalach  exang  oldpeak  \\\n",
       "0     63       1   3       145   233    1        0      150      0      2.3   \n",
       "1     37       1   2       130   250    0        1      187      0      3.5   \n",
       "2     41       0   1       130   204    0        0      172      0      1.4   \n",
       "3     56       1   1       120   236    0        1      178      0      0.8   \n",
       "4     57       0   0       120   354    0        1      163      1      0.6   \n",
       "..   ...     ...  ..       ...   ...  ...      ...      ...    ...      ...   \n",
       "298   57       0   0       140   241    0        1      123      1      0.2   \n",
       "299   45       1   3       110   264    0        1      132      0      1.2   \n",
       "300   68       1   0       144   193    1        1      141      0      3.4   \n",
       "301   57       1   0       130   131    0        1      115      1      1.2   \n",
       "302   57       0   1       130   236    0        0      174      0      0.0   \n",
       "\n",
       "     slope  ca  thal  target  \n",
       "0        0   0     1       1  \n",
       "1        0   0     2       1  \n",
       "2        2   0     2       1  \n",
       "3        2   0     2       1  \n",
       "4        2   0     2       1  \n",
       "..     ...  ..   ...     ...  \n",
       "298      1   0     3       0  \n",
       "299      1   0     3       0  \n",
       "300      1   2     3       0  \n",
       "301      1   1     3       0  \n",
       "302      1   1     2       0  \n",
       "\n",
       "[303 rows x 14 columns]"
      ]
     },
     "execution_count": 19,
     "metadata": {},
     "output_type": "execute_result"
    }
   ],
   "source": [
    "data"
   ]
  },
  {
   "cell_type": "code",
   "execution_count": 21,
   "id": "59613df1",
   "metadata": {},
   "outputs": [
    {
     "data": {
      "text/plain": [
       "<Axes: xlabel='age'>"
      ]
     },
     "execution_count": 21,
     "metadata": {},
     "output_type": "execute_result"
    },
    {
     "data": {
      "image/png": "[encoded data removed]",
      "text/plain": [
       "<Figure size 640x480 with 1 Axes>"
      ]
     },
     "metadata": {},
     "output_type": "display_data"
    }
   ],
   "source": [
    "data.age.value_counts().plot(kind=\"bar\")"
   ]
  },
  {
   "cell_type": "code",
   "execution_count": 6,
   "id": "26653869",
   "metadata": {},
   "outputs": [
    {
     "data": {
      "text/plain": [
       "numpy.int8"
      ]
     },
     "execution_count": 6,
     "metadata": {},
     "output_type": "execute_result"
    }
   ],
   "source": [
    "import numpy as np\n",
    "n=np.array([1],dtype=np.int8)\n",
    "type(n[0])"
   ]
  },
  {
   "cell_type": "code",
   "execution_count": 102,
   "id": "b0f86683",
   "metadata": {},
   "outputs": [
    {
     "data": {
      "text/plain": [
       "array([[ 1,  2,  3,  4,  5,  6],\n",
       "       [ 6,  7,  8,  9, 10, 11]])"
      ]
     },
     "execution_count": 102,
     "metadata": {},
     "output_type": "execute_result"
    }
   ],
   "source": [
    "new=np.array((np.arange(1,7),np.arange(6,12)))\n",
    "new"
   ]
  },
  {
   "cell_type": "code",
   "execution_count": 103,
   "id": "a04afb4f",
   "metadata": {},
   "outputs": [],
   "source": [
    "k=new.reshape((4,3))"
   ]
  },
  {
   "cell_type": "code",
   "execution_count": 104,
   "id": "8e5a8f41",
   "metadata": {},
   "outputs": [
    {
     "data": {
      "text/plain": [
       "array([[ 1,  2,  3],\n",
       "       [ 4,  5,  6],\n",
       "       [ 6,  7,  8],\n",
       "       [ 9, 10, 11]])"
      ]
     },
     "execution_count": 104,
     "metadata": {},
     "output_type": "execute_result"
    }
   ],
   "source": [
    "k"
   ]
  },
  {
   "cell_type": "code",
   "execution_count": 110,
   "id": "ea09354d",
   "metadata": {},
   "outputs": [],
   "source": [
    "k[0:2,-1]=1"
   ]
  },
  {
   "cell_type": "code",
   "execution_count": 111,
   "id": "bd617d8c",
   "metadata": {},
   "outputs": [
    {
     "data": {
      "text/plain": [
       "array([[ 1,  2,  1],\n",
       "       [ 4,  5,  1],\n",
       "       [ 6,  7,  8],\n",
       "       [ 9, 10, 11]])"
      ]
     },
     "execution_count": 111,
     "metadata": {},
     "output_type": "execute_result"
    }
   ],
   "source": [
    "k"
   ]
  },
  {
   "cell_type": "code",
   "execution_count": 116,
   "id": "6eeda45d",
   "metadata": {},
   "outputs": [
    {
     "data": {
      "text/plain": [
       "array([[ 1,  1,  2],\n",
       "       [ 1,  4,  5],\n",
       "       [ 6,  7,  8],\n",
       "       [ 9, 10, 11]])"
      ]
     },
     "execution_count": 116,
     "metadata": {},
     "output_type": "execute_result"
    }
   ],
   "source": [
    "m=np.sort(k,axis=-1)\n",
    "m"
   ]
  },
  {
   "cell_type": "code",
   "execution_count": 117,
   "id": "d3c21d2c",
   "metadata": {},
   "outputs": [
    {
     "data": {
      "text/plain": [
       "array([[ 1,  1,  2],\n",
       "       [ 1,  4,  5],\n",
       "       [ 6,  7,  8],\n",
       "       [ 9, 10, 11]])"
      ]
     },
     "execution_count": 117,
     "metadata": {},
     "output_type": "execute_result"
    }
   ],
   "source": [
    "np.sort(m,axis=0)"
   ]
  },
  {
   "cell_type": "code",
   "execution_count": 37,
   "id": "13214cd2",
   "metadata": {},
   "outputs": [],
   "source": [
    "k=np.zeros((10,3))"
   ]
  },
  {
   "cell_type": "code",
   "execution_count": 40,
   "id": "0445a0d7",
   "metadata": {},
   "outputs": [
    {
     "data": {
      "text/plain": [
       "array([[1., 1., 1.],\n",
       "       [1., 1., 1.],\n",
       "       [1., 1., 1.],\n",
       "       [1., 1., 1.],\n",
       "       [1., 1., 1.],\n",
       "       [1., 1., 1.],\n",
       "       [1., 1., 1.],\n",
       "       [1., 1., 1.],\n",
       "       [1., 1., 1.],\n",
       "       [1., 1., 1.]])"
      ]
     },
     "execution_count": 40,
     "metadata": {},
     "output_type": "execute_result"
    }
   ],
   "source": [
    "k=np.ones((10,3))\n",
    "k"
   ]
  },
  {
   "cell_type": "code",
   "execution_count": 48,
   "id": "57bb9ae1",
   "metadata": {},
   "outputs": [
    {
     "data": {
      "text/plain": [
       "array([[ 0.00000000e+000,  0.00000000e+000,  0.00000000e+000,\n",
       "         0.00000000e+000,  0.00000000e+000,  0.00000000e+000,\n",
       "         0.00000000e+000, -1.73843868e-310,  0.00000000e+000],\n",
       "       [ 0.00000000e+000,  0.00000000e+000,  0.00000000e+000,\n",
       "         0.00000000e+000,  0.00000000e+000,  0.00000000e+000,\n",
       "         0.00000000e+000,  0.00000000e+000,  0.00000000e+000],\n",
       "       [ 0.00000000e+000,  0.00000000e+000,  0.00000000e+000,\n",
       "         0.00000000e+000,  0.00000000e+000,  0.00000000e+000,\n",
       "         0.00000000e+000,  0.00000000e+000,  0.00000000e+000],\n",
       "       [ 0.00000000e+000,  0.00000000e+000,  0.00000000e+000,\n",
       "         0.00000000e+000, -1.79276174e-310,  4.67296746e-307,\n",
       "         1.69121096e-306,  1.29061074e-306,  7.56587585e-307]])"
      ]
     },
     "execution_count": 48,
     "metadata": {},
     "output_type": "execute_result"
    }
   ],
   "source": [
    "l=np.empty((4,9))\n",
    "l"
   ]
  },
  {
   "cell_type": "code",
   "execution_count": 118,
   "id": "b4643d62",
   "metadata": {},
   "outputs": [
    {
     "data": {
      "text/plain": [
       "array([[ 1,  2,  1],\n",
       "       [ 4,  5,  1],\n",
       "       [ 6,  7,  8],\n",
       "       [ 9, 10, 11]])"
      ]
     },
     "execution_count": 118,
     "metadata": {},
     "output_type": "execute_result"
    }
   ],
   "source": [
    "k"
   ]
  },
  {
   "cell_type": "code",
   "execution_count": 124,
   "id": "ceb9ab1b",
   "metadata": {},
   "outputs": [],
   "source": [
    "copy1=k.view()"
   ]
  },
  {
   "cell_type": "code",
   "execution_count": 125,
   "id": "7875926e",
   "metadata": {},
   "outputs": [
    {
     "data": {
      "text/plain": [
       "array([[89, 89, 89],\n",
       "       [ 4,  5,  1],\n",
       "       [ 6,  7,  8],\n",
       "       [ 9, 10, 11]])"
      ]
     },
     "execution_count": 125,
     "metadata": {},
     "output_type": "execute_result"
    }
   ],
   "source": [
    "copy1[0]=89\n",
    "copy1"
   ]
  },
  {
   "cell_type": "code",
   "execution_count": 126,
   "id": "6d0745a3",
   "metadata": {},
   "outputs": [
    {
     "data": {
      "text/plain": [
       "array([[89, 89, 89],\n",
       "       [ 4,  5,  1],\n",
       "       [ 6,  7,  8],\n",
       "       [ 9, 10, 11]])"
      ]
     },
     "execution_count": 126,
     "metadata": {},
     "output_type": "execute_result"
    }
   ],
   "source": [
    "k"
   ]
  },
  {
   "cell_type": "code",
   "execution_count": 1,
   "id": "7194d719",
   "metadata": {},
   "outputs": [],
   "source": [
    "import pandas as pd\n",
    "data = [[1, 100], [2, 200], [3, 300]]\n",
    "employee = pd.DataFrame(data, columns=['Id', 'Salary']).astype({'Id':'Int64', 'Salary':'Int64'})"
   ]
  },
  {
   "cell_type": "code",
   "execution_count": 150,
   "id": "893af409",
   "metadata": {},
   "outputs": [
    {
     "data": {
      "text/html": [
       "<div>\n",
       "<style scoped>\n",
       "    .dataframe tbody tr th:only-of-type {\n",
       "        vertical-align: middle;\n",
       "    }\n",
       "\n",
       "    .dataframe tbody tr th {\n",
       "        vertical-align: top;\n",
       "    }\n",
       "\n",
       "    .dataframe thead th {\n",
       "        text-align: right;\n",
       "    }\n",
       "</style>\n",
       "<table border=\"1\" class=\"dataframe\">\n",
       "  <thead>\n",
       "    <tr style=\"text-align: right;\">\n",
       "      <th></th>\n",
       "      <th>Id</th>\n",
       "      <th>Salary</th>\n",
       "    </tr>\n",
       "  </thead>\n",
       "  <tbody>\n",
       "    <tr>\n",
       "      <th>0</th>\n",
       "      <td>1</td>\n",
       "      <td>100</td>\n",
       "    </tr>\n",
       "    <tr>\n",
       "      <th>1</th>\n",
       "      <td>2</td>\n",
       "      <td>200</td>\n",
       "    </tr>\n",
       "    <tr>\n",
       "      <th>2</th>\n",
       "      <td>3</td>\n",
       "      <td>300</td>\n",
       "    </tr>\n",
       "  </tbody>\n",
       "</table>\n",
       "</div>"
      ],
      "text/plain": [
       "   Id  Salary\n",
       "0   1     100\n",
       "1   2     200\n",
       "2   3     300"
      ]
     },
     "execution_count": 150,
     "metadata": {},
     "output_type": "execute_result"
    }
   ],
   "source": [
    "employee"
   ]
  },
  {
   "cell_type": "code",
   "execution_count": null,
   "id": "01a18c87",
   "metadata": {},
   "outputs": [],
   "source": []
  },
  {
   "cell_type": "code",
   "execution_count": 151,
   "id": "676672dc",
   "metadata": {},
   "outputs": [],
   "source": [
    "new=employee['Salary'].drop_duplicates()"
   ]
  },
  {
   "cell_type": "code",
   "execution_count": 152,
   "id": "e25f2f7e",
   "metadata": {},
   "outputs": [
    {
     "data": {
      "text/plain": [
       "2    300\n",
       "1    200\n",
       "0    100\n",
       "Name: Salary, dtype: Int64"
      ]
     },
     "execution_count": 152,
     "metadata": {},
     "output_type": "execute_result"
    }
   ],
   "source": [
    "new1=new.sort_values(ascending=False)\n",
    "new1"
   ]
  },
  {
   "cell_type": "code",
   "execution_count": 156,
   "id": "df35a404",
   "metadata": {},
   "outputs": [
    {
     "name": "stdout",
     "output_type": "stream",
     "text": [
      "200\n"
     ]
    }
   ],
   "source": [
    "n=2\n",
    "if n>len(new1):\n",
    "    print(\"null\")\n",
    "k=new1.iloc[n-1]\n",
    "print(k)"
   ]
  },
  {
   "cell_type": "code",
   "execution_count": 13,
   "id": "2b0806e2",
   "metadata": {},
   "outputs": [],
   "source": [
    "\n",
    "import pandas as pd\n",
    "data = [[1, 100], [2, 200], [3, 300]]\n",
    "employee = pd.DataFrame(data, columns=['Id', 'Salary']).astype({'Id':'Int64', 'Salary':'Int64'})"
   ]
  },
  {
   "cell_type": "code",
   "execution_count": 14,
   "id": "b829d427",
   "metadata": {},
   "outputs": [],
   "source": [
    "step1=employee[\"Salary\"].drop_duplicates()"
   ]
  },
  {
   "cell_type": "code",
   "execution_count": 15,
   "id": "5c616738",
   "metadata": {},
   "outputs": [
    {
     "data": {
      "text/plain": [
       "0    100\n",
       "1    200\n",
       "2    300\n",
       "Name: Salary, dtype: Int64"
      ]
     },
     "execution_count": 15,
     "metadata": {},
     "output_type": "execute_result"
    }
   ],
   "source": [
    "step1"
   ]
  },
  {
   "cell_type": "code",
   "execution_count": 16,
   "id": "ddba8a48",
   "metadata": {},
   "outputs": [],
   "source": [
    "step2=step1.sort_values(ascending=False)"
   ]
  },
  {
   "cell_type": "code",
   "execution_count": 17,
   "id": "cfd2211a",
   "metadata": {},
   "outputs": [],
   "source": [
    "if len(step2)<=1:\n",
    "    data=pd.DataFrame({\"SecondHighestSalary\":None})\n",
    "    \n",
    "data=pd.DataFrame({\"SecondHighestSalary\":[step2.iloc[1]]})"
   ]
  },
  {
   "cell_type": "code",
   "execution_count": 18,
   "id": "61a56c10",
   "metadata": {},
   "outputs": [
    {
     "data": {
      "text/html": [
       "<div>\n",
       "<style scoped>\n",
       "    .dataframe tbody tr th:only-of-type {\n",
       "        vertical-align: middle;\n",
       "    }\n",
       "\n",
       "    .dataframe tbody tr th {\n",
       "        vertical-align: top;\n",
       "    }\n",
       "\n",
       "    .dataframe thead th {\n",
       "        text-align: right;\n",
       "    }\n",
       "</style>\n",
       "<table border=\"1\" class=\"dataframe\">\n",
       "  <thead>\n",
       "    <tr style=\"text-align: right;\">\n",
       "      <th></th>\n",
       "      <th>SecondHighestSalary</th>\n",
       "    </tr>\n",
       "  </thead>\n",
       "  <tbody>\n",
       "    <tr>\n",
       "      <th>0</th>\n",
       "      <td>200</td>\n",
       "    </tr>\n",
       "  </tbody>\n",
       "</table>\n",
       "</div>"
      ],
      "text/plain": [
       "   SecondHighestSalary\n",
       "0                  200"
      ]
     },
     "execution_count": 18,
     "metadata": {},
     "output_type": "execute_result"
    }
   ],
   "source": [
    "data"
   ]
  },
  {
   "cell_type": "code",
   "execution_count": 31,
   "id": "f5529bcc",
   "metadata": {},
   "outputs": [],
   "source": [
    "data = [[1, 'Joe', 70000, 1], [2, 'Jim', 90000, 1], [3, 'Henry', 80000, 2], [4, 'Sam', 60000, 2], [5, 'Max', 90000, 1]]\n",
    "employee = pd.DataFrame(data, columns=['id', 'name', 'salary', 'departmentId']).astype({'id':'Int64', 'name':'object', 'salary':'Int64', 'departmentId':'Int64'})\n",
    "data = [[1, 'IT'], [2, 'Sales']]\n",
    "department = pd.DataFrame(data, columns=['id', 'name']).astype({'id':'Int64', 'name':'object'})"
   ]
  },
  {
   "cell_type": "code",
   "execution_count": 61,
   "id": "deb0dddd",
   "metadata": {},
   "outputs": [
    {
     "data": {
      "text/html": [
       "<div>\n",
       "<style scoped>\n",
       "    .dataframe tbody tr th:only-of-type {\n",
       "        vertical-align: middle;\n",
       "    }\n",
       "\n",
       "    .dataframe tbody tr th {\n",
       "        vertical-align: top;\n",
       "    }\n",
       "\n",
       "    .dataframe thead th {\n",
       "        text-align: right;\n",
       "    }\n",
       "</style>\n",
       "<table border=\"1\" class=\"dataframe\">\n",
       "  <thead>\n",
       "    <tr style=\"text-align: right;\">\n",
       "      <th></th>\n",
       "      <th>id</th>\n",
       "      <th>name</th>\n",
       "      <th>salary</th>\n",
       "      <th>departmentId</th>\n",
       "    </tr>\n",
       "  </thead>\n",
       "  <tbody>\n",
       "    <tr>\n",
       "      <th>0</th>\n",
       "      <td>1</td>\n",
       "      <td>Joe</td>\n",
       "      <td>70000</td>\n",
       "      <td>1</td>\n",
       "    </tr>\n",
       "    <tr>\n",
       "      <th>1</th>\n",
       "      <td>2</td>\n",
       "      <td>Jim</td>\n",
       "      <td>90000</td>\n",
       "      <td>1</td>\n",
       "    </tr>\n",
       "    <tr>\n",
       "      <th>2</th>\n",
       "      <td>3</td>\n",
       "      <td>Henry</td>\n",
       "      <td>80000</td>\n",
       "      <td>2</td>\n",
       "    </tr>\n",
       "    <tr>\n",
       "      <th>3</th>\n",
       "      <td>4</td>\n",
       "      <td>Sam</td>\n",
       "      <td>60000</td>\n",
       "      <td>2</td>\n",
       "    </tr>\n",
       "    <tr>\n",
       "      <th>4</th>\n",
       "      <td>5</td>\n",
       "      <td>Max</td>\n",
       "      <td>90000</td>\n",
       "      <td>1</td>\n",
       "    </tr>\n",
       "  </tbody>\n",
       "</table>\n",
       "</div>"
      ],
      "text/plain": [
       "   id   name  salary  departmentId\n",
       "0   1    Joe   70000             1\n",
       "1   2    Jim   90000             1\n",
       "2   3  Henry   80000             2\n",
       "3   4    Sam   60000             2\n",
       "4   5    Max   90000             1"
      ]
     },
     "execution_count": 61,
     "metadata": {},
     "output_type": "execute_result"
    }
   ],
   "source": [
    "employee"
   ]
  },
  {
   "cell_type": "code",
   "execution_count": 62,
   "id": "143da5f2",
   "metadata": {},
   "outputs": [
    {
     "data": {
      "text/html": [
       "<div>\n",
       "<style scoped>\n",
       "    .dataframe tbody tr th:only-of-type {\n",
       "        vertical-align: middle;\n",
       "    }\n",
       "\n",
       "    .dataframe tbody tr th {\n",
       "        vertical-align: top;\n",
       "    }\n",
       "\n",
       "    .dataframe thead th {\n",
       "        text-align: right;\n",
       "    }\n",
       "</style>\n",
       "<table border=\"1\" class=\"dataframe\">\n",
       "  <thead>\n",
       "    <tr style=\"text-align: right;\">\n",
       "      <th></th>\n",
       "      <th>id</th>\n",
       "      <th>name</th>\n",
       "    </tr>\n",
       "  </thead>\n",
       "  <tbody>\n",
       "    <tr>\n",
       "      <th>0</th>\n",
       "      <td>1</td>\n",
       "      <td>IT</td>\n",
       "    </tr>\n",
       "    <tr>\n",
       "      <th>1</th>\n",
       "      <td>2</td>\n",
       "      <td>Sales</td>\n",
       "    </tr>\n",
       "  </tbody>\n",
       "</table>\n",
       "</div>"
      ],
      "text/plain": [
       "   id   name\n",
       "0   1     IT\n",
       "1   2  Sales"
      ]
     },
     "execution_count": 62,
     "metadata": {},
     "output_type": "execute_result"
    }
   ],
   "source": [
    "department"
   ]
  },
  {
   "cell_type": "code",
   "execution_count": null,
   "id": "0b728b36",
   "metadata": {},
   "outputs": [],
   "source": [
    "data=pd.merge"
   ]
  },
  {
   "cell_type": "code",
   "execution_count": 34,
   "id": "805ebdbc",
   "metadata": {},
   "outputs": [],
   "source": [
    "data = [[1, 3.5], [2, 3.65], [3, 4.0], [4, 3.85], [5, 4.0], [6, 3.65]]\n",
    "scores = pd.DataFrame(data, columns=['id', 'score']).astype({'id':'Int64', 'score':'Float64'})"
   ]
  },
  {
   "cell_type": "code",
   "execution_count": 37,
   "id": "9bd4cd7d",
   "metadata": {},
   "outputs": [
    {
     "data": {
      "text/html": [
       "<div>\n",
       "<style scoped>\n",
       "    .dataframe tbody tr th:only-of-type {\n",
       "        vertical-align: middle;\n",
       "    }\n",
       "\n",
       "    .dataframe tbody tr th {\n",
       "        vertical-align: top;\n",
       "    }\n",
       "\n",
       "    .dataframe thead th {\n",
       "        text-align: right;\n",
       "    }\n",
       "</style>\n",
       "<table border=\"1\" class=\"dataframe\">\n",
       "  <thead>\n",
       "    <tr style=\"text-align: right;\">\n",
       "      <th></th>\n",
       "      <th>id</th>\n",
       "      <th>score</th>\n",
       "      <th>rank</th>\n",
       "    </tr>\n",
       "  </thead>\n",
       "  <tbody>\n",
       "    <tr>\n",
       "      <th>0</th>\n",
       "      <td>1</td>\n",
       "      <td>3.5</td>\n",
       "      <td>4.0</td>\n",
       "    </tr>\n",
       "    <tr>\n",
       "      <th>1</th>\n",
       "      <td>2</td>\n",
       "      <td>3.65</td>\n",
       "      <td>3.0</td>\n",
       "    </tr>\n",
       "    <tr>\n",
       "      <th>2</th>\n",
       "      <td>3</td>\n",
       "      <td>4.0</td>\n",
       "      <td>1.0</td>\n",
       "    </tr>\n",
       "    <tr>\n",
       "      <th>3</th>\n",
       "      <td>4</td>\n",
       "      <td>3.85</td>\n",
       "      <td>2.0</td>\n",
       "    </tr>\n",
       "    <tr>\n",
       "      <th>4</th>\n",
       "      <td>5</td>\n",
       "      <td>4.0</td>\n",
       "      <td>1.0</td>\n",
       "    </tr>\n",
       "    <tr>\n",
       "      <th>5</th>\n",
       "      <td>6</td>\n",
       "      <td>3.65</td>\n",
       "      <td>3.0</td>\n",
       "    </tr>\n",
       "  </tbody>\n",
       "</table>\n",
       "</div>"
      ],
      "text/plain": [
       "   id  score  rank\n",
       "0   1    3.5   4.0\n",
       "1   2   3.65   3.0\n",
       "2   3    4.0   1.0\n",
       "3   4   3.85   2.0\n",
       "4   5    4.0   1.0\n",
       "5   6   3.65   3.0"
      ]
     },
     "execution_count": 37,
     "metadata": {},
     "output_type": "execute_result"
    }
   ],
   "source": [
    "scores"
   ]
  },
  {
   "cell_type": "code",
   "execution_count": 58,
   "id": "cf4f8179",
   "metadata": {},
   "outputs": [],
   "source": [
    "scores['rank'] = scores['score'].rank(method='dense', ascending=False)"
   ]
  },
  {
   "cell_type": "code",
   "execution_count": 59,
   "id": "31bee684",
   "metadata": {},
   "outputs": [],
   "source": [
    "scores1=scores.drop(\"id\",axis=1).sort_values(by=\"rank\",ascending=True)"
   ]
  },
  {
   "cell_type": "code",
   "execution_count": 60,
   "id": "dcd1279e",
   "metadata": {},
   "outputs": [
    {
     "data": {
      "text/html": [
       "<div>\n",
       "<style scoped>\n",
       "    .dataframe tbody tr th:only-of-type {\n",
       "        vertical-align: middle;\n",
       "    }\n",
       "\n",
       "    .dataframe tbody tr th {\n",
       "        vertical-align: top;\n",
       "    }\n",
       "\n",
       "    .dataframe thead th {\n",
       "        text-align: right;\n",
       "    }\n",
       "</style>\n",
       "<table border=\"1\" class=\"dataframe\">\n",
       "  <thead>\n",
       "    <tr style=\"text-align: right;\">\n",
       "      <th></th>\n",
       "      <th>score</th>\n",
       "      <th>rank</th>\n",
       "    </tr>\n",
       "  </thead>\n",
       "  <tbody>\n",
       "    <tr>\n",
       "      <th>2</th>\n",
       "      <td>4.0</td>\n",
       "      <td>1.0</td>\n",
       "    </tr>\n",
       "    <tr>\n",
       "      <th>4</th>\n",
       "      <td>4.0</td>\n",
       "      <td>1.0</td>\n",
       "    </tr>\n",
       "    <tr>\n",
       "      <th>3</th>\n",
       "      <td>3.85</td>\n",
       "      <td>2.0</td>\n",
       "    </tr>\n",
       "    <tr>\n",
       "      <th>1</th>\n",
       "      <td>3.65</td>\n",
       "      <td>3.0</td>\n",
       "    </tr>\n",
       "    <tr>\n",
       "      <th>5</th>\n",
       "      <td>3.65</td>\n",
       "      <td>3.0</td>\n",
       "    </tr>\n",
       "    <tr>\n",
       "      <th>0</th>\n",
       "      <td>3.5</td>\n",
       "      <td>4.0</td>\n",
       "    </tr>\n",
       "  </tbody>\n",
       "</table>\n",
       "</div>"
      ],
      "text/plain": [
       "   score  rank\n",
       "2    4.0   1.0\n",
       "4    4.0   1.0\n",
       "3   3.85   2.0\n",
       "1   3.65   3.0\n",
       "5   3.65   3.0\n",
       "0    3.5   4.0"
      ]
     },
     "execution_count": 60,
     "metadata": {},
     "output_type": "execute_result"
    }
   ],
   "source": [
    "scores1"
   ]
  },
  {
   "cell_type": "code",
   "execution_count": 1,
   "id": "28cf2a8c",
   "metadata": {},
   "outputs": [],
   "source": [
    "import numpy as np"
   ]
  },
  {
   "cell_type": "code",
   "execution_count": 3,
   "id": "148c33b5",
   "metadata": {},
   "outputs": [],
   "source": [
    "a=np.array([[[1,3,5],[5,6,7]],[[8,9,10],[11,12,13]]])"
   ]
  },
  {
   "cell_type": "code",
   "execution_count": 15,
   "id": "9eb88233",
   "metadata": {},
   "outputs": [
    {
     "data": {
      "text/plain": [
       "array([[ 5,  6,  7],\n",
       "       [11, 12, 13]])"
      ]
     },
     "execution_count": 15,
     "metadata": {},
     "output_type": "execute_result"
    }
   ],
   "source": [
    "a[0:,1]"
   ]
  },
  {
   "cell_type": "code",
   "execution_count": 11,
   "id": "d082f6b3",
   "metadata": {},
   "outputs": [],
   "source": [
    "a1=np.array([1,2,3,4])"
   ]
  },
  {
   "cell_type": "code",
   "execution_count": 12,
   "id": "fb7cf928",
   "metadata": {},
   "outputs": [
    {
     "data": {
      "text/plain": [
       "array([1, 3])"
      ]
     },
     "execution_count": 12,
     "metadata": {},
     "output_type": "execute_result"
    }
   ],
   "source": [
    "a1[::2]"
   ]
  },
  {
   "cell_type": "code",
   "execution_count": 28,
   "id": "f7d64f44",
   "metadata": {},
   "outputs": [],
   "source": [
    "a2=np.array([[1,2,3,4,5],[6,7,8,9,0]],[[10,19,18,7,6],[15,14,12,13,11]])"
   ]
  },
  {
   "cell_type": "code",
   "execution_count": 29,
   "id": "c0b82912",
   "metadata": {},
   "outputs": [
    {
     "data": {
      "text/plain": [
       "array([[19, 18],\n",
       "       [14, 12]])"
      ]
     },
     "execution_count": 29,
     "metadata": {},
     "output_type": "execute_result"
    }
   ],
   "source": [
    "a2[2:4,1:3]"
   ]
  },
  {
   "cell_type": "code",
   "execution_count": 1,
   "id": "a79eab12",
   "metadata": {},
   "outputs": [],
   "source": [
    "import numpy as np"
   ]
  },
  {
   "cell_type": "code",
   "execution_count": 14,
   "id": "b41e4cc9",
   "metadata": {},
   "outputs": [
    {
     "name": "stdout",
     "output_type": "stream",
     "text": [
      "[ 15 179]\n"
     ]
    }
   ],
   "source": [
    "x=np.array([5,90])\n",
    "y=np.array([10,89])\n",
    "print(x+y)"
   ]
  },
  {
   "cell_type": "code",
   "execution_count": 12,
   "id": "095aed15",
   "metadata": {},
   "outputs": [
    {
     "name": "stdout",
     "output_type": "stream",
     "text": [
      "[15]\n"
     ]
    }
   ],
   "source": [
    "print(np.add(x,y))"
   ]
  },
  {
   "cell_type": "code",
   "execution_count": 6,
   "id": "b6a6ed9a",
   "metadata": {},
   "outputs": [
    {
     "data": {
      "text/plain": [
       "array([[ 4,  6],\n",
       "       [18,  8],\n",
       "       [ 5, 42]])"
      ]
     },
     "execution_count": 6,
     "metadata": {},
     "output_type": "execute_result"
    }
   ],
   "source": [
    "import numpy as np\n",
    "x=np.array([[1,2],[3,4],[5,6]])\n",
    "y=np.array([[4,3],[6,2],[1,7]])\n",
    "z=(np.multiply(x,y))\n",
    "z"
   ]
  },
  {
   "cell_type": "markdown",
   "id": "5600d632",
   "metadata": {},
   "source": [
    "## code "
   ]
  },
  {
   "cell_type": "code",
   "execution_count": 47,
   "id": "0e356847",
   "metadata": {},
   "outputs": [],
   "source": [
    "k=np.zeros((3,3))\n",
    "n=np.array([2])"
   ]
  },
  {
   "cell_type": "code",
   "execution_count": 48,
   "id": "787d8599",
   "metadata": {},
   "outputs": [
    {
     "data": {
      "text/plain": [
       "array([[2., 2., 2.],\n",
       "       [2., 2., 2.],\n",
       "       [2., 2., 2.]])"
      ]
     },
     "execution_count": 48,
     "metadata": {},
     "output_type": "execute_result"
    }
   ],
   "source": [
    "k+n"
   ]
  },
  {
   "cell_type": "raw",
   "id": "2eabdd19",
   "metadata": {},
   "source": [
    "##### "
   ]
  },
  {
   "cell_type": "code",
   "execution_count": 6,
   "id": "3070eea5",
   "metadata": {},
   "outputs": [
    {
     "data": {
      "text/plain": [
       "array([[11, 11, 11, ..., 12, 12, 12],\n",
       "       [11, 11, 11, ..., 12, 12, 12],\n",
       "       [11, 11, 11, ..., 12, 12, 12],\n",
       "       ...,\n",
       "       [11, 11, 11, ..., 11, 11, 11],\n",
       "       [11, 11, 11, ..., 11, 11, 11],\n",
       "       [11, 11, 11, ..., 11, 11, 11]], dtype=uint8)"
      ]
     },
     "execution_count": 6,
     "metadata": {},
     "output_type": "execute_result"
    }
   ],
   "source": [
    "import cv2\n",
    "img=cv2.imread(\"7.jpg\")\n",
    "\n",
    "\n",
    "#gray = cv2.cvtColor(img, cv2.COLOR_BGR2GRAY)\n",
    "\n",
    "cv2.imshow('Image', img)\n"
   ]
  },
  {
   "cell_type": "code",
   "execution_count": 17,
   "id": "1f1d2f59",
   "metadata": {},
   "outputs": [
    {
     "name": "stdout",
     "output_type": "stream",
     "text": [
      "Threshold value: 200.0\n"
     ]
    }
   ],
   "source": [
    "import cv2\n",
    "\n",
    "# Read the image in grayscale\n",
    "img_gray = cv2.imread('7.jpg', cv2.IMREAD_GRAYSCALE)\n",
    "\n",
    "# Apply binary thresholding\n",
    "ret, thresh = cv2.threshold(img_gray, 200, 255, cv2.THRESH_BINARY)\n",
    "\n",
    "# Display the original grayscale image\n",
    "cv2.imshow('Grayscale Image', img_gray)\n",
    "\n",
    "# Display the thresholded image\n",
    "cv2.imshow('Thresholded Image', thresh)\n",
    "\n",
    "# Print the threshold value\n",
    "print(f'Threshold value: {ret}')\n",
    "\n",
    "# Wait until a key is pressed\n",
    "cv2.waitKey(0)\n",
    "\n",
    "# Destroy all windows\n",
    "cv2.destroyAllWindows()\n"
   ]
  },
  {
   "cell_type": "code",
   "execution_count": 17,
   "id": "a4c98a35",
   "metadata": {},
   "outputs": [],
   "source": [
    "def isSubsequence1(s,t):\n",
    "        c=0\n",
    "        if len(s)==0:\n",
    "            return False\n",
    "        for i in range(len(t)):\n",
    "            if s[c]==t[i]:\n",
    "                c+=1\n",
    "            if c==len(s):\n",
    "                return True\n",
    "        return False"
   ]
  },
  {
   "cell_type": "code",
   "execution_count": 18,
   "id": "601030a6",
   "metadata": {},
   "outputs": [
    {
     "data": {
      "text/plain": [
       "False"
      ]
     },
     "execution_count": 18,
     "metadata": {},
     "output_type": "execute_result"
    }
   ],
   "source": [
    "isSubsequence1(\"abc\",\"ahbgdc\")"
   ]
  },
  {
   "cell_type": "code",
   "execution_count": 15,
   "id": "e9ea8684",
   "metadata": {},
   "outputs": [],
   "source": [
    " def isSubsequence(s, t):\n",
    "        slow = 0\n",
    "        if len(s) == 0:\n",
    "            return True\n",
    "        for fast in range(len(t)):\n",
    "            if s[slow] == t[fast]:\n",
    "                slow += 1\n",
    "            if slow == len(s):\n",
    "                return True\n",
    "        return False"
   ]
  },
  {
   "cell_type": "code",
   "execution_count": 16,
   "id": "7e2b1c38",
   "metadata": {},
   "outputs": [
    {
     "data": {
      "text/plain": [
       "True"
      ]
     },
     "execution_count": 16,
     "metadata": {},
     "output_type": "execute_result"
    }
   ],
   "source": [
    "isSubsequence(\"abc\",\"ahbgdc\")"
   ]
  },
  {
   "cell_type": "code",
   "execution_count": 19,
   "id": "f498d620",
   "metadata": {},
   "outputs": [],
   "source": [
    "s=\"abc\"\n",
    "t=\"ahbgdc\""
   ]
  },
  {
   "cell_type": "code",
   "execution_count": 25,
   "id": "be955691",
   "metadata": {},
   "outputs": [],
   "source": [
    "from collections import Counter"
   ]
  },
  {
   "cell_type": "code",
   "execution_count": 26,
   "id": "4c07cd18",
   "metadata": {},
   "outputs": [],
   "source": [
    "k=Counter(s)\n",
    "l=Counter(t)"
   ]
  },
  {
   "cell_type": "code",
   "execution_count": 27,
   "id": "cd5f8065",
   "metadata": {},
   "outputs": [
    {
     "data": {
      "text/plain": [
       "Counter({'a': 1, 'b': 1, 'c': 1})"
      ]
     },
     "execution_count": 27,
     "metadata": {},
     "output_type": "execute_result"
    }
   ],
   "source": [
    "k"
   ]
  },
  {
   "cell_type": "code",
   "execution_count": 28,
   "id": "54520269",
   "metadata": {},
   "outputs": [
    {
     "data": {
      "text/plain": [
       "Counter({'a': 1, 'h': 1, 'b': 1, 'g': 1, 'd': 1, 'c': 1})"
      ]
     },
     "execution_count": 28,
     "metadata": {},
     "output_type": "execute_result"
    }
   ],
   "source": [
    "l"
   ]
  },
  {
   "cell_type": "code",
   "execution_count": 18,
   "id": "c4dcb11e",
   "metadata": {},
   "outputs": [
    {
     "name": "stdout",
     "output_type": "stream",
     "text": [
      "{'cat', 'dog'}\n"
     ]
    }
   ],
   "source": [
    "pattern = \"abba\"\n",
    "s = \"dog cat cat dog\"\n",
    "m=s.split()\n",
    "k={}\n",
    "#if len(m)==len(pattern):\n",
    "    #for i in range(len(m)):\n",
    "        #k[pattern[i]]=m[i]\n",
    "#print(k)\n",
    "print(set(m))\n",
    "\n",
    "print()"
   ]
  },
  {
   "cell_type": "code",
   "execution_count": 21,
   "id": "201dc759",
   "metadata": {},
   "outputs": [
    {
     "name": "stdout",
     "output_type": "stream",
     "text": [
      "<zip object at 0x000001E152422C40>\n"
     ]
    }
   ],
   "source": [
    "pattern = \"abba\"\n",
    "s = \"dog cat cat dog\"\n",
    "\n",
    "print(zip(pattern,s))"
   ]
  },
  {
   "cell_type": "code",
   "execution_count": 30,
   "id": "31b572ee",
   "metadata": {},
   "outputs": [
    {
     "name": "stdout",
     "output_type": "stream",
     "text": [
      "true\n"
     ]
    }
   ],
   "source": [
    "pattern = \"abba\"\n",
    "s = \"dog cat cat dog\"\n",
    "words = s.split()\n",
    "if len(words)==len(pattern):\n",
    "    if len(set(words))==len(set(pattern)):\n",
    "        paired = list(zip(pattern, words))\n",
    "        if len(set(pattern))==len(set(paired)):\n",
    "            print(\"true\")\n",
    "        else:\n",
    "            print(\"false\")\n",
    "    else:\n",
    "        print(\"false\")\n"
   ]
  },
  {
   "cell_type": "code",
   "execution_count": 13,
   "id": "aa5ccbde",
   "metadata": {},
   "outputs": [
    {
     "name": "stdout",
     "output_type": "stream",
     "text": [
      "true\n"
     ]
    }
   ],
   "source": [
    "s = \"egg\"\n",
    "t = \"add\"\n",
    "\n",
    "if len(set(zip(s,t)))==len(set(s))==len(set(t)):\n",
    "    print(\"true\")"
   ]
  },
  {
   "cell_type": "code",
   "execution_count": 14,
   "id": "445b53a6",
   "metadata": {},
   "outputs": [
    {
     "name": "stdout",
     "output_type": "stream",
     "text": [
      "0\n"
     ]
    }
   ],
   "source": [
    "k=[7,6,4,3,1]\n",
    "m=k[0]\n",
    "l=0\n",
    "for i,j in enumerate(k):\n",
    "    if m>j:\n",
    "        m=j\n",
    "        l=i\n",
    "stock=0\n",
    "for i in k[l:]:\n",
    "    stock1=i-m\n",
    "    if stock1>=stock:\n",
    "        stock=stock1\n",
    "        \n",
    "print(stock)   \n",
    "    \n"
   ]
  },
  {
   "cell_type": "code",
   "execution_count": 64,
   "id": "d187d30e",
   "metadata": {},
   "outputs": [
    {
     "name": "stdout",
     "output_type": "stream",
     "text": [
      "[[0, 3], [4, 5], [5, 6], [7, 8]]\n"
     ]
    }
   ],
   "source": [
    "k=[0,1,2,4,5,7]\n",
    "\n",
    "\n",
    "s=k[0]\n",
    "m=k[1]\n",
    "l=[]\n",
    "len1=len(K)\n",
    "for i in range(len1):\n",
    "    ex=k[i]+1\n",
    "    if ex==m:\n",
    "        m=k[i+2]\n",
    "    else:\n",
    "        l1=[s,ex]\n",
    "        l.append(l1)\n",
    "        if (i+1)<len1:\n",
    "            #print([i+1])\n",
    "            s=k[i+1]\n",
    "        elif (i+2)<len1:\n",
    "            m=k[i+2]\n",
    "print(l)    \n",
    "        \n",
    "    "
   ]
  },
  {
   "cell_type": "code",
   "execution_count": 68,
   "id": "35ba0e03",
   "metadata": {},
   "outputs": [
    {
     "name": "stdout",
     "output_type": "stream",
     "text": [
      "1 1\n",
      "2 2\n",
      "4 3\n",
      "5 5\n",
      "7 6\n",
      "['0->2', '4->5', '7']\n"
     ]
    }
   ],
   "source": [
    "def summary_ranges(nums):\n",
    "    if not nums:\n",
    "        return []\n",
    "    \n",
    "    ranges = []\n",
    "    start = nums[0]\n",
    "    \n",
    "    for i in range(1, len(nums)):\n",
    "        print(nums[i],nums[i-1] + 1)\n",
    "        \n",
    "        if nums[i] != nums[i-1] + 1:\n",
    "            end = nums[i-1]\n",
    "            if start == end:\n",
    "                ranges.append(f\"{start}\")\n",
    "            else:\n",
    "                ranges.append(f\"{start}->{end}\")\n",
    "            start = nums[i]\n",
    "    \n",
    "    # Handle the last range\n",
    "    if start == nums[-1]:\n",
    "        ranges.append(f\"{start}\")\n",
    "    else:\n",
    "        ranges.append(f\"{start}->{nums[-1]}\")\n",
    "    \n",
    "    return ranges\n",
    "\n",
    "# Example usage:\n",
    "print(summary_ranges([0,1,2,4,5,7]))  # Output: [\"0->2\",\"4->5\",\"7\"]\n",
    "#print(summary_ranges([0,2,3,4,6,8,9]))  # Output: [\"0\",\"2->4\",\"6\",\"8->9\"]\n"
   ]
  },
  {
   "cell_type": "code",
   "execution_count": 71,
   "id": "e4ded45c",
   "metadata": {},
   "outputs": [
    {
     "name": "stdout",
     "output_type": "stream",
     "text": [
      "6\n",
      "1 1\n",
      "2 2\n",
      "4 3\n",
      "5 5\n",
      "7 6\n",
      "['0->2', '4->5']\n"
     ]
    }
   ],
   "source": [
    "nums=[0,1,2,4,5,7]\n",
    "\n",
    "ranges = []\n",
    "start = nums[0]\n",
    "len1=len(nums)\n",
    "print(len1)\n",
    "for i in range(1,len1 ):\n",
    "    print( nums[i], nums[i-1] + 1)\n",
    "    if nums[i] != nums[i-1] + 1:\n",
    "        end = nums[i-1]\n",
    "        if start == end:\n",
    "            ranges.append(f\"{start}\")\n",
    "        else:\n",
    "            ranges.append(f\"{start}->{end}\")\n",
    "        start = nums[i]\n",
    "print(ranges)"
   ]
  },
  {
   "cell_type": "code",
   "execution_count": 2,
   "id": "dc86d96b",
   "metadata": {},
   "outputs": [],
   "source": [
    "def containsNearbyDuplicate(nums, k):\n",
    "    index_map = {}\n",
    "\n",
    "    for i, j in enumerate(nums):\n",
    "        #print(i,j)\n",
    "        print(index_map)\n",
    "        if j in index_map:\n",
    "            print(i,\"-\",index_map[j])\n",
    "            if i - index_map[j] <= k:\n",
    "                return True\n",
    "        index_map[j] = i\n",
    "    return False\n"
   ]
  },
  {
   "cell_type": "code",
   "execution_count": 3,
   "id": "4b478181",
   "metadata": {},
   "outputs": [
    {
     "name": "stdout",
     "output_type": "stream",
     "text": [
      "{}\n",
      "{1: 0}\n",
      "{1: 0, 2: 1}\n",
      "{1: 0, 2: 1, 3: 2}\n",
      "3 - 0\n",
      "{1: 3, 2: 1, 3: 2}\n",
      "4 - 1\n",
      "{1: 3, 2: 4, 3: 2}\n",
      "5 - 2\n",
      "False\n"
     ]
    }
   ],
   "source": [
    "nums=[1,2,3,1,2,3]\n",
    "k=2\n",
    "print(containsNearbyDuplicate(nums, k))"
   ]
  },
  {
   "cell_type": "code",
   "execution_count": 18,
   "id": "2b1a7685",
   "metadata": {},
   "outputs": [
    {
     "name": "stdout",
     "output_type": "stream",
     "text": [
      "false\n"
     ]
    }
   ],
   "source": [
    "l=[1,2,3,1,2,3]\n",
    "k=2\n",
    "di={}\n",
    "\n",
    "for i,j in enumerate (l):\n",
    "    if j in di:\n",
    "        if i-di[j]<=0:\n",
    "            print(\"true\")\n",
    "            break\n",
    "    else:\n",
    "        di[j]=i\n",
    "print(\"false\")\n",
    "        "
   ]
  },
  {
   "cell_type": "code",
   "execution_count": 3,
   "id": "339df32d",
   "metadata": {},
   "outputs": [
    {
     "name": "stdout",
     "output_type": "stream",
     "text": [
      "abc234MM\n"
     ]
    }
   ],
   "source": [
    "a=\"abc234mm\"\n",
    "for i in range(1,len(a)+1):\n",
    "    k=a[-i]\n",
    "    if k.isnumeric():\n",
    "        break\n",
    "    else:\n",
    "        u=k.upper()\n",
    "        a=a.replace(a[-i],u)\n",
    "print(a)\n",
    "    "
   ]
  },
  {
   "cell_type": "code",
   "execution_count": 1,
   "id": "82fe0207-1e35-4cea-9cab-aa9ae502a96f",
   "metadata": {},
   "outputs": [
    {
     "data": {
      "image/jpeg": "[encoded data removed]",
      "text/plain": [
       "<IPython.core.display.Image object>"
      ]
     },
     "metadata": {},
     "output_type": "display_data"
    }
   ],
   "source": [
    "from IPython.display import Image\n",
    "display(Image(filename=\"download.jpg\"))\n"
   ]
  },
  {
   "cell_type": "code",
   "execution_count": 2,
   "id": "2b9b456c-1fd8-481c-90c5-41f83569f593",
   "metadata": {},
   "outputs": [
    {
     "data": {
      "text/plain": [
       "'E2B-S08KN04-WP-C1 2M'"
      ]
     },
     "execution_count": 2,
     "metadata": {},
     "output_type": "execute_result"
    }
   ],
   "source": [
    "k=\"E2B-SO8KN04-WP-C1 2M\"\n",
    "v=k.replace(\"O\",\"0\")\n",
    "v"
   ]
  },
  {
   "cell_type": "code",
   "execution_count": 10,
   "id": "35bdf0d0-f04e-4740-b6bb-8160427c318e",
   "metadata": {},
   "outputs": [
    {
     "name": "stdout",
     "output_type": "stream",
     "text": [
      "all vegtables\n"
     ]
    }
   ],
   "source": [
    "class swiggy:\n",
    "    def __init__(instamart,vegtable, milk, ice,ele):\n",
    "        instamart.chiller=vegtable\n",
    "        instamart.cooler1=milk\n",
    "        instamart.freezer=ice\n",
    "        instamart.hvl1=ele\n",
    "    def icecream(instamart):\n",
    "        print(instamart.freezer)\n",
    "\n",
    "\n",
    "\n",
    "class chiller_room(swiggy):\n",
    "    def vegtable(instamart):\n",
    "        print (instamart.chiller)\n",
    "\n",
    "\n",
    "\n",
    "class cooler_room (chiller_room):\n",
    "    def cooler(instamart):\n",
    "        print(instamart.cooler1)\n",
    "        pass\n",
    "\n",
    "\n",
    "class hvl_room(cooler_room):\n",
    "    def hvl(instamart):\n",
    "        print (instamart.hvl1)\n",
    "        pass\n",
    "    \n",
    "\n",
    "insta= hvl_room('all vegtables',\n",
    "                   'milk, curd, panner',\n",
    "                   'icecream, f-cholate, f,vanilaa, f staberry', \n",
    "                   'electronic product')\n",
    "\n",
    "\n",
    "insta.vegtable()"
   ]
  },
  {
   "cell_type": "code",
   "execution_count": 4,
   "id": "bf819f7e-165f-4627-a955-ad282e6c2fbe",
   "metadata": {},
   "outputs": [
    {
     "name": "stdout",
     "output_type": "stream",
     "text": [
      "electronic product\n"
     ]
    }
   ],
   "source": [
    "class Swiggy:\n",
    "    def __init__(self, vegtable, milk, ice, ele):\n",
    "        self.chiller = vegtable\n",
    "        self.cooler = milk\n",
    "        self.freezer = ice\n",
    "        self.hvl_item = ele  # Rename the attribute to avoid conflict\n",
    "\n",
    "    def icecream(self):\n",
    "        print(self.freezer)\n",
    "\n",
    "\n",
    "class ChillerRoom(Swiggy):\n",
    "    def vegtable(self):\n",
    "        print(self.chiller)\n",
    "\n",
    "\n",
    "class CoolerRoom(ChillerRoom):\n",
    "    def cooler(self):\n",
    "        print(self.cooler)\n",
    "\n",
    "\n",
    "class HVLRoom(CoolerRoom):\n",
    "    def hvl(self):  # No conflict with the renamed attribute\n",
    "        print(self.hvl_item)\n",
    "\n",
    "\n",
    "# Create an instance\n",
    "insta = HVLRoom(\n",
    "    'all vegetables',\n",
    "    'milk, curd, paneer',\n",
    "    'ice cream, f-chocolate, f-vanilla, f-strawberry',\n",
    "    'electronic product'\n",
    ")\n",
    "\n",
    "# Call the method\n",
    "insta.hvl()\n"
   ]
  },
  {
   "cell_type": "code",
   "execution_count": 7,
   "id": "bdddff3b-9cdb-458f-8841-1e6bef6bf1a0",
   "metadata": {},
   "outputs": [
    {
     "name": "stdout",
     "output_type": "stream",
     "text": [
      "Drive!\n",
      "Sail!\n",
      "Fly!\n"
     ]
    }
   ],
   "source": [
    "class Car:\n",
    "  def __init__(self, brand, model):\n",
    "    self.brand = brand\n",
    "    self.model = model\n",
    "\n",
    "  def move(self):\n",
    "    print(\"Drive!\")\n",
    "\n",
    "class Boat:\n",
    "  def __init__(self, brand, model):\n",
    "    self.brand = brand\n",
    "    self.model = model\n",
    "\n",
    "  def move(self):\n",
    "    print(\"Sail!\")\n",
    "\n",
    "class Plane:\n",
    "  def __init__(self, brand, model):\n",
    "    self.brand = brand\n",
    "    self.model = model\n",
    "\n",
    "  def move(self):\n",
    "    print(\"Fly!\")\n",
    "\n",
    "car1 = Car(\"Ford\", \"Mustang\")       #Create a Car object\n",
    "boat1 = Boat(\"Ibiza\", \"Touring 20\") #Create a Boat object\n",
    "plane1 = Plane(\"Boeing\", \"747\")     #Create a Plane object\n",
    "\n",
    "for x in (car1, boat1, plane1):\n",
    "  x.move()"
   ]
  },
  {
   "cell_type": "code",
   "execution_count": 14,
   "id": "24d24bf5-b9c3-4525-8606-e95dd3d7896c",
   "metadata": {},
   "outputs": [
    {
     "name": "stdout",
     "output_type": "stream",
     "text": [
      "Fly!\n"
     ]
    }
   ],
   "source": [
    "plane1"
   ]
  },
  {
   "cell_type": "code",
   "execution_count": null,
   "id": "f42938f1-3e58-44d2-8052-29df01e71ca2",
   "metadata": {},
   "outputs": [],
   "source": []
  },
  {
   "cell_type": "code",
   "execution_count": null,
   "id": "a6830d8a-f30c-40f8-b13f-2f5cc715f08b",
   "metadata": {},
   "outputs": [],
   "source": []
  }
 ],
 "metadata": {
  "kernelspec": {
   "display_name": "Python 3 (ipykernel)",
   "language": "python",
   "name": "python3"
  },
  "language_info": {
   "codemirror_mode": {
    "name": "ipython",
    "version": 3
   },
   "file_extension": ".py",
   "mimetype": "text/x-python",
   "name": "python",
   "nbconvert_exporter": "python",
   "pygments_lexer": "ipython3",
   "version": "3.12.4"
  }
 },
 "nbformat": 4,
 "nbformat_minor": 5
}
